{
 "cells": [
  {
   "cell_type": "code",
   "execution_count": 1,
   "id": "8676d6cb-1179-4fac-be64-0d25f55c8af0",
   "metadata": {},
   "outputs": [
    {
     "name": "stdout",
     "output_type": "stream",
     "text": [
      "20230619\n"
     ]
    }
   ],
   "source": [
    "from vars import *\n",
    "import json\n",
    "import requests\n",
    "from datetime import date\n",
    "from functions import reddit_connection, minio_connection\n",
    "\n",
    "headers = reddit_connection()\n",
    "\n",
    "# Send a GET request to get the hot posts in the \"popular\" subreddit\n",
    "res = requests.get(\"https://oauth.reddit.com/r/popular?limit=100\",\n",
    "                   headers=headers)\n",
    "\n",
    "# Get the JSON data from the response\n",
    "data = res.json()\n",
    "\n",
    "# Convert the JSON data to a string\n",
    "json_data = json.dumps(data)\n",
    "\n",
    "minio_client = minio_connection()\n",
    "\n",
    "file_date = date.today().strftime('%Y%m%d')\n",
    "\n",
    "print(file_date)\n",
    "\n",
    "# # Upload the JSON data to the MinIO bucket\n",
    "# minio_client.put_object(Bucket=minio_bucket,\n",
    "#                      Key=f'bronze/popular_{file_date}.json',\n",
    "#                      Body=json_data.encode('utf-8'))"
   ]
  },
  {
   "cell_type": "code",
   "execution_count": null,
   "id": "25f260d0-9319-4bb7-8327-a3100b66aa9b",
   "metadata": {},
   "outputs": [],
   "source": []
  }
 ],
 "metadata": {
  "kernelspec": {
   "display_name": "Python 3 (ipykernel)",
   "language": "python",
   "name": "python3"
  },
  "language_info": {
   "codemirror_mode": {
    "name": "ipython",
    "version": 3
   },
   "file_extension": ".py",
   "mimetype": "text/x-python",
   "name": "python",
   "nbconvert_exporter": "python",
   "pygments_lexer": "ipython3",
   "version": "3.10.11"
  }
 },
 "nbformat": 4,
 "nbformat_minor": 5
}
