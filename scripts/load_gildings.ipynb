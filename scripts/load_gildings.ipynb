{
 "cells": [
  {
   "cell_type": "code",
   "execution_count": 1,
   "id": "c4a3ee37-22ae-419b-8b7d-55a14758955e",
   "metadata": {},
   "outputs": [],
   "source": [
    "from pyspark.sql import SparkSession\n",
    "from vars import *\n",
    "from datetime import date\n",
    "from functions import loadConfigs\n",
    "import os\n",
    "from pyspark.sql.functions import explode\n",
    "from pyspark.sql.functions import lit\n",
    "from pyspark.sql import functions as F\n",
    "from delta import *\n",
    "\n",
    "# minio credentials\n",
    "minio_endpoint = \"http://minio:9000\"\n",
    "minio_access_key = \"iQekrU3nA33aKktu2GMo\"\n",
    "minio_secret_key = \"1OGQ3m1lWEZVQ31xKfPCKmZVFVb2lXwCorjZr1d1\"\n",
    "minio_region = \"us-east-1\"\n",
    "minio_bucket = \"reddit-datalake\"\n",
    "\n",
    "builder = loadConfigs(SparkSession.builder)\n",
    "spark = configure_spark_with_delta_pip(builder).getOrCreate()"
   ]
  },
  {
   "cell_type": "code",
   "execution_count": 2,
   "id": "377f0005-7ec9-4f25-944d-59479d896527",
   "metadata": {},
   "outputs": [
    {
     "data": {
      "text/html": [
       "<style>pre { white-space: pre !important; }</style>"
      ],
      "text/plain": [
       "<IPython.core.display.HTML object>"
      ]
     },
     "metadata": {},
     "output_type": "display_data"
    }
   ],
   "source": [
    "from IPython.core.display import HTML\n",
    "display(HTML(\"<style>pre { white-space: pre !important; }</style>\"))"
   ]
  },
  {
   "cell_type": "code",
   "execution_count": 3,
   "id": "656fe475-e533-4bde-8caa-1bbdb109eb4f",
   "metadata": {},
   "outputs": [],
   "source": [
    "# today = date.today().strftime('%Y%m%d')\n",
    "today = 20230610\n",
    "\n",
    "input_folder = \"gildings\"\n",
    "input_file = \"gildings\"\n",
    "mode = \"append\"\n",
    "\n",
    "df = spark.read.option(\"header\", \"true\") \\\n",
    "    .parquet(f\"s3a://{minio_bucket}/silver/{input_folder}/{input_file}_{today}\")"
   ]
  },
  {
   "cell_type": "code",
   "execution_count": 4,
   "id": "324f70d3-bbd3-41e1-9002-43f5059c4859",
   "metadata": {
    "scrolled": true
   },
   "outputs": [
    {
     "name": "stdout",
     "output_type": "stream",
     "text": [
      "+-------+--------------------+------+------------------+-----------+---------+-------------+--------+\n",
      "|post_id|              author|gilded|          gildings|gild_silver|gild_gold|gild_platinum|  dateid|\n",
      "+-------+--------------------+------+------------------+-----------+---------+-------------+--------+\n",
      "|145qm88|     Homar-The-Whale|     0|{null, null, null}|       null|     null|         null|20230610|\n",
      "|145qdyb|     FionaWalliceFan|     0|{null, null, null}|       null|     null|         null|20230610|\n",
      "|145na3a|       sunnymushroom|     0|{null, null, null}|       null|     null|         null|20230610|\n",
      "|145simo|        shodaimezack|     0|{null, null, null}|       null|     null|         null|20230610|\n",
      "|145l0wp|  povitryana_tryvoga|     0|{null, null, null}|       null|     null|         null|20230610|\n",
      "|145f0u1|             AFoxGuy|     0|{null, null, null}|       null|     null|         null|20230610|\n",
      "|145g3bh|            chris_ro|     0|{null, null, null}|       null|     null|         null|20230610|\n",
      "|145jkb7|Subject-Property-343|     0|{null, null, null}|       null|     null|         null|20230610|\n",
      "|145ma9e|     Sonny_McClain89|     1|   {null, 1, null}|       null|        1|         null|20230610|\n",
      "|145wt5l|            Alpal487|     0|{null, null, null}|       null|     null|         null|20230610|\n",
      "|145wxlk|SpiritedJuggernaut56|     0|{null, null, null}|       null|     null|         null|20230610|\n",
      "|145uw82|       TotalSpaceNut|     0|{null, null, null}|       null|     null|         null|20230610|\n",
      "|145o0k5|      SuperNothing90|     0|{null, null, null}|       null|     null|         null|20230610|\n",
      "|145hyey|         sussywanker|     2|         {1, 2, 2}|          1|        2|            2|20230610|\n",
      "|145twjb|          MahdeenSky|     0|{null, null, null}|       null|     null|         null|20230610|\n",
      "|145mlwj|  ReallyJustTheFacts|     2|   {null, 2, null}|       null|        2|         null|20230610|\n",
      "|145ghvn|      StarKiller-117|     0|{null, null, null}|       null|     null|         null|20230610|\n",
      "|145po4z|         lemonshanty|     2|      {1, 2, null}|          1|        2|         null|20230610|\n",
      "|145mwtd|       EmmanuelMoyta|     0|{null, null, null}|       null|     null|         null|20230610|\n",
      "|145mylf|  superphuntimeyahok|     1|   {null, 1, null}|       null|        1|         null|20230610|\n",
      "+-------+--------------------+------+------------------+-----------+---------+-------------+--------+\n",
      "only showing top 20 rows\n",
      "\n"
     ]
    }
   ],
   "source": [
    "df.show()"
   ]
  },
  {
   "cell_type": "code",
   "execution_count": 5,
   "id": "28ea942d-ffdf-4ed4-ab20-cdf4cc0754ec",
   "metadata": {},
   "outputs": [
    {
     "name": "stdout",
     "output_type": "stream",
     "text": [
      "root\n",
      " |-- post_id: string (nullable = true)\n",
      " |-- author: string (nullable = true)\n",
      " |-- gilded: long (nullable = true)\n",
      " |-- gildings: struct (nullable = true)\n",
      " |    |-- gid_1: long (nullable = true)\n",
      " |    |-- gid_2: long (nullable = true)\n",
      " |    |-- gid_3: long (nullable = true)\n",
      " |-- gild_silver: long (nullable = true)\n",
      " |-- gild_gold: long (nullable = true)\n",
      " |-- gild_platinum: long (nullable = true)\n",
      " |-- dateid: string (nullable = true)\n",
      "\n"
     ]
    }
   ],
   "source": [
    "df.printSchema()"
   ]
  },
  {
   "cell_type": "code",
   "execution_count": 6,
   "id": "14f6d21c-84aa-4d87-8438-a47780578e88",
   "metadata": {},
   "outputs": [],
   "source": [
    "author_df = df.groupBy(\"author\").agg(\n",
    "    F.sum(\"gild_silver\").alias(\"total_gild_silver\"),\n",
    "    F.sum(\"gild_gold\").alias(\"total_gild_gold\"),\n",
    "    F.sum(\"gild_platinum\").alias(\"total_gild_platinum\")\n",
    ")"
   ]
  },
  {
   "cell_type": "code",
   "execution_count": 7,
   "id": "23c6a3a3-589a-464c-b4c1-986aa183c433",
   "metadata": {},
   "outputs": [
    {
     "name": "stdout",
     "output_type": "stream",
     "text": [
      "+--------------------+-----------------+---------------+-------------------+\n",
      "|              author|total_gild_silver|total_gild_gold|total_gild_platinum|\n",
      "+--------------------+-----------------+---------------+-------------------+\n",
      "|         sussywanker|                1|              2|                  2|\n",
      "|     PoopyMcAllister|             null|           null|               null|\n",
      "|      TrixoftheTrade|             null|           null|               null|\n",
      "|        cooladriyana|             null|           null|               null|\n",
      "|         lDeathWlshl|             null|           null|               null|\n",
      "|              _alco_|                2|              5|                  1|\n",
      "|Exciting_Potato_6717|             null|           null|               null|\n",
      "|           jplodders|             null|              1|                  1|\n",
      "|          qingfengdi|             null|           null|               null|\n",
      "|         BigHoneyBot|             null|           null|               null|\n",
      "|         transfusayp|             null|           null|               null|\n",
      "|      westcoastcdn19|             null|              4|                  1|\n",
      "|      Unhappy_Earth1|             null|           null|               null|\n",
      "|           Joseki100|             null|           null|               null|\n",
      "| ImAWrestlingMachine|             null|           null|               null|\n",
      "|         TownIdiot25|             null|           null|               null|\n",
      "|         lemonshanty|                1|              2|               null|\n",
      "|          Shark-Tail|             null|           null|               null|\n",
      "|            Alpal487|             null|           null|               null|\n",
      "|           sleazyT69|             null|           null|               null|\n",
      "+--------------------+-----------------+---------------+-------------------+\n",
      "only showing top 20 rows\n",
      "\n"
     ]
    }
   ],
   "source": [
    "author_df.show()"
   ]
  },
  {
   "cell_type": "code",
   "execution_count": 8,
   "id": "4c8d490b-1a44-4b3d-8461-51a8170e8826",
   "metadata": {},
   "outputs": [],
   "source": [
    "author_df = author_df.withColumn(\n",
    "    'total_gildings',\n",
    "    F.col('total_gild_silver') + F.col('total_gild_gold') + F.col('total_gild_platinum')\n",
    ").orderBy('total_gildings',ascending=False)"
   ]
  },
  {
   "cell_type": "code",
   "execution_count": 9,
   "id": "7da3b7fd-f76a-43c2-84b4-f55632352446",
   "metadata": {},
   "outputs": [
    {
     "name": "stdout",
     "output_type": "stream",
     "text": [
      "+--------------------+-----------------+---------------+-------------------+--------------+\n",
      "|              author|total_gild_silver|total_gild_gold|total_gild_platinum|total_gildings|\n",
      "+--------------------+-----------------+---------------+-------------------+--------------+\n",
      "|            TitusRex|                1|             18|                  8|            27|\n",
      "|              _alco_|                2|              5|                  1|             8|\n",
      "|          OBLIVIATER|                1|              5|                  2|             8|\n",
      "|         sussywanker|                1|              2|                  2|             5|\n",
      "|     PoopyMcAllister|             null|           null|               null|          null|\n",
      "|      TrixoftheTrade|             null|           null|               null|          null|\n",
      "|        cooladriyana|             null|           null|               null|          null|\n",
      "|         lDeathWlshl|             null|           null|               null|          null|\n",
      "|Exciting_Potato_6717|             null|           null|               null|          null|\n",
      "|           jplodders|             null|              1|                  1|          null|\n",
      "|          qingfengdi|             null|           null|               null|          null|\n",
      "|         BigHoneyBot|             null|           null|               null|          null|\n",
      "|         transfusayp|             null|           null|               null|          null|\n",
      "|      westcoastcdn19|             null|              4|                  1|          null|\n",
      "|      Unhappy_Earth1|             null|           null|               null|          null|\n",
      "|           Joseki100|             null|           null|               null|          null|\n",
      "| ImAWrestlingMachine|             null|           null|               null|          null|\n",
      "|         TownIdiot25|             null|           null|               null|          null|\n",
      "|         lemonshanty|                1|              2|               null|          null|\n",
      "|          Shark-Tail|             null|           null|               null|          null|\n",
      "+--------------------+-----------------+---------------+-------------------+--------------+\n",
      "only showing top 20 rows\n",
      "\n"
     ]
    }
   ],
   "source": [
    "author_df.show()"
   ]
  },
  {
   "cell_type": "code",
   "execution_count": 10,
   "id": "cffb7a8e-0dd4-4085-93fb-ae5259f8e32c",
   "metadata": {},
   "outputs": [],
   "source": [
    "post_df = df.groupBy(\"post_id\").agg(\n",
    "    F.sum(\"gild_silver\").alias(\"total_gild_silver\"),\n",
    "    F.sum(\"gild_gold\").alias(\"total_gild_gold\"),\n",
    "    F.sum(\"gild_platinum\").alias(\"total_gild_platinum\")\n",
    ")"
   ]
  },
  {
   "cell_type": "code",
   "execution_count": 11,
   "id": "0560e324-0c0e-412a-a7bc-d6ffbe32d11d",
   "metadata": {},
   "outputs": [],
   "source": [
    "post_df = post_df.withColumn(\n",
    "    'total_gildings',\n",
    "    F.col('total_gild_silver') + F.col('total_gild_gold') + F.col('total_gild_platinum')\n",
    ")"
   ]
  },
  {
   "cell_type": "code",
   "execution_count": 12,
   "id": "6bb49229-128e-43d1-a4b3-4655da7c2028",
   "metadata": {},
   "outputs": [
    {
     "name": "stdout",
     "output_type": "stream",
     "text": [
      "+-------+-----------------+---------------+-------------------+--------------+\n",
      "|post_id|total_gild_silver|total_gild_gold|total_gild_platinum|total_gildings|\n",
      "+-------+-----------------+---------------+-------------------+--------------+\n",
      "|145efj4|                1|             18|                  8|            27|\n",
      "|145ea4f|                2|              5|                  1|             8|\n",
      "|145vns0|                1|              5|                  2|             8|\n",
      "|145hyey|                1|              2|                  2|             5|\n",
      "|145ji4h|             null|           null|               null|          null|\n",
      "|145t1sa|             null|           null|               null|          null|\n",
      "|145nhgv|             null|           null|               null|          null|\n",
      "|145opim|             null|           null|               null|          null|\n",
      "|145p0w0|             null|           null|               null|          null|\n",
      "|145bv3e|             null|           null|               null|          null|\n",
      "|145jkb7|             null|           null|               null|          null|\n",
      "|145qm88|             null|           null|               null|          null|\n",
      "|145itkw|             null|           null|               null|          null|\n",
      "|145c2hv|             null|              1|               null|          null|\n",
      "|1457yf4|             null|           null|               null|          null|\n",
      "|145ull1|             null|           null|               null|          null|\n",
      "|145svjh|             null|           null|               null|          null|\n",
      "|145mytr|             null|              1|               null|          null|\n",
      "|145vj1u|             null|           null|               null|          null|\n",
      "|145o0k5|             null|           null|               null|          null|\n",
      "+-------+-----------------+---------------+-------------------+--------------+\n",
      "only showing top 20 rows\n",
      "\n"
     ]
    }
   ],
   "source": [
    "post_df.orderBy('total_gildings',ascending=False).show()"
   ]
  },
  {
   "cell_type": "code",
   "execution_count": 13,
   "id": "729981c8-7d02-48a3-80e0-99dbc7b4ff38",
   "metadata": {},
   "outputs": [],
   "source": [
    "from pyspark.sql.functions import current_date, date_format\n",
    "\n",
    "author_df = author_df.withColumn(\"updated_at\", date_format(current_date(), \"yyyyMMdd\"))"
   ]
  },
  {
   "cell_type": "code",
   "execution_count": 14,
   "id": "d5e4026b-9ee8-4017-8f89-01617b8ed822",
   "metadata": {},
   "outputs": [
    {
     "name": "stdout",
     "output_type": "stream",
     "text": [
      "+--------------------+-----------------+---------------+-------------------+--------------+----------+\n",
      "|              author|total_gild_silver|total_gild_gold|total_gild_platinum|total_gildings|updated_at|\n",
      "+--------------------+-----------------+---------------+-------------------+--------------+----------+\n",
      "|            TitusRex|                1|             18|                  8|            27|  20230611|\n",
      "|              _alco_|                2|              5|                  1|             8|  20230611|\n",
      "|          OBLIVIATER|                1|              5|                  2|             8|  20230611|\n",
      "|         sussywanker|                1|              2|                  2|             5|  20230611|\n",
      "|     PoopyMcAllister|             null|           null|               null|          null|  20230611|\n",
      "|      TrixoftheTrade|             null|           null|               null|          null|  20230611|\n",
      "|        cooladriyana|             null|           null|               null|          null|  20230611|\n",
      "|         lDeathWlshl|             null|           null|               null|          null|  20230611|\n",
      "|Exciting_Potato_6717|             null|           null|               null|          null|  20230611|\n",
      "|           jplodders|             null|              1|                  1|          null|  20230611|\n",
      "|          qingfengdi|             null|           null|               null|          null|  20230611|\n",
      "|         BigHoneyBot|             null|           null|               null|          null|  20230611|\n",
      "|         transfusayp|             null|           null|               null|          null|  20230611|\n",
      "|      westcoastcdn19|             null|              4|                  1|          null|  20230611|\n",
      "|      Unhappy_Earth1|             null|           null|               null|          null|  20230611|\n",
      "|           Joseki100|             null|           null|               null|          null|  20230611|\n",
      "| ImAWrestlingMachine|             null|           null|               null|          null|  20230611|\n",
      "|         TownIdiot25|             null|           null|               null|          null|  20230611|\n",
      "|         lemonshanty|                1|              2|               null|          null|  20230611|\n",
      "|          Shark-Tail|             null|           null|               null|          null|  20230611|\n",
      "+--------------------+-----------------+---------------+-------------------+--------------+----------+\n",
      "only showing top 20 rows\n",
      "\n"
     ]
    }
   ],
   "source": [
    "author_df.show()"
   ]
  },
  {
   "cell_type": "code",
   "execution_count": 15,
   "id": "49868c83-d62b-4357-8bd6-60c3665581fe",
   "metadata": {
    "scrolled": true
   },
   "outputs": [
    {
     "data": {
      "text/plain": [
       "['author',\n",
       " 'total_gild_silver',\n",
       " 'total_gild_gold',\n",
       " 'total_gild_platinum',\n",
       " 'total_gildings',\n",
       " 'updated_at']"
      ]
     },
     "execution_count": 15,
     "metadata": {},
     "output_type": "execute_result"
    }
   ],
   "source": [
    "author_df.columns"
   ]
  },
  {
   "cell_type": "code",
   "execution_count": 16,
   "id": "c56c8785-6963-4b77-b23b-495a37cb786c",
   "metadata": {},
   "outputs": [],
   "source": [
    "output_folder = \"author_gildings\"\n",
    "output_file = \"author_gildings\""
   ]
  },
  {
   "cell_type": "code",
   "execution_count": 18,
   "id": "f6123a4f-792f-4a9c-a3a8-4c68e5d88baa",
   "metadata": {},
   "outputs": [],
   "source": [
    "author_df.write.format(\"delta\").mode(\"overwrite\").save(f\"s3a://{minio_bucket}/gold/{output_folder}/{output_file}_{today}\")"
   ]
  },
  {
   "cell_type": "code",
   "execution_count": null,
   "id": "fc7a34bc-4361-4bad-a9ba-a650b1b0cd06",
   "metadata": {},
   "outputs": [],
   "source": []
  }
 ],
 "metadata": {
  "kernelspec": {
   "display_name": "Python 3 (ipykernel)",
   "language": "python",
   "name": "python3"
  },
  "language_info": {
   "codemirror_mode": {
    "name": "ipython",
    "version": 3
   },
   "file_extension": ".py",
   "mimetype": "text/x-python",
   "name": "python",
   "nbconvert_exporter": "python",
   "pygments_lexer": "ipython3",
   "version": "3.10.11"
  }
 },
 "nbformat": 4,
 "nbformat_minor": 5
}
