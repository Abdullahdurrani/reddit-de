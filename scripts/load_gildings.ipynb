{
 "cells": [
  {
   "cell_type": "code",
   "execution_count": 9,
   "id": "c4a3ee37-22ae-419b-8b7d-55a14758955e",
   "metadata": {},
   "outputs": [],
   "source": [
    "from pyspark.sql import SparkSession\n",
    "from vars import *\n",
    "from datetime import date\n",
    "from functions import loadConfigs\n",
    "import os\n",
    "from pyspark.sql.functions import explode\n",
    "from pyspark.sql.functions import lit\n",
    "from pyspark.sql import functions as F\n",
    "from delta import *\n",
    "\n",
    "# minio credentials\n",
    "minio_endpoint = \"http://minio:9000\"\n",
    "minio_access_key = \"iQekrU3nA33aKktu2GMo\"\n",
    "minio_secret_key = \"1OGQ3m1lWEZVQ31xKfPCKmZVFVb2lXwCorjZr1d1\"\n",
    "minio_region = \"us-east-1\"\n",
    "minio_bucket = \"reddit-datalake\"\n",
    "\n",
    "builder = loadConfigs(SparkSession.builder)\n",
    "spark = configure_spark_with_delta_pip(builder).getOrCreate()"
   ]
  },
  {
   "cell_type": "code",
   "execution_count": 10,
   "id": "377f0005-7ec9-4f25-944d-59479d896527",
   "metadata": {},
   "outputs": [
    {
     "data": {
      "text/html": [
       "<style>pre { white-space: pre !important; }</style>"
      ],
      "text/plain": [
       "<IPython.core.display.HTML object>"
      ]
     },
     "metadata": {},
     "output_type": "display_data"
    }
   ],
   "source": [
    "from IPython.core.display import HTML\n",
    "display(HTML(\"<style>pre { white-space: pre !important; }</style>\"))"
   ]
  },
  {
   "cell_type": "code",
   "execution_count": 20,
   "id": "656fe475-e533-4bde-8caa-1bbdb109eb4f",
   "metadata": {},
   "outputs": [],
   "source": [
    "# today = date.today().strftime('%Y%m%d')\n",
    "today = 20230610\n",
    "\n",
    "input_folder = \"gildings\"\n",
    "input_file = \"gildings\"\n",
    "mode = \"append\"\n",
    "\n",
    "df = spark.read.option(\"header\", \"true\") \\\n",
    "    .parquet(f\"s3a://{minio_bucket}/silver/{input_folder}/{input_file}_{today}\")"
   ]
  },
  {
   "cell_type": "code",
   "execution_count": 21,
   "id": "324f70d3-bbd3-41e1-9002-43f5059c4859",
   "metadata": {},
   "outputs": [
    {
     "name": "stdout",
     "output_type": "stream",
     "text": [
      "+-------+-------------------+------+------------------+-----------+---------+-------------+--------+-----+------------+--------------------+--------+\n",
      "|post_id|             author|gilded|          gildings|gild_silver|gild_gold|gild_platinum|is_video|score|subreddit_id|           subreddit|  dateid|\n",
      "+-------+-------------------+------+------------------+-----------+---------+-------------+--------+-----+------------+--------------------+--------+\n",
      "|145hgit|TheUndeadGunslinger|     1|      {1, 1, null}|          1|        1|         null|   false|20451|    t5_2qh03|              gaming|20230610|\n",
      "|145hijg|     yycsoftwaredev|     0|{null, null, null}|       null|     null|         null|   false| 3123|    t5_2qh68|              canada|20230610|\n",
      "|145uv3p|            esberat|     0|{null, null, null}|       null|     null|         null|    true| 5147|    t5_qir9n|               HolUp|20230610|\n",
      "|145owhy|        BigHoneyBot|     0|{null, null, null}|       null|     null|         null|   false|  830|    t5_2segs|       denvernuggets|20230610|\n",
      "|14571he|      zazzlekdazzle|     0|{null, null, null}|       null|     null|         null|   false|19176|    t5_2s5oq|         LifeProTips|20230610|\n",
      "|145g6gz|             they63|     0|{null, null, null}|       null|     null|         null|   false|13608|    t5_3jp3p|   LeopardsAteMyFace|20230610|\n",
      "|145up4j|      MarthaFarcuss|     0|{null, null, null}|       null|     null|         null|    true| 5227|    t5_3cs2l|            fuckcars|20230610|\n",
      "|145twjb|         MahdeenSky|     0|{null, null, null}|       null|     null|         null|    true| 3925|   t5_2cxozx|       discordVideos|20230610|\n",
      "|145p0w0|        lonelymills|     0|{null, null, null}|       null|     null|         null|   false|10238|    t5_48t85|         rareinsults|20230610|\n",
      "|145opim|         Shark-Tail|     0|{null, null, null}|       null|     null|         null|   false| 2320|    t5_38jf0|      LivestreamFail|20230610|\n",
      "|145ghvn|     StarKiller-117|     0|{null, null, null}|       null|     null|         null|   false| 4348|    t5_2qqt8|              batman|20230610|\n",
      "|145oa5r|       Seraphenigma|     0|{null, null, null}|       null|     null|         null|    true|10892|    t5_2tycb|       OldSchoolCool|20230610|\n",
      "|145vdyv|            benp242|     0|{null, null, null}|       null|     null|         null|   false| 3846|    t5_3gcwj|      wholesomememes|20230610|\n",
      "|145rbsd|        Kammler1944|     0|{null, null, null}|       null|     null|         null|    true|13095|   t5_45hae8|  CrazyFuckingVideos|20230610|\n",
      "|1455jwd|          demonya99|     0|{null, null, null}|       null|     null|         null|    true|20671|    t5_3jj03|iamatotalpieceofshit|20230610|\n",
      "|145f0u1|            AFoxGuy|     0|{null, null, null}|       null|     null|         null|   false|14820|    t5_2qh1f|               apple|20230610|\n",
      "|1459rr0|          Joseki100|     0|{null, null, null}|       null|     null|         null|   false| 4752|    t5_3h47q|      NintendoSwitch|20230610|\n",
      "|145uckp|            brylex1|     0|{null, null, null}|       null|     null|         null|   false| 3999|    t5_2usxq|         shitposting|20230610|\n",
      "|145prpm|      xXthe_beansXx|     1|   {null, 1, null}|       null|        1|         null|   false|18833|    t5_35n7t|  WhitePeopleTwitter|20230610|\n",
      "|145lm8q|         WredditMod|     0|{null, null, null}|       null|     null|         null|   false| 2790|    t5_2sljg|       SquaredCircle|20230610|\n",
      "+-------+-------------------+------+------------------+-----------+---------+-------------+--------+-----+------------+--------------------+--------+\n",
      "only showing top 20 rows\n",
      "\n"
     ]
    }
   ],
   "source": [
    "df.show()"
   ]
  },
  {
   "cell_type": "code",
   "execution_count": 22,
   "id": "14f6d21c-84aa-4d87-8438-a47780578e88",
   "metadata": {},
   "outputs": [],
   "source": [
    "author_df = df.groupBy(\"author\",\"subreddit_id\",\"subreddit\").agg(\n",
    "    F.sum(\"gild_silver\").alias(\"total_gild_silver\"),\n",
    "    F.sum(\"gild_gold\").alias(\"total_gild_gold\"),\n",
    "    F.sum(\"gild_platinum\").alias(\"total_gild_platinum\"),\n",
    "    F.sum(\"score\").alias(\"total_score\")\n",
    ")"
   ]
  },
  {
   "cell_type": "code",
   "execution_count": 23,
   "id": "23c6a3a3-589a-464c-b4c1-986aa183c433",
   "metadata": {},
   "outputs": [
    {
     "name": "stdout",
     "output_type": "stream",
     "text": [
      "+--------------------+------------+-----------------+-----------------+---------------+-------------------+-----------+\n",
      "|              author|subreddit_id|        subreddit|total_gild_silver|total_gild_gold|total_gild_platinum|total_score|\n",
      "+--------------------+------------+-----------------+-----------------+---------------+-------------------+-----------+\n",
      "|           uchman365|    t5_2r5rp|         facepalm|             null|           null|               null|       9702|\n",
      "|  Aware-Vacation6570|   t5_5rj68d|   popculturechat|             null|           null|               null|       4811|\n",
      "|     FionaWalliceFan|    t5_3md1s|     MovieDetails|             null|           null|               null|       7283|\n",
      "|  povitryana_tryvoga|    t5_2v0c6|    CombatFootage|             null|           null|               null|       3683|\n",
      "|            TitusRex|    t5_2to41|             tifu|                1|             18|                  8|      67842|\n",
      "|        cooladriyana|   t5_5tdqj0|          SipsTea|             null|           null|               null|       4258|\n",
      "|        SoylentCreek|    t5_2s7tt|    AdviceAnimals|             null|              3|                  1|      51955|\n",
      "|      StarKiller-117|    t5_2qqt8|           batman|             null|           null|               null|       4348|\n",
      "|              they63|    t5_3jp3p|LeopardsAteMyFace|             null|           null|               null|      13608|\n",
      "|     PoopyMcAllister|    t5_37k29|          ich_iel|             null|           null|               null|       4555|\n",
      "|      SuperNothing90|    t5_2ubgg|mildlyinfuriating|             null|           null|               null|      22910|\n",
      "|             lpiwhdn|    t5_2qh41|           travel|             null|           null|               null|        719|\n",
      "|     Homar-The-Whale|    t5_hw1ju|   cursedcomments|             null|           null|               null|      12752|\n",
      "|   thedarkknight_13_|    t5_2qhsa|interestingasfuck|             null|           null|               null|      11395|\n",
      "|             benp242|    t5_3gcwj|   wholesomememes|             null|           null|               null|       3846|\n",
      "|   YourDogIsMyFriend|    t5_swxxz|      ThatsInsane|             null|           null|               null|      22898|\n",
      "|        ReliableFart|    t5_2qh1i|        AskReddit|             null|           null|               null|       3779|\n",
      "|     TheSpiderLady88|    t5_2tex6|  ProgrammerHumor|             null|           null|               null|      23180|\n",
      "| CarOnMyFuckingFence|    t5_2qhqb|    unitedkingdom|             null|           null|               null|       9672|\n",
      "|Subject-Property-343|    t5_3fmt2|     playboicarti|             null|           null|               null|       1975|\n",
      "+--------------------+------------+-----------------+-----------------+---------------+-------------------+-----------+\n",
      "only showing top 20 rows\n",
      "\n"
     ]
    }
   ],
   "source": [
    "author_df.show()"
   ]
  },
  {
   "cell_type": "code",
   "execution_count": 24,
   "id": "4c8d490b-1a44-4b3d-8461-51a8170e8826",
   "metadata": {},
   "outputs": [],
   "source": [
    "author_df = author_df.withColumn(\n",
    "    'total_gildings',\n",
    "    F.col('total_gild_silver') + F.col('total_gild_gold') + F.col('total_gild_platinum')\n",
    ").orderBy('total_gildings',ascending=False)"
   ]
  },
  {
   "cell_type": "code",
   "execution_count": 25,
   "id": "7da3b7fd-f76a-43c2-84b4-f55632352446",
   "metadata": {},
   "outputs": [
    {
     "name": "stdout",
     "output_type": "stream",
     "text": [
      "+------------------+------------+-----------------+-----------------+---------------+-------------------+-----------+--------------+\n",
      "|            author|subreddit_id|        subreddit|total_gild_silver|total_gild_gold|total_gild_platinum|total_score|total_gildings|\n",
      "+------------------+------------+-----------------+-----------------+---------------+-------------------+-----------+--------------+\n",
      "|          TitusRex|    t5_2to41|             tifu|                1|             18|                  8|      67842|            27|\n",
      "|        OBLIVIATER|    t5_2qh1e|           videos|                1|              5|                  2|      14796|             8|\n",
      "|            _alco_|    t5_2qh3v|           bestof|                2|              5|                  1|      61604|             8|\n",
      "|       sussywanker|    t5_2qh16|       technology|                1|              2|                  2|      69008|             5|\n",
      "|         uchman365|    t5_2r5rp|         facepalm|             null|           null|               null|       9702|          null|\n",
      "|Aware-Vacation6570|   t5_5rj68d|   popculturechat|             null|           null|               null|       4811|          null|\n",
      "|   FionaWalliceFan|    t5_3md1s|     MovieDetails|             null|           null|               null|       7283|          null|\n",
      "|povitryana_tryvoga|    t5_2v0c6|    CombatFootage|             null|           null|               null|       3683|          null|\n",
      "|      cooladriyana|   t5_5tdqj0|          SipsTea|             null|           null|               null|       4258|          null|\n",
      "|      SoylentCreek|    t5_2s7tt|    AdviceAnimals|             null|              3|                  1|      51955|          null|\n",
      "|    StarKiller-117|    t5_2qqt8|           batman|             null|           null|               null|       4348|          null|\n",
      "|            they63|    t5_3jp3p|LeopardsAteMyFace|             null|           null|               null|      13608|          null|\n",
      "|   PoopyMcAllister|    t5_37k29|          ich_iel|             null|           null|               null|       4555|          null|\n",
      "|    SuperNothing90|    t5_2ubgg|mildlyinfuriating|             null|           null|               null|      22910|          null|\n",
      "|           lpiwhdn|    t5_2qh41|           travel|             null|           null|               null|        719|          null|\n",
      "|   Homar-The-Whale|    t5_hw1ju|   cursedcomments|             null|           null|               null|      12752|          null|\n",
      "| thedarkknight_13_|    t5_2qhsa|interestingasfuck|             null|           null|               null|      11395|          null|\n",
      "|           benp242|    t5_3gcwj|   wholesomememes|             null|           null|               null|       3846|          null|\n",
      "| YourDogIsMyFriend|    t5_swxxz|      ThatsInsane|             null|           null|               null|      22898|          null|\n",
      "|      ReliableFart|    t5_2qh1i|        AskReddit|             null|           null|               null|       3779|          null|\n",
      "+------------------+------------+-----------------+-----------------+---------------+-------------------+-----------+--------------+\n",
      "only showing top 20 rows\n",
      "\n"
     ]
    }
   ],
   "source": [
    "author_df.show()"
   ]
  },
  {
   "cell_type": "code",
   "execution_count": 28,
   "id": "4ea8a786-816f-48c7-92fb-8e28e4c30621",
   "metadata": {},
   "outputs": [],
   "source": [
    "from pyspark.sql.functions import current_date, date_format\n",
    "\n",
    "author_df = author_df.withColumn(\"updated_at\", date_format(current_date(), \"yyyyMMdd\"))"
   ]
  },
  {
   "cell_type": "code",
   "execution_count": 29,
   "id": "f9daf908-8698-4d55-8e77-5469d8d15617",
   "metadata": {},
   "outputs": [
    {
     "name": "stdout",
     "output_type": "stream",
     "text": [
      "root\n",
      " |-- author: string (nullable = true)\n",
      " |-- subreddit_id: string (nullable = true)\n",
      " |-- subreddit: string (nullable = true)\n",
      " |-- total_gild_silver: long (nullable = true)\n",
      " |-- total_gild_gold: long (nullable = true)\n",
      " |-- total_gild_platinum: long (nullable = true)\n",
      " |-- total_score: long (nullable = true)\n",
      " |-- total_gildings: long (nullable = true)\n",
      " |-- updated_at: string (nullable = false)\n",
      "\n"
     ]
    }
   ],
   "source": [
    "author_df.printSchema()"
   ]
  },
  {
   "cell_type": "code",
   "execution_count": null,
   "id": "e5e397ea-1a7c-40cf-a794-d7ac0aa5cc75",
   "metadata": {},
   "outputs": [],
   "source": []
  },
  {
   "cell_type": "code",
   "execution_count": 17,
   "id": "cffb7a8e-0dd4-4085-93fb-ae5259f8e32c",
   "metadata": {},
   "outputs": [],
   "source": [
    "post_df = df.groupBy(\"post_id\").agg(\n",
    "    F.sum(\"gild_silver\").alias(\"total_gild_silver\"),\n",
    "    F.sum(\"gild_gold\").alias(\"total_gild_gold\"),\n",
    "    F.sum(\"gild_platinum\").alias(\"total_gild_platinum\")\n",
    ")"
   ]
  },
  {
   "cell_type": "code",
   "execution_count": 11,
   "id": "0560e324-0c0e-412a-a7bc-d6ffbe32d11d",
   "metadata": {},
   "outputs": [],
   "source": [
    "post_df = post_df.withColumn(\n",
    "    'total_gildings',\n",
    "    F.col('total_gild_silver') + F.col('total_gild_gold') + F.col('total_gild_platinum')\n",
    ")"
   ]
  },
  {
   "cell_type": "code",
   "execution_count": 12,
   "id": "6bb49229-128e-43d1-a4b3-4655da7c2028",
   "metadata": {},
   "outputs": [
    {
     "name": "stdout",
     "output_type": "stream",
     "text": [
      "+-------+-----------------+---------------+-------------------+--------------+\n",
      "|post_id|total_gild_silver|total_gild_gold|total_gild_platinum|total_gildings|\n",
      "+-------+-----------------+---------------+-------------------+--------------+\n",
      "|145efj4|                1|             18|                  8|            27|\n",
      "|145ea4f|                2|              5|                  1|             8|\n",
      "|145vns0|                1|              5|                  2|             8|\n",
      "|145hyey|                1|              2|                  2|             5|\n",
      "|145ji4h|             null|           null|               null|          null|\n",
      "|145t1sa|             null|           null|               null|          null|\n",
      "|145nhgv|             null|           null|               null|          null|\n",
      "|145opim|             null|           null|               null|          null|\n",
      "|145p0w0|             null|           null|               null|          null|\n",
      "|145bv3e|             null|           null|               null|          null|\n",
      "|145jkb7|             null|           null|               null|          null|\n",
      "|145qm88|             null|           null|               null|          null|\n",
      "|145itkw|             null|           null|               null|          null|\n",
      "|145c2hv|             null|              1|               null|          null|\n",
      "|1457yf4|             null|           null|               null|          null|\n",
      "|145ull1|             null|           null|               null|          null|\n",
      "|145svjh|             null|           null|               null|          null|\n",
      "|145mytr|             null|              1|               null|          null|\n",
      "|145vj1u|             null|           null|               null|          null|\n",
      "|145o0k5|             null|           null|               null|          null|\n",
      "+-------+-----------------+---------------+-------------------+--------------+\n",
      "only showing top 20 rows\n",
      "\n"
     ]
    }
   ],
   "source": [
    "post_df.orderBy('total_gildings',ascending=False).show()"
   ]
  },
  {
   "cell_type": "code",
   "execution_count": 13,
   "id": "729981c8-7d02-48a3-80e0-99dbc7b4ff38",
   "metadata": {},
   "outputs": [],
   "source": [
    "from pyspark.sql.functions import current_date, date_format\n",
    "\n",
    "author_df = author_df.withColumn(\"updated_at\", date_format(current_date(), \"yyyyMMdd\"))"
   ]
  },
  {
   "cell_type": "code",
   "execution_count": 14,
   "id": "d5e4026b-9ee8-4017-8f89-01617b8ed822",
   "metadata": {},
   "outputs": [
    {
     "name": "stdout",
     "output_type": "stream",
     "text": [
      "+--------------------+-----------------+---------------+-------------------+--------------+----------+\n",
      "|              author|total_gild_silver|total_gild_gold|total_gild_platinum|total_gildings|updated_at|\n",
      "+--------------------+-----------------+---------------+-------------------+--------------+----------+\n",
      "|            TitusRex|                1|             18|                  8|            27|  20230611|\n",
      "|              _alco_|                2|              5|                  1|             8|  20230611|\n",
      "|          OBLIVIATER|                1|              5|                  2|             8|  20230611|\n",
      "|         sussywanker|                1|              2|                  2|             5|  20230611|\n",
      "|     PoopyMcAllister|             null|           null|               null|          null|  20230611|\n",
      "|      TrixoftheTrade|             null|           null|               null|          null|  20230611|\n",
      "|        cooladriyana|             null|           null|               null|          null|  20230611|\n",
      "|         lDeathWlshl|             null|           null|               null|          null|  20230611|\n",
      "|Exciting_Potato_6717|             null|           null|               null|          null|  20230611|\n",
      "|           jplodders|             null|              1|                  1|          null|  20230611|\n",
      "|          qingfengdi|             null|           null|               null|          null|  20230611|\n",
      "|         BigHoneyBot|             null|           null|               null|          null|  20230611|\n",
      "|         transfusayp|             null|           null|               null|          null|  20230611|\n",
      "|      westcoastcdn19|             null|              4|                  1|          null|  20230611|\n",
      "|      Unhappy_Earth1|             null|           null|               null|          null|  20230611|\n",
      "|           Joseki100|             null|           null|               null|          null|  20230611|\n",
      "| ImAWrestlingMachine|             null|           null|               null|          null|  20230611|\n",
      "|         TownIdiot25|             null|           null|               null|          null|  20230611|\n",
      "|         lemonshanty|                1|              2|               null|          null|  20230611|\n",
      "|          Shark-Tail|             null|           null|               null|          null|  20230611|\n",
      "+--------------------+-----------------+---------------+-------------------+--------------+----------+\n",
      "only showing top 20 rows\n",
      "\n"
     ]
    }
   ],
   "source": [
    "author_df.show()"
   ]
  },
  {
   "cell_type": "code",
   "execution_count": 15,
   "id": "49868c83-d62b-4357-8bd6-60c3665581fe",
   "metadata": {},
   "outputs": [
    {
     "data": {
      "text/plain": [
       "['author',\n",
       " 'total_gild_silver',\n",
       " 'total_gild_gold',\n",
       " 'total_gild_platinum',\n",
       " 'total_gildings',\n",
       " 'updated_at']"
      ]
     },
     "execution_count": 15,
     "metadata": {},
     "output_type": "execute_result"
    }
   ],
   "source": [
    "author_df.columns"
   ]
  },
  {
   "cell_type": "code",
   "execution_count": 11,
   "id": "c56c8785-6963-4b77-b23b-495a37cb786c",
   "metadata": {},
   "outputs": [],
   "source": [
    "output_folder = \"author_gildings\"\n",
    "output_file = \"author_gildings\""
   ]
  },
  {
   "cell_type": "code",
   "execution_count": 13,
   "id": "f6123a4f-792f-4a9c-a3a8-4c68e5d88baa",
   "metadata": {},
   "outputs": [],
   "source": [
    "author_df.write.format(\"delta\").mode(\"overwrite\").save(f\"s3a://{minio_bucket}/gold/{output_folder}/{output_file}_{today}\")"
   ]
  },
  {
   "cell_type": "code",
   "execution_count": 19,
   "id": "fc7a34bc-4361-4bad-a9ba-a650b1b0cd06",
   "metadata": {},
   "outputs": [],
   "source": [
    "df = spark.read.option(\"header\", \"true\") \\\n",
    "    .parquet(f\"s3a://{minio_bucket}/silver/popular/popular_{today}\")"
   ]
  },
  {
   "cell_type": "code",
   "execution_count": 20,
   "id": "2d408020-0304-4908-a579-77be42d20656",
   "metadata": {},
   "outputs": [
    {
     "name": "stdout",
     "output_type": "stream",
     "text": [
      "+---------------+--------+--------------------+---------------+--------------+--------+--------+-------+-------------+-------------+---------------+-------------+------------------+-----+------------+------+------+----------+-------+----------------------+----------------+----------+-------+-------------------+------------------+-------+--------+-----+------+----------+---------+------------+--------------+-----------+-------+-----------------------+--------------------+------+------------+----+----------+--------------+-----+-----+--------------------+--------------------+------------+-------+--------+--------------------+------------+-----------------------+---------------------+--------------+--------------+--------------------+--------------------+----------------+---------------------+-----+------------+----------+-------+----------------+----+--------+\n",
      "|approved_at_utc|archived|              author|author_fullname|author_premium|can_gild|category|clicked|      created|  created_utc|discussion_type|distinguished|            domain|downs|      edited|gilded|hidden|hide_score|     id|is_created_from_ads_ui|is_crosspostable|is_gallery|is_meta|is_original_content|is_robot_indexable|is_self|is_video|likes|locked|      name|no_follow|num_comments|num_crossposts|num_reports|over_18|parent_whitelist_status|           permalink|pinned|   post_hint|pwls|quarantine|report_reasons|saved|score|            selftext|       selftext_html|send_replies|spoiler|stickied|           subreddit|subreddit_id|subreddit_name_prefixed|subreddit_subscribers|subreddit_type|suggested_sort|           thumbnail|               title|top_awarded_type|total_awards_received|  ups|upvote_ratio|view_count|visited|whitelist_status| wls|  dateid|\n",
      "+---------------+--------+--------------------+---------------+--------------+--------+--------+-------+-------------+-------------+---------------+-------------+------------------+-----+------------+------+------+----------+-------+----------------------+----------------+----------+-------+-------------------+------------------+-------+--------+-----+------+----------+---------+------------+--------------+-----------+-------+-----------------------+--------------------+------+------------+----+----------+--------------+-----+-----+--------------------+--------------------+------------+-------+--------+--------------------+------------+-----------------------+---------------------+--------------+--------------+--------------------+--------------------+----------------+---------------------+-----+------------+----------+-------+----------------+----+--------+\n",
      "|           null|   false|  Existentialidiot83|    t2_uzm5p0by|         false|    true|    null|  false|1.686371581E9|1.686371581E9|           null|         null|         i.redd.it|    0|       false|     0| false|     false|145qhyw|                 false|            true|      null|  false|              false|              true|  false|   false| null| false|t3_145qhyw|    false|        1027|             4|       null|  false|               some_ads|/r/antiwork/comme...| false|       image|   7|     false|          null|false|15680|                    |                null|        true|  false|   false|            antiwork|    t5_2y77d|             r/antiwork|              2646882|        public|          null|https://b.thumbs....|I don't think thi...|            null|                    1|15680|         0.9|      null|  false|        some_ads|   7|20230610|\n",
      "|           null|   false|        cooladriyana|   t2_9osrit0yy|         false|    true|    null|  false|1.686388752E9|1.686388752E9|           null|         null|         v.redd.it|    0|       false|     0| false|     false|145vipt|                 false|            true|      null|  false|              false|              true|  false|    true| null| false|t3_145vipt|    false|          26|             2|       null|  false|                all_ads|/r/SipsTea/commen...| false|hosted:video|   6|     false|          null|false| 4258|                    |                null|        true|  false|   false|             SipsTea|   t5_5tdqj0|              r/SipsTea|               500190|        public|          null|https://b.thumbs....|     Time travel????|            null|                    0| 4258|        0.97|      null|  false|         all_ads|   6|20230610|\n",
      "|           null|   false|       sunnymushroom|    t2_8qgwbrza|         false|    true|    null|  false|1.686361624E9|1.686361624E9|           null|         null|  en.wikipedia.org|    0|       false|     0| false|     false|145na3a|                 false|            true|      null|  false|              false|              true|  false|   false| null| false|t3_145na3a|    false|         849|             8|       null|  false|                all_ads|/r/todayilearned/...| false|        link|   6|     false|          null|false|31632|                    |                null|        true|  false|   false|       todayilearned|    t5_2qqjc|        r/todayilearned|             31759954|        public|          null|https://b.thumbs....|TIL that Varina D...|            null|                    0|31632|        0.94|      null|  false|         all_ads|   6|20230610|\n",
      "|           null|   false|       Price-x-Field|     t2_j4ss0q1|         false|    true|    null|  false|1.686340795E9|1.686340795E9|           null|         null|         i.redd.it|    0|       false|     0| false|     false|145f571|                 false|            true|      null|  false|              false|              true|  false|   false| null| false|t3_145f571|    false|         487|             1|       null|  false|                all_ads|/r/discordapp/com...| false|       image|   6|     false|          null|false| 3832|                    |                null|       false|  false|   false|          discordapp|    t5_388p4|           r/discordapp|              1065427|        public|          null|https://a.thumbs....|Yesterday I got t...|            null|                    0| 3832|        0.96|      null|  false|         all_ads|   6|20230610|\n",
      "|           null|   false| CarOnMyFuckingFence|    t2_kiwrh8ut|         false|    true|    null|  false|1.686337752E9|1.686337752E9|           null|         null|         bbc.co.uk|    0|       false|     0| false|     false|145dwdw|                 false|            true|      null|  false|              false|              true|  false|   false| null| false|t3_145dwdw|    false|        1902|             6|       null|  false|                all_ads|/r/unitedkingdom/...| false|        link|   6|     false|          null|false| 9672|                    |                null|       false|  false|   false|       unitedkingdom|    t5_2qhqb|        r/unitedkingdom|              1653071|        public|           new|https://b.thumbs....|Boris Johnson ste...|            null|                    0| 9672|        0.96|      null|  false|         all_ads|   6|20230610|\n",
      "|           null|   false|     FionaWalliceFan|       t2_g8nbx|         false|    true|    null|  false|1.686371218E9|1.686371218E9|           null|         null|         i.redd.it|    0|       false|     0| false|     false|145qdyb|                 false|            true|      null|  false|              false|              true|  false|   false| null| false|t3_145qdyb|    false|          76|             2|       null|  false|                all_ads|/r/MovieDetails/c...| false|       image|   6|     false|          null|false| 7283|                    |                null|        true|  false|   false|        MovieDetails|    t5_3md1s|         r/MovieDetails|              4038930|        public|    confidence|https://b.thumbs....|In The Campaign (...|            null|                    0| 7283|        0.97|      null|  false|         all_ads|   6|20230610|\n",
      "|           null|   false|   YourDogIsMyFriend|     t2_my3c9ot|         false|    true|    null|  false|1.686345355E9|1.686345355E9|           null|         null|       i.imgur.com|    0|       false|     0| false|     false|145h2ew|                 false|            true|      null|  false|              false|              true|  false|   false| null| false|t3_145h2ew|    false|        1157|             3|       null|  false|               some_ads|/r/ThatsInsane/co...| false|       image|   7|     false|          null|false|22898|                    |                null|        true|  false|   false|         ThatsInsane|    t5_swxxz|          r/ThatsInsane|              1805976|        public|    confidence|https://b.thumbs....|United States top...|            null|                    0|22898|        0.92|      null|  false|        some_ads|   7|20230610|\n",
      "|           null|   false|       zazzlekdazzle|       t2_4x68b|         false|    true|    null|  false|1.686321603E9|1.686321603E9|           null|         null|  self.LifeProTips|    0|1.68634055E9|     0| false|     false|14571he|                 false|            true|      null|  false|              false|              true|   true|   false| null| false|t3_14571he|    false|         987|             9|       null|  false|                all_ads|/r/LifeProTips/co...| false|        null|   6|     false|          null|false|19176|I know, for many ...|&lt;!-- SC_OFF --...|       false|  false|   false|         LifeProTips|    t5_2s5oq|          r/LifeProTips|             22075741|        public|          null|                self|LPT: When startin...|            null|                    0|19176|        0.89|      null|  false|         all_ads|   6|20230610|\n",
      "|           null|   false|          WredditMod|       t2_p1z5r|         false|    true|    null|  false|1.686356893E9|1.686356893E9|           null|         null|self.SquaredCircle|    0|       false|     0| false|     false|145lm8q|                 false|            true|      null|  false|              false|              true|   true|   false| null| false|t3_145lm8q|    false|        1450|             0|       null|  false|                all_ads|/r/SquaredCircle/...| false|        self|   6|     false|          null|false| 2790|Hello, /r/Squared...|&lt;!-- SC_OFF --...|       false|  false|    true|       SquaredCircle|    t5_2sljg|        r/SquaredCircle|               792717|        public|           new|                self|Folks, we just he...|            null|                    0| 2790|        0.86|      null|  false|         all_ads|   6|20230610|\n",
      "|           null|   false|           Joseki100|       t2_fzzy8|         false|    true|    null|  false|1.686327979E9|1.686327979E9|           null|         null|       twitter.com|    0|       false|     0| false|     false|1459rr0|                 false|            true|      null|  false|              false|              true|  false|   false| null| false|t3_1459rr0|    false|         740|             0|       null|  false|                all_ads|/r/NintendoSwitch...| false|        link|   6|     false|          null|false| 4752|                    |                null|        true|  false|   false|      NintendoSwitch|    t5_3h47q|       r/NintendoSwitch|              4728562|        public|          null|https://a.thumbs....|[Circana] 52% of ...|            null|                    0| 4752|        0.91|      null|  false|         all_ads|   6|20230610|\n",
      "|           null|   false|          MahdeenSky|    t2_3j2sm7b9|         false|    true|    null|  false|1.686383025E9|1.686383025E9|           null|         null|         v.redd.it|    0|       false|     0| false|     false|145twjb|                 false|            true|      null|  false|              false|              true|  false|    true| null| false|t3_145twjb|    false|         111|             0|       null|  false|                all_ads|/r/discordVideos/...| false|hosted:video|   6|     false|          null|false| 3925|                    |                null|        true|  false|   false|       discordVideos|   t5_2cxozx|        r/discordVideos|               335012|        public|          null|https://external-...|                Real|            null|                    0| 3925|        0.95|      null|  false|         all_ads|   6|20230610|\n",
      "|           null|   false|            chris_ro|     t2_jf98fyu|         false|    true|    null|  false|1.686343033E9|1.686343033E9|           null|         null|       i.imgur.com|    0|       false|     0| false|     false|145g3bh|                 false|            true|      null|  false|              false|              true|  false|   false| null| false|t3_145g3bh|    false|         278|             0|       null|  false|               some_ads|/r/assholedesign/...| false|       image|   7|     false|          null|false|11056|                    |                null|        true|  false|   false|       assholedesign|    t5_33o0p|        r/assholedesign|              2978830|        public|          null|https://b.thumbs....|          CEO lying.|            null|                    0|11056|        0.95|      null|  false|        some_ads|   7|20230610|\n",
      "|           null|   false|     BabblingPanther|    t2_k6596p4r|         false|    true|    null|  false|1.686381533E9|1.686381533E9|           null|         null|         v.redd.it|    0|       false|     0| false|     false|145tgul|                 false|            true|      null|  false|              false|              true|  false|    true| null| false|t3_145tgul|    false|         433|             5|       null|  false|                all_ads|/r/funny/comments...| false|hosted:video|   6|     false|          null|false|15618|                    |                null|        true|  false|   false|               funny|    t5_2qh33|                r/funny|             49897915|        public|          null|https://external-...|How to be a good ...|            null|                    0|15618|        0.82|      null|  false|         all_ads|   6|20230610|\n",
      "|           null|   false|       BrotherJannis|    t2_38qt4dxi|         false|    true|    null|  false|1.686360825E9|1.686360825E9|           null|         null|         i.redd.it|    0|       false|     0| false|     false|145n088|                 false|            true|      null|  false|              false|              true|  false|   false| null| false|t3_145n088|    false|         112|             1|       null|  false|               some_ads|/r/BlackPeopleTwi...| false|       image|   7|     false|          null|false|14955|                    |                null|        true|  false|   false|  BlackPeopleTwitter|    t5_33x33|   r/BlackPeopleTwitter|              5644922|        public|           top|https://b.thumbs....|Slept in class mi...|            null|                    0|14955|        0.96|      null|  false|        some_ads|   7|20230610|\n",
      "|           null|   false|           demonya99|      t2_16l9lm|         false|    true|    null|  false| 1.68631797E9| 1.68631797E9|           null|         null|         v.redd.it|    0|       false|     0| false|     false|1455jwd|                 false|            true|      null|  false|              false|              true|  false|    true| null| false|t3_1455jwd|    false|         654|             3|       null|  false|                   null|/r/iamatotalpiece...| false|hosted:video|null|     false|          null|false|20671|                    |                null|        true|  false|   false|iamatotalpieceofshit|    t5_3jj03|   r/iamatotalpieceo...|              2056336|        public|          null|https://external-...|Officer damages p...|            null|                    0|20671|        0.94|      null|  false|            null|null|20230610|\n",
      "|           null|   false|        ReliableFart|   t2_d2pblgke9|         false|    true|    null|  false|1.686360426E9|1.686360426E9|           null|         null|    self.AskReddit|    0|       false|     0| false|     false|145mv8c|                 false|            true|      null|  false|              false|              true|   true|   false| null| false|t3_145mv8c|    false|        6541|             3|       null|  false|                all_ads|/r/AskReddit/comm...| false|        null|   6|     false|          null|false| 3779|                    |                null|       false|  false|   false|           AskReddit|    t5_2qh1i|            r/AskReddit|             41262919|        public|          null|                self|What instantly ru...|            null|                    0| 3779|        0.91|      null|  false|         all_ads|   6|20230610|\n",
      "|           null|   false|             Ad8ya04|   t2_4s1r303f4|         false|    true|    null|  false| 1.68638391E9| 1.68638391E9|           null|         null|         v.redd.it|    0|       false|     0| false|     false|145u5eb|                 false|            true|      null|  false|              false|              true|  false|    true| null| false|t3_145u5eb|    false|         154|             0|       null|  false|                all_ads|/r/formuladank/co...| false|hosted:video|   6|     false|          null|false| 3346|                    |                null|        true|  false|   false|         formuladank|    t5_3ndbi|          r/formuladank|               758624|        public|          null|https://external-...|Don't know how ma...|            null|                    0| 3346|        0.95|      null|  false|         all_ads|   6|20230610|\n",
      "|           null|   false|Raspberries-Are-Evil|      t2_10mbuv|          true|    true|    null|  false|1.686333397E9|1.686333397E9|           null|         null|    abcnews.go.com|    0|       false|     1| false|     false|145c2hv|                 false|            true|      null|  false|              false|              true|  false|   false| null| false|t3_145c2hv|    false|        2766|             4|       null|  false|                all_ads|/r/news/comments/...| false|        link|   6|     false|          null|false|28660|                    |                null|       false|  false|   false|                news|    t5_2qh3l|                 r/news|             26234899|        public|          null|             default|Trump federal ind...|            null|                    3|28660|        0.94|      null|  false|         all_ads|   6|20230610|\n",
      "|           null|   false|         transfusayp|    t2_h2253fh9|         false|    true|    null|  false|1.686379634E9|1.686379634E9|           null|         null|       i.imgur.com|    0|       false|     0| false|     false|145swf7|                 false|            true|      null|  false|              false|              true|  false|   false| null| false|t3_145swf7|    false|         139|             2|       null|  false|                all_ads|/r/technicallythe...| false|       image|   6|     false|          null|false|13538|                    |                null|        true|  false|   false| technicallythetruth|    t5_3pzez|   r/technicallythet...|              2580693|        public|          null|https://b.thumbs....|In the photo that...|            null|                    0|13538|        0.96|      null|  false|         all_ads|   6|20230610|\n",
      "|           null|   false|  ReallyJustTheFacts|    t2_3vun4iy9|          true|    true|    null|  false|1.686359678E9|1.686359678E9|           null|         null|          vice.com|    0|       false|     2| false|     false|145mlwj|                 false|            true|      null|  false|              false|              true|  false|   false| null| false|t3_145mlwj|    false|        2883|             4|       null|  false|                all_ads|/r/politics/comme...| false|        link|   6|     false|          null|false|29882|                    |                null|       false|  false|   false|            politics|    t5_2cneq|             r/politics|              8335317|        public|          null|https://b.thumbs....|Donald Trump’s Ne...|            null|                    8|29882|        0.93|      null|  false|         all_ads|   6|20230610|\n",
      "+---------------+--------+--------------------+---------------+--------------+--------+--------+-------+-------------+-------------+---------------+-------------+------------------+-----+------------+------+------+----------+-------+----------------------+----------------+----------+-------+-------------------+------------------+-------+--------+-----+------+----------+---------+------------+--------------+-----------+-------+-----------------------+--------------------+------+------------+----+----------+--------------+-----+-----+--------------------+--------------------+------------+-------+--------+--------------------+------------+-----------------------+---------------------+--------------+--------------+--------------------+--------------------+----------------+---------------------+-----+------------+----------+-------+----------------+----+--------+\n",
      "only showing top 20 rows\n",
      "\n"
     ]
    }
   ],
   "source": [
    "df.show()"
   ]
  },
  {
   "cell_type": "code",
   "execution_count": 14,
   "id": "3de161e0-db7a-4877-a019-430b3312041c",
   "metadata": {},
   "outputs": [],
   "source": [
    "delta_df = spark.read.format(\"delta\").load(f\"s3a://{minio_bucket}/gold/{output_folder}/{output_file}_{today}\")"
   ]
  },
  {
   "cell_type": "code",
   "execution_count": 15,
   "id": "c091ae95-6540-4737-ba8d-f13f0e39b746",
   "metadata": {},
   "outputs": [
    {
     "name": "stdout",
     "output_type": "stream",
     "text": [
      "+------------------+------------+-----------------+-----------------+---------------+-------------------+--------------+\n",
      "|            author|subreddit_id|        subreddit|total_gild_silver|total_gild_gold|total_gild_platinum|total_gildings|\n",
      "+------------------+------------+-----------------+-----------------+---------------+-------------------+--------------+\n",
      "|          TitusRex|    t5_2to41|             tifu|                1|             18|                  8|            27|\n",
      "|        OBLIVIATER|    t5_2qh1e|           videos|                1|              5|                  2|             8|\n",
      "|            _alco_|    t5_2qh3v|           bestof|                2|              5|                  1|             8|\n",
      "|       sussywanker|    t5_2qh16|       technology|                1|              2|                  2|             5|\n",
      "|         uchman365|    t5_2r5rp|         facepalm|             null|           null|               null|          null|\n",
      "|Aware-Vacation6570|   t5_5rj68d|   popculturechat|             null|           null|               null|          null|\n",
      "|   FionaWalliceFan|    t5_3md1s|     MovieDetails|             null|           null|               null|          null|\n",
      "|povitryana_tryvoga|    t5_2v0c6|    CombatFootage|             null|           null|               null|          null|\n",
      "|      cooladriyana|   t5_5tdqj0|          SipsTea|             null|           null|               null|          null|\n",
      "|      SoylentCreek|    t5_2s7tt|    AdviceAnimals|             null|              3|                  1|          null|\n",
      "|    StarKiller-117|    t5_2qqt8|           batman|             null|           null|               null|          null|\n",
      "|            they63|    t5_3jp3p|LeopardsAteMyFace|             null|           null|               null|          null|\n",
      "|   PoopyMcAllister|    t5_37k29|          ich_iel|             null|           null|               null|          null|\n",
      "|    SuperNothing90|    t5_2ubgg|mildlyinfuriating|             null|           null|               null|          null|\n",
      "|           lpiwhdn|    t5_2qh41|           travel|             null|           null|               null|          null|\n",
      "|   Homar-The-Whale|    t5_hw1ju|   cursedcomments|             null|           null|               null|          null|\n",
      "| thedarkknight_13_|    t5_2qhsa|interestingasfuck|             null|           null|               null|          null|\n",
      "|           benp242|    t5_3gcwj|   wholesomememes|             null|           null|               null|          null|\n",
      "| YourDogIsMyFriend|    t5_swxxz|      ThatsInsane|             null|           null|               null|          null|\n",
      "|      ReliableFart|    t5_2qh1i|        AskReddit|             null|           null|               null|          null|\n",
      "+------------------+------------+-----------------+-----------------+---------------+-------------------+--------------+\n",
      "only showing top 20 rows\n",
      "\n"
     ]
    }
   ],
   "source": [
    "delta_df.show()"
   ]
  },
  {
   "cell_type": "code",
   "execution_count": null,
   "id": "e338379f-7b37-4a31-96c0-97c3e9de1460",
   "metadata": {},
   "outputs": [],
   "source": []
  }
 ],
 "metadata": {
  "kernelspec": {
   "display_name": "Python 3 (ipykernel)",
   "language": "python",
   "name": "python3"
  },
  "language_info": {
   "codemirror_mode": {
    "name": "ipython",
    "version": 3
   },
   "file_extension": ".py",
   "mimetype": "text/x-python",
   "name": "python",
   "nbconvert_exporter": "python",
   "pygments_lexer": "ipython3",
   "version": "3.10.11"
  }
 },
 "nbformat": 4,
 "nbformat_minor": 5
}
