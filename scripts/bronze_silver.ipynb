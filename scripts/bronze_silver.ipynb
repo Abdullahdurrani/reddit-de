{
 "cells": [
  {
   "cell_type": "code",
   "execution_count": 1,
   "id": "9110b515-ae83-4e0c-a329-1a53f9403180",
   "metadata": {},
   "outputs": [
    {
     "data": {
      "text/html": [
       "<style>pre { white-space: pre !important; }</style>"
      ],
      "text/plain": [
       "<IPython.core.display.HTML object>"
      ]
     },
     "metadata": {},
     "output_type": "display_data"
    }
   ],
   "source": [
    "from pyspark.sql import SparkSession\n",
    "from vars import *\n",
    "from datetime import date\n",
    "from functions import loadConfigs\n",
    "import os\n",
    "from pyspark.sql.functions import explode\n",
    "from pyspark.sql.functions import lit\n",
    "from pyspark.sql import functions as F\n",
    "from delta import *\n",
    "\n",
    "# minio credentials\n",
    "minio_endpoint = \"http://minio:9000\"\n",
    "minio_access_key = \"iQekrU3nA33aKktu2GMo\"\n",
    "minio_secret_key = \"1OGQ3m1lWEZVQ31xKfPCKmZVFVb2lXwCorjZr1d1\"\n",
    "minio_region = \"us-east-1\"\n",
    "minio_bucket = \"reddit-datalake\"\n",
    "\n",
    "builder = loadConfigs(SparkSession.builder)\n",
    "spark = configure_spark_with_delta_pip(builder).getOrCreate()\n",
    "\n",
    "from IPython.core.display import HTML\n",
    "display(HTML(\"<style>pre { white-space: pre !important; }</style>\"))"
   ]
  },
  {
   "cell_type": "code",
   "execution_count": 13,
   "id": "dee0cd34-4cbc-4d48-b9bf-94d71451813a",
   "metadata": {},
   "outputs": [],
   "source": [
    "today = date.today().strftime('%Y%m%d')\n",
    "\n",
    "df = spark.read.format(\"delta\").load(f\"s3a://{minio_bucket}/bronze/popular/popular_{today}\")"
   ]
  },
  {
   "cell_type": "code",
   "execution_count": 14,
   "id": "e1e17e4c-6bf8-4cc9-8916-1b939165f42f",
   "metadata": {},
   "outputs": [
    {
     "name": "stdout",
     "output_type": "stream",
     "text": [
      "+--------------------+-------------------+---------------+-----------+--------+--------------------+--------------+-----------------------------+----------------------+---------------------+------------------------+--------------------+-----------------------+-----------------+---------------+-----------------+--------------------+--------------+--------+-------------+---------+--------+------------+--------+-------+------------------+------------+-------------+-------------+---------------+-------------+--------------------+-----+-------------+--------------------+------+------------------+------+----------+-------+----------------------+----------------+----------+-------+-------------------+----------------------+------------------+-------+--------+-----+---------------------------+--------------------+--------------------+----------------------+--------------------+---------------------+---------------+------+--------------------+--------------------+----------+--------+-------------+----------------+-----------+----------+---------+------------+--------------+-----------+-------+-----------------------+--------------------+------+------------+--------------------+----+----------+--------------+----------+-------------------+--------------+-----+------+--------------------+--------------------+--------------------+------------+-------+--------+--------------------+------------+-----------------------+---------------------+--------------+--------------+--------------------+----------------+---------------+--------------------+----------------+---------------------+--------------+------+------------+--------------------+----------------------+------------+----------+-------+----------------+----+--------+\n",
      "|       all_awardings|allow_live_comments|approved_at_utc|approved_by|archived|              author|author_cakeday|author_flair_background_color|author_flair_css_class|author_flair_richtext|author_flair_template_id|   author_flair_text|author_flair_text_color|author_flair_type|author_fullname|author_is_blocked|author_patreon_flair|author_premium|awarders|banned_at_utc|banned_by|can_gild|can_mod_post|category|clicked|content_categories|contest_mode|      created|  created_utc|discussion_type|distinguished|              domain|downs|       edited|        gallery_data|gilded|          gildings|hidden|hide_score|     id|is_created_from_ads_ui|is_crosspostable|is_gallery|is_meta|is_original_content|is_reddit_media_domain|is_robot_indexable|is_self|is_video|likes|link_flair_background_color|link_flair_css_class| link_flair_richtext|link_flair_template_id|     link_flair_text|link_flair_text_color|link_flair_type|locked|               media|      media_metadata|media_only|mod_note|mod_reason_by|mod_reason_title|mod_reports|      name|no_follow|num_comments|num_crossposts|num_reports|over_18|parent_whitelist_status|           permalink|pinned|   post_hint|             preview|pwls|quarantine|removal_reason|removed_by|removed_by_category|report_reasons|saved| score|        secure_media|            selftext|       selftext_html|send_replies|spoiler|stickied|           subreddit|subreddit_id|subreddit_name_prefixed|subreddit_subscribers|subreddit_type|suggested_sort|           thumbnail|thumbnail_height|thumbnail_width|               title|top_awarded_type|total_awards_received|treatment_tags|   ups|upvote_ratio|                 url|url_overridden_by_dest|user_reports|view_count|visited|whitelist_status| wls|  dateid|\n",
      "+--------------------+-------------------+---------------+-----------+--------+--------------------+--------------+-----------------------------+----------------------+---------------------+------------------------+--------------------+-----------------------+-----------------+---------------+-----------------+--------------------+--------------+--------+-------------+---------+--------+------------+--------+-------+------------------+------------+-------------+-------------+---------------+-------------+--------------------+-----+-------------+--------------------+------+------------------+------+----------+-------+----------------------+----------------+----------+-------+-------------------+----------------------+------------------+-------+--------+-----+---------------------------+--------------------+--------------------+----------------------+--------------------+---------------------+---------------+------+--------------------+--------------------+----------+--------+-------------+----------------+-----------+----------+---------+------------+--------------+-----------+-------+-----------------------+--------------------+------+------------+--------------------+----+----------+--------------+----------+-------------------+--------------+-----+------+--------------------+--------------------+--------------------+------------+-------+--------+--------------------+------------+-----------------------+---------------------+--------------+--------------+--------------------+----------------+---------------+--------------------+----------------+---------------------+--------------+------+------------+--------------------+----------------------+------------+----------+-------+----------------+----+--------+\n",
      "|[{PREMIUM, global...|              false|           null|       null|   false|           killHACKS|          null|                      #ffb000|                  null| [{:M:, emoji, nul...|    41b8c06c-1099-11e...| :M::icons8-o-50::D:|                   dark|         richtext|    t2_5tpp3t3u|            false|               false|          true|      []|         null|     null|    true|       false|    null|  false|              null|       false|1.686711987E9|1.686711987E9|           null|    moderator|           i.redd.it|    0|        false|                null|     0|{null, null, null}| false|     false|148wweh|                 false|            true|      null|  false|              false|                  true|              true|  false|   false| null|                           |                null|                  []|                  null|                null|                 dark|           text|  true|                null|                null|     false|    null|         null|            null|         []|t3_148wweh|    false|           2|             8|       null|  false|                all_ads|/r/LifeProTips/co...| false|       image|{true, [{it6Ne57w...|   6|     false|          null|      null|               null|          null|false| 17939|                null|                    |                null|       false|  false|   false|         LifeProTips|    t5_2s5oq|          r/LifeProTips|             22078331|    restricted|    confidence|https://a.thumbs....|             140|            140|Reddit is killing...|            null|                    1|            []| 17939|        0.88|https://i.redd.it...|  https://i.redd.it...|          []|      null|  false|         all_ads|   6|20230614|\n",
      "|                  []|               true|           null|       null|   false|       Ahomelessfish|          null|                         null|                  null|                   []|                    null|                null|                   null|             text|       t2_mujq7|            false|               false|         false|      []|         null|     null|    true|       false|    null|  false|              null|       false| 1.68666681E9| 1.68666681E9|           null|         null|            self.ask|    0|        false|                null|     0|{null, null, null}| false|     false|148gtxw|                 false|            true|      null|  false|              false|                 false|              true|   true|   false| null|                           |                null|                  []|                  null|                null|                 dark|           text| false|                null|                null|     false|    null|         null|            null|         []|t3_148gtxw|    false|        8622|             1|       null|  false|                all_ads|/r/ask/comments/1...| false|        null|                null|   6|     false|          null|      null|               null|          null|false|  6048|                null|I found out today...|&lt;!-- SC_OFF --...|        true|  false|   false|                 ask|    t5_2qhlj|                  r/ask|               476830|        public|          null|                self|            null|           null|Can you truly for...|            null|                    0|            []|  6048|         0.8|https://www.reddi...|                  null|          []|      null|  false|         all_ads|   6|20230614|\n",
      "|[{GLOBAL, global,...|               true|           null|       null|   false|     SpicyThunder335|          null|                         null|                  null|                   []|                    null|                null|                   null|             text|       t2_zfz5o|            false|               false|          true|      []|         null|     null|    true|       false|    null|  false|              null|       false|1.686677396E9|1.686677396E9|           null|    moderator|       self.ModCoord|    0|1.686701089E9|                null|     5|         {2, 5, 5}| false|     false|148ks6u|                 false|            true|      null|  false|              false|                 false|              true|   true|   false| null|                           |                null|                  []|                  null|                null|                 dark|           text| false|                null|                null|     false|    null|         null|            null|         []|t3_148ks6u|    false|        9240|             9|       null|  false|                   null|/r/ModCoord/comme...| false|        self|{false, [{yalspuV...|null|     false|          null|      null|               null|          null|false| 13730|                null|On May 31, 2023, ...|&lt;!-- SC_OFF --...|       false|  false|    true|            ModCoord|   t5_4yrnne|             r/ModCoord|                13744|    restricted|           new|                self|            null|           null|Indefinite Blacko...|            null|                   31|            []| 13730|        0.83|https://www.reddi...|                  null|          []|      null|  false|            null|null|20230614|\n",
      "|[{GLOBAL, global,...|               true|           null|       null|   false|             xdLoqqt|          null|                         null|                  null|                   []|                    null|                null|                   null|             text|    t2_hp53jy62|            false|               false|          true|      []|         null|     null|    true|       false|    null|  false|              null|       false|1.686677509E9|1.686677509E9|           null|         null|      self.AskReddit|    0|        false|                null|     1|   {null, 1, null}| false|     false|148ktvr|                 false|            true|      null|  false|              false|                 false|              true|   true|   false| null|                           |                null|                  []|                  null|                null|                 dark|           text| false|                null|                null|     false|    null|         null|            null|         []|t3_148ktvr|    false|        7614|             1|       null|  false|                all_ads|/r/AskReddit/comm...| false|        null|                null|   6|     false|          null|      null|               null|          null|false|  7363|                null|                    |                null|        true|  false|   false|           AskReddit|    t5_2qh1i|            r/AskReddit|             41362958|        public|          null|                self|            null|           null|Who’s an idiot th...|            null|                    2|            []|  7363|        0.87|https://www.reddi...|                  null|          []|      null|  false|         all_ads|   6|20230614|\n",
      "|[{GLOBAL, global,...|               true|           null|       null|   false|     dobbyisafreepup|          null|                         null|                  null|                   []|                    null|                null|                   null|             text|     t2_pvcpgro|            false|               false|          true|      []|         null|     null|    true|       false|    null|  false|              null|       false|1.686708186E9|1.686708186E9|           null|         null|           i.redd.it|    0|        false|                null|     0|{null, null, null}| false|     false|148vp4m|                 false|            true|      null|  false|              false|                  true|              true|  false|   false| null|                    #7193ff|                null|[{null, text, Clu...|  2491e734-cd17-11e...|           Clubhouse|                 dark|       richtext| false|                null|                null|     false|    null|         null|            null|         []|t3_148vp4m|    false|         973|             3|       null|  false|                   null|/r/WhitePeopleTwi...| false|       image|{true, [{-2H0GqEd...|null|     false|          null|      null|               null|          null|false| 27721|                null|                    |                null|        true|  false|   false|  WhitePeopleTwitter|    t5_35n7t|   r/WhitePeopleTwitter|              2953206|        public|          null|https://b.thumbs....|             137|            140|        Ok Faux News|            null|                    1|            []| 27721|        0.93|https://i.redd.it...|  https://i.redd.it...|          []|      null|  false|            null|null|20230614|\n",
      "|[{PREMIUM, global...|               true|           null|       null|   false|   Picture-unrelated|          null|                         null|           oregon-flag| [{:flag-or:, emoj...|    da91f5e6-8e72-11e...|    :flag-or: Oregon|                   dark|         richtext|    t2_e5bpbqtx|            false|               false|          true|      []|         null|     null|    true|       false|    null|  false|              null|       false|1.686704831E9|1.686704831E9|           null|         null|   independent.co.uk|    0|        false|                null|     0|{null, null, null}| false|     false|148unl5|                 false|            true|      null|  false|              false|                 false|              true|  false|   false| null|                           |                null|                  []|                  null|                null|                 dark|           text| false|                null|                null|     false|    null|         null|            null|         []|t3_148unl5|    false|         629|             2|       null|  false|                all_ads|/r/politics/comme...| false|        link|{false, [{JRPHzdP...|   6|     false|          null|      null|               null|          null|false| 16246|                null|                    |                null|        true|  false|   false|            politics|    t5_2cneq|             r/politics|              8337945|        public|          null|https://b.thumbs....|              93|            140|AOC says idea Tru...|            null|                    2|            []| 16246|        0.89|https://www.indep...|  https://www.indep...|          []|      null|  false|         all_ads|   6|20230614|\n",
      "|                  []|               true|           null|       null|   false|           IvorBrett|          null|                         null|                  null|                   []|                    null|                null|                   null|             text|   t2_9f9xberzl|            false|               false|         false|      []|         null|     null|    true|       false|    null|  false|              null|       false|1.686703882E9|1.686703882E9|           null|         null|           v.redd.it|    0|        false|                null|     0|{null, null, null}| false|     false|148ucw7|                 false|            true|      null|  false|              false|                  true|              true|  false|    true| null|                           |                null|                  []|                  null|                null|                 dark|           text| false|{{1200, https://v...|                null|     false|    null|         null|            null|         []|t3_148ucw7|    false|        1342|            19|       null|  false|                all_ads|/r/thisismylifeno...| false|hosted:video|{false, [{0r90FC9...|   6|     false|          null|      null|               null|          null|false| 29128|{{1200, https://v...|                    |                null|        true|  false|   false|     thisismylifenow|    t5_30wnn|      r/thisismylifenow|              1181243|        public|          null|https://b.thumbs....|             140|            140|Sheep getting vac...|            null|                    0|            []| 29128|        0.92|https://v.redd.it...|  https://v.redd.it...|          []|      null|  false|         all_ads|   6|20230614|\n",
      "|                  []|               true|           null|       null|   false|           stache914|          null|                         null|                  null|                   []|                    null|                null|                   null|             text|       t2_apdql|            false|               false|         false|      []|         null|     null|    true|       false|    null|  false|              null|       false|1.686708117E9|1.686708117E9|           null|         null|           v.redd.it|    0|        false|                null|     0|{null, null, null}| false|     false|148vobo|                 false|            true|      null|  false|              false|                  true|              true|  false|    true| null|                    #bbbdbf|                    |[{null, text, Mic...|  4c890caa-8660-11e...|Michael jacksons ...|                 dark|       richtext| false|{{1200, https://v...|                null|     false|    null|         null|            null|         []|t3_148vobo|    false|         227|             2|       null|  false|                all_ads|/r/discordVideos/...| false|hosted:video|{false, [{M3cxNmc...|   6|     false|          null|      null|               null|          null|false|  8674|{{1200, https://v...|                    |                null|        true|  false|   false|       discordVideos|   t5_2cxozx|        r/discordVideos|               339769|        public|          null|https://external-...|             140|            140|Well at least he ...|            null|                    0|            []|  8674|        0.95|https://v.redd.it...|  https://v.redd.it...|          []|      null|  false|         all_ads|   6|20230614|\n",
      "|[{GLOBAL, global,...|               true|           null|       null|   false|          ICumCoffee|          null|                         null|                  null|                   []|                    null|                null|                   null|             text|    t2_90uq6p5q|            false|               false|          true|      []|         null|     null|    true|       false|    null|  false|              null|       false|1.686679435E9|1.686679435E9|           null|         null|         nbcnews.com|    0|        false|                null|     1|      {null, 1, 1}| false|     false|148lkof|                 false|            true|      null|  false|              false|                 false|              true|  false|   false| null|                           |                    |                  []|  05c08b26-cf1b-11e...|  Site Changed Title|                 dark|           text| false|                null|                null|     false|    null|         null|            null|         []|t3_148lkof|    false|        4291|             3|       null|  false|                all_ads|/r/news/comments/...| false|        link|{false, [{HopnfXD...|   6|     false|          null|      null|               null|          null|false| 46413|                null|                    |                null|        true|  false|   false|                news|    t5_2qh3l|                 r/news|             26250268|        public|          null|             default|              73|            140|Trump surrenders ...|            null|                    6|            []| 46413|        0.85|https://www.nbcne...|  https://www.nbcne...|          []|      null|  false|         all_ads|   6|20230614|\n",
      "|                  []|               true|           null|       null|   false|         axlnotfound|          null|                         null|                  null|                   []|                    null|                null|                   null|             text|    t2_b9i8ow4m|            false|               false|          true|      []|         null|     null|    true|       false|    null|  false|              null|       false|1.686666843E9|1.686666843E9|           null|         null|           v.redd.it|    0|        false|                null|     0|{null, null, null}| false|     false|148guc6|                 false|            true|      null|  false|              false|                  true|              true|  false|    true| null|                           |                    |                  []|  84aada14-53a4-11e...|             Insects|                 dark|           text| false|{{2400, https://v...|                null|     false|    null|         null|            null|         []|t3_148guc6|    false|        4451|            13|       null|  false|                all_ads|/r/nope/comments/...| false|hosted:video|{false, [{Ynl5NzI...|   6|     false|          null|      null|               null|          null|false| 29224|{{2400, https://v...|                    |                null|        true|  false|   false|                nope|    t5_2s5fh|                 r/nope|               634347|        public|          null|https://external-...|             140|            140|If I were her, I ...|            null|                    0|            []| 29224|        0.85|https://v.redd.it...|  https://v.redd.it...|          []|      null|  false|         all_ads|   6|20230614|\n",
      "|                  []|               true|           null|       null|   false|   ILikeTalkn2Myself|          null|                         null|                  null|                   []|                    null|                null|                   null|             text|     t2_il5ls5e|            false|               false|         false|      []|         null|     null|    true|       false|    null|  false|              null|       false| 1.68669627E9| 1.68669627E9|           null|         null|         cbsnews.com|    0|        false|                null|     0|{null, null, null}| false|     false|148rsod|                 false|            true|      null|  false|              false|                 false|              true|  false|   false| null|                           |                null|                  []|                  null|                null|                 dark|           text| false|                null|                null|     false|    null|         null|            null|         []|t3_148rsod|    false|        1100|             1|       null|  false|                all_ads|/r/news/comments/...| false|        link|{false, [{YZYj6I_...|   6|     false|          null|      null|               null|          null|false| 16718|                null|                    |                null|       false|  false|   false|                news|    t5_2qh3l|                 r/news|             26250268|        public|          null|             default|              73|            140|Elizabeth Holmes,...|            null|                    0|            []| 16718|        0.93|https://www.cbsne...|  https://www.cbsne...|          []|      null|  false|         all_ads|   6|20230614|\n",
      "|                  []|               true|           null|       null|   false|Specific-Pollution68|          null|                         null|                  null|                   []|                    null|                null|                   null|             text|    t2_8wg0bro5|            false|               false|         false|      []|         null|     null|    true|       false|    null|  false|              null|       false|1.686697894E9|1.686697894E9|           null|         null|          reddit.com|    0|        false|{[{null, 28751102...|     0|{null, null, null}| false|     false|148sdmq|                 false|            true|      true|  false|              false|                 false|              true|  false|   false| null|                           |                null|                  []|                  null|                null|                 dark|           text| false|                null|{null, null, null...|     false|    null|         null|            null|         []|t3_148sdmq|    false|        1298|             7|       null|  false|                all_ads|/r/OldSchoolCool/...| false|        null|                null|   6|     false|          null|      null|               null|          null|false| 12964|                null|                    |                null|        true|  false|   false|       OldSchoolCool|    t5_2tycb|        r/OldSchoolCool|             17846363|        public|          null|https://b.thumbs....|             102|            140|Fat Men's Club of...|            null|                    0|            []| 12964|        0.93|https://www.reddi...|  https://www.reddi...|          []|      null|  false|         all_ads|   6|20230614|\n",
      "|                  []|               true|           null|       null|   false|  MarvelsGrantMan136|          null|                             |                  null| [{null, text, r/M...|                    null|r/Movies contributor|                   dark|         richtext|    t2_5adwlxvn|            false|               false|          true|      []|         null|     null|    true|       false|    null|  false|              null|       false|1.686670255E9|1.686670255E9|           null|         null|         variety.com|    0|        false|                null|     0|{null, null, null}| false|     false|148i2us|                 false|            true|      null|  false|              false|                 false|              true|  false|   false| null|                    #0aa18f|                news|[{null, text, New...|  2b89defa-381e-11e...|                News|                 dark|       richtext| false|                null|                null|     false|    null|         null|            null|         []|t3_148i2us|    false|        3605|             6|       null|  false|                all_ads|/r/movies/comment...| false|        link|{false, [{Mq6CINx...|   6|     false|          null|      null|               null|          null|false| 13302|                null|                    |                null|        true|  false|   false|              movies|    t5_2qh3s|               r/movies|             31037733|        public|          null|https://b.thumbs....|              78|            140|Disney Dates New ...|            null|                    0|            []| 13302|        0.85|https://variety.c...|  https://variety.c...|          []|      null|  false|         all_ads|   6|20230614|\n",
      "|[{GLOBAL, global,...|               true|           null|       null|   false|           timmeh519|          null|                         null|                  null|                   []|                    null|                null|                   null|             text|     t2_eyi1hv9|            false|               false|          true|      []|         null|     null|    true|       false|    null|  false|              null|       false|1.686669202E9|1.686669202E9|           null|         null|           i.redd.it|    0|        false|                null|     5|         {1, 5, 2}| false|     false|148hozn|                 false|            true|      null|  false|              false|                  true|              true|  false|   false| null|                           |                null|                  []|                  null|                null|                 dark|           text| false|                null|                null|     false|    null|         null|            null|         []|t3_148hozn|    false|        3474|             2|       null|  false|                all_ads|/r/happy/comments...| false|       image|{true, [{lPLDj_wx...|   6|     false|          null|      null|               null|          null|false|125457|                null|In the first pict...|&lt;!-- SC_OFF --...|        true|  false|   false|               happy|    t5_2qh5i|                r/happy|               665248|        public|          null|https://b.thumbs....|             140|            140|Wanted to share m...|        INACTIVE|                   37|            []|125457|        0.86|https://i.redd.it...|  https://i.redd.it...|          []|      null|  false|         all_ads|   6|20230614|\n",
      "|[{GLOBAL, global,...|               true|           null|       null|   false|  FremtidigeMegleren|          null|                         null|                  null|                   []|                    null|                null|                   null|             text|    t2_9rr4428a|            false|               false|          true|      []|         null|     null|    true|       false|    null|  false|              null|       false|1.686688368E9|1.686688368E9|           null|         null|           i.redd.it|    0|        false|                null|     0|   {null, null, 1}| false|     false|148owc3|                 false|            true|      null|  false|              false|                  true|              true|  false|   false| null|                           |                null|                  []|                  null|                null|                 dark|           text| false|                null|                null|     false|    null|         null|            null|         []|t3_148owc3|    false|        3104|            16|       null|  false|                   null|/r/shittytattoos/...| false|       image|{true, [{kQV6hijD...|null|     false|          null|      null|               null|          null|false| 64186|                null|                    |                null|        true|  false|   false|       shittytattoos|    t5_2tbk2|        r/shittytattoos|               381665|        public|          null|https://b.thumbs....|             140|            140|     Biggest regret.|            null|                   13|            []| 64186|        0.88|https://i.redd.it...|  https://i.redd.it...|          []|      null|  false|            null|null|20230614|\n",
      "|[{GLOBAL, global,...|               true|           null|       null|   false|         jstockton76|          null|                         null|                  null|                   []|                    null|                null|                   null|             text|      t2_12khhn|            false|               false|         false|      []|         null|     null|    true|       false|    null|  false|              null|       false|1.686697107E9|1.686697107E9|           null|         null|self.NoStupidQues...|    0|        false|                null|     0|{null, null, null}| false|     false|148s3aq|                 false|            true|      null|  false|              false|                 false|              true|   true|   false| null|                           |             flair a|[{null, text, Una...|  a1b68f40-a4bb-11e...|          Unanswered|                 dark|       richtext|  true|                null|                null|     false|    null|         null|            null|         []|t3_148s3aq|    false|        2730|             1|       null|  false|                all_ads|/r/NoStupidQuesti...| false|        null|                null|   6|     false|          null|      null|               null|          null|false|  6350|                null|I attended an ori...|&lt;!-- SC_OFF --...|        true|  false|   false|   NoStupidQuestions|    t5_2w844|    r/NoStupidQuestions|              3521013|        public|           top|                self|            null|           null|Why do people dec...|            null|                    5|            []|  6350|        0.72|https://www.reddi...|                  null|          []|      null|  false|         all_ads|   6|20230614|\n",
      "|[{GLOBAL, global,...|               true|           null|       null|   false|           Artane_33|          null|                         null|                  null|                   []|                    null|                null|                   null|             text|     t2_no6z7gh|            false|               false|          true|      []|         null|     null|    true|       false|    null|  false|              null|       false|1.686678158E9|1.686678158E9|           null|         null|          reddit.com|    0|        false|{[{null, 28740588...|     1|   {null, 1, null}| false|     false|148l2qq|                 false|            true|      true|  false|              false|                 false|              true|  false|   false| null|                           |                null|                  []|                  null|                null|                 dark|           text| false|                null|{{Image, 08k2wqq4...|     false|    null|         null|            null|         []|t3_148l2qq|    false|        2792|             8|       null|  false|                   null|/r/iamatotalpiece...| false|        null|                null|null|     false|          null|      null|               null|          null|false| 26510|                null|                    |                null|        true|  false|   false|iamatotalpieceofshit|    t5_3jj03|   r/iamatotalpieceo...|              2057332|        public|    confidence|https://b.thumbs....|             140|            140|two men robbed 8-...|            null|                    1|            []| 26510|         0.9|https://www.reddi...|  https://www.reddi...|          []|      null|  false|            null|null|20230614|\n",
      "|[{GLOBAL, global,...|               true|           null|       null|   false|      TrumpterOFyvie|          null|                         null|                  null|                   []|                    null|                null|                   null|             text|    t2_rotm9dzp|            false|               false|          true|      []|         null|     null|    true|       false|    null|  false|              null|       false|1.686686779E9|1.686686779E9|           null|         null|           i.redd.it|    0|        false|                null|     1|   {null, 1, null}| false|     false|148obed|                 false|            true|      null|  false|              false|                  true|              true|  false|   false| null|                    #7193ff|                null|[{null, text, Clu...|  2491e734-cd17-11e...|           Clubhouse|                 dark|       richtext| false|                null|                null|     false|    null|         null|            null|         []|t3_148obed|    false|        2809|            14|       null|  false|                   null|/r/WhitePeopleTwi...| false|       image|{true, [{6OQ9AToP...|null|     false|          null|      null|               null|          null|false| 51292|                null|                    |                null|        true|  false|   false|  WhitePeopleTwitter|    t5_35n7t|   r/WhitePeopleTwitter|              2953206|        public|          null|https://a.thumbs....|             140|            140|One. Frigging. Ye...|            null|                    1|            []| 51292|        0.91|https://i.redd.it...|  https://i.redd.it...|          []|      null|  false|            null|null|20230614|\n",
      "|                  []|              false|           null|       null|   false|     sloppyDiesel948|          null|                         null|                  null|                   []|                    null|                null|                   null|             text|    t2_vfdas7gy|            false|               false|         false|      []|         null|     null|    true|       false|    null|  false|              null|       false|1.686707643E9|1.686707643E9|           null|         null|           i.redd.it|    0|        false|                null|     0|{null, null, null}| false|     false|148vj11|                 false|            true|      null|  false|              false|                  true|              true|  false|   false| null|                           |                null|                  []|                  null|                null|                 dark|           text| false|                null|                null|     false|    null|         null|            null|         []|t3_148vj11|    false|         311|             2|       null|   true|                all_ads|/r/Whatcouldgowro...| false|       image|{true, [{zRqklgsn...|   6|     false|          null|      null|               null|          null|false|  6153|                null|                    |                null|        true|  false|   false|    Whatcouldgowrong|    t5_2x2oy|     r/Whatcouldgowrong|              7408188|        public|           top|                nsfw|             140|            140|WCGW when you try...|            null|                    0|            []|  6153|        0.91|https://i.redd.it...|  https://i.redd.it...|          []|      null|  false|         all_ads|   6|20230614|\n",
      "|[{GLOBAL, global,...|               true|           null|       null|   false|                PLPQ|          null|                         null|                  null|                   []|                    null|                null|                   null|             text|    t2_9sdjbvu5|            false|               false|          true|      []|         null|     null|    true|       false|    null|  false|              null|       false|1.686680036E9|1.686680036E9|           null|         null|          reddit.com|    0|        false|{[{null, 28741648...|     1|   {null, 1, null}| false|     false|148lsst|                 false|            true|      true|  false|              false|                 false|              true|  false|   false| null|                    #73ad34|                    |[{null, text, Foo...|  b5c5f68e-2234-11e...|                Food|                light|       richtext| false|                null|{null, null, null...|     false|    null|         null|            null|         []|t3_148lsst|    false|        2885|             1|       null|  false|                all_ads|/r/castiron/comme...| false|        null|                null|   6|     false|          null|      null|               null|          null|false| 11829|                null|                    |                null|        true|  false|   false|            castiron|    t5_2s8x6|             r/castiron|               490787|        public|          null|https://a.thumbs....|             140|            140|An Englishman's f...|            null|                    4|            []| 11829|        0.93|https://www.reddi...|  https://www.reddi...|          []|      null|  false|         all_ads|   6|20230614|\n",
      "+--------------------+-------------------+---------------+-----------+--------+--------------------+--------------+-----------------------------+----------------------+---------------------+------------------------+--------------------+-----------------------+-----------------+---------------+-----------------+--------------------+--------------+--------+-------------+---------+--------+------------+--------+-------+------------------+------------+-------------+-------------+---------------+-------------+--------------------+-----+-------------+--------------------+------+------------------+------+----------+-------+----------------------+----------------+----------+-------+-------------------+----------------------+------------------+-------+--------+-----+---------------------------+--------------------+--------------------+----------------------+--------------------+---------------------+---------------+------+--------------------+--------------------+----------+--------+-------------+----------------+-----------+----------+---------+------------+--------------+-----------+-------+-----------------------+--------------------+------+------------+--------------------+----+----------+--------------+----------+-------------------+--------------+-----+------+--------------------+--------------------+--------------------+------------+-------+--------+--------------------+------------+-----------------------+---------------------+--------------+--------------+--------------------+----------------+---------------+--------------------+----------------+---------------------+--------------+------+------------+--------------------+----------------------+------------+----------+-------+----------------+----+--------+\n",
      "only showing top 20 rows\n",
      "\n"
     ]
    }
   ],
   "source": [
    "df.show()"
   ]
  },
  {
   "cell_type": "code",
   "execution_count": 15,
   "id": "6966b2bb-5afb-46e6-aa1d-47169cf104f3",
   "metadata": {},
   "outputs": [],
   "source": [
    "from columns import gildings\n",
    "\n",
    "df_gildings = df.select(\"id\", \"author\", \"gilded\", \"gildings\", \"is_video\", \"score\", \"subreddit_id\", \"subreddit\", \"total_awards_received\") \\\n",
    "                      .withColumnRenamed(\"id\", \"post_id\")\n",
    "\n",
    "df_gildings = df_gildings.select(\"*\", \"gildings.*\")\n",
    "\n",
    "if \"gid_1\" not in df_gildings.columns:\n",
    "    df_gildings = df_gildings.withColumn(\"gid_1\", lit(None).cast(IntegerType()))\n",
    "\n",
    "df_renamed = df_gildings.withColumnRenamed(\"gid_1\", \"gild_silver\") \\\n",
    "                        .withColumnRenamed(\"gid_2\", \"gild_gold\") \\\n",
    "                        .withColumnRenamed(\"gid_3\", \"gild_platinum\")\n",
    "\n",
    "df_final = df_renamed.dropDuplicates()\n",
    "\n",
    "df_final = df_final.withColumn(\"dateid\", lit(today))\n",
    "\n",
    "df_final = df_final.select(gildings)"
   ]
  },
  {
   "cell_type": "code",
   "execution_count": 25,
   "id": "78837a52-d4df-4814-aa45-81a8c292edaa",
   "metadata": {},
   "outputs": [
    {
     "name": "stdout",
     "output_type": "stream",
     "text": [
      "+-------+--------------------+------+------------------+-----------+---------+-------------+--------+------+------------+--------------------+--------+\n",
      "|post_id|              author|gilded|          gildings|gild_silver|gild_gold|gild_platinum|is_video| score|subreddit_id|           subreddit|  dateid|\n",
      "+-------+--------------------+------+------------------+-----------+---------+-------------+--------+------+------------+--------------------+--------+\n",
      "|148hozn|           timmeh519|     5|         {1, 5, 2}|          1|        5|            2|   false|125457|    t5_2qh5i|               happy|20230614|\n",
      "|148ks6u|     SpicyThunder335|     5|         {2, 5, 5}|          2|        5|            5|   false| 13730|   t5_4yrnne|            ModCoord|20230614|\n",
      "|148wo64|          Riftmarked|     2|      {null, 1, 2}|       null|        1|            2|   false|  1746|    t5_3g1qk|       goldenknights|20230614|\n",
      "|148rfyk|    Eastern-Truck433|     1|   {null, 1, null}|       null|        1|         null|   false| 12734|    t5_2qh5i|               happy|20230614|\n",
      "|148mp1w|           evaldez14|     1|   {null, 1, null}|       null|        1|         null|   false|  2406|    t5_2qh6p|        Conservative|20230614|\n",
      "|148ktvr|             xdLoqqt|     1|   {null, 1, null}|       null|        1|         null|   false|  7363|    t5_2qh1i|           AskReddit|20230614|\n",
      "|148w2tz|        Crows_HeadIC|     1|{null, null, null}|       null|     null|         null|   false|  2690|   t5_5zvcfk|          midjourney|20230614|\n",
      "|148lkof|          ICumCoffee|     1|      {null, 1, 1}|       null|        1|            1|   false| 46413|    t5_2qh3l|                news|20230614|\n",
      "|148n6cy|theindependentonline|     1|   {null, 1, null}|       null|        1|         null|   false| 29110|    t5_2cneq|            politics|20230614|\n",
      "|148vx94|       happysheeple3|     1|   {null, 1, null}|       null|        1|         null|   false|  2995|   t5_43zwn1|          Superstonk|20230614|\n",
      "|148obed|      TrumpterOFyvie|     1|   {null, 1, null}|       null|        1|         null|   false| 51292|    t5_35n7t|  WhitePeopleTwitter|20230614|\n",
      "|148lsst|                PLPQ|     1|   {null, 1, null}|       null|        1|         null|   false| 11829|    t5_2s8x6|            castiron|20230614|\n",
      "|148pzeb|     Fit-Nobody-8138|     1|   {null, 1, null}|       null|        1|         null|   false| 27330|    t5_3jp3p|   LeopardsAteMyFace|20230614|\n",
      "|148l2qq|           Artane_33|     1|   {null, 1, null}|       null|        1|         null|   false| 26510|    t5_3jj03|iamatotalpieceofshit|20230614|\n",
      "|148kq8w|NefariousnessBusy402|     0|{null, null, null}|       null|     null|         null|   false| 35456|    t5_2zmfe|           dankmemes|20230614|\n",
      "|148gtxw|       Ahomelessfish|     0|{null, null, null}|       null|     null|         null|   false|  6048|    t5_2qhlj|                 ask|20230614|\n",
      "|148qctr|          TallAd3975|     0|{null, null, null}|       null|     null|         null|   false| 18002|    t5_2qh13|           worldnews|20230614|\n",
      "|148u0lk|           ZacHefner|     0|{null, null, null}|       null|     null|         null|   false|  8038|    t5_2sw51|    shittyaskscience|20230614|\n",
      "|148kxmw|      gokartinjuries|     0|{null, null, null}|       null|     null|         null|   false|  5702|   t5_446kys|               AITAH|20230614|\n",
      "|148egw7|       JamesDFreeman|     0|{null, null, null}|       null|     null|         null|   false|  4993|    t5_331rj|      CitiesSkylines|20230614|\n",
      "+-------+--------------------+------+------------------+-----------+---------+-------------+--------+------+------------+--------------------+--------+\n",
      "only showing top 20 rows\n",
      "\n"
     ]
    }
   ],
   "source": [
    "df_final.orderBy(\"gilded\", ascending=False).show()"
   ]
  },
  {
   "cell_type": "code",
   "execution_count": 18,
   "id": "e4ba43a0-a06e-4609-afdf-676fa8b44c77",
   "metadata": {},
   "outputs": [],
   "source": [
    "from pyspark.sql.functions import current_date, date_format\n",
    "\n",
    "author_df = df_final.groupBy(\"author\",\"subreddit_id\",\"subreddit\").agg(\n",
    "    F.sum(\"gild_silver\").alias(\"total_gild_silver\"),\n",
    "    F.sum(\"gild_gold\").alias(\"total_gild_gold\"),\n",
    "    F.sum(\"gild_platinum\").alias(\"total_gild_platinum\"),\n",
    "    F.sum(\"score\").alias(\"total_score\")\n",
    ")\n",
    "\n",
    "author_df = author_df.withColumn(\n",
    "    'total_gildings',\n",
    "    F.col('total_gild_silver') + F.col('total_gild_gold') + F.col('total_gild_platinum')\n",
    ").orderBy('total_gildings',ascending=False)\n",
    "\n",
    "author_df = author_df.withColumn(\"updated_at\", date_format(current_date(), \"yyyyMMdd\"))"
   ]
  },
  {
   "cell_type": "code",
   "execution_count": 19,
   "id": "0e7f4f8c-58da-4215-803b-112490a9995d",
   "metadata": {},
   "outputs": [
    {
     "name": "stdout",
     "output_type": "stream",
     "text": [
      "+--------------------+------------+--------------------+-----------------+---------------+-------------------+-----------+--------------+----------+\n",
      "|              author|subreddit_id|           subreddit|total_gild_silver|total_gild_gold|total_gild_platinum|total_score|total_gildings|updated_at|\n",
      "+--------------------+------------+--------------------+-----------------+---------------+-------------------+-----------+--------------+----------+\n",
      "|     SpicyThunder335|   t5_4yrnne|            ModCoord|                2|              5|                  5|      13730|            12|  20230614|\n",
      "|           timmeh519|    t5_2qh5i|               happy|                1|              5|                  2|     125457|             8|  20230614|\n",
      "|EminemsDaughterSucks|   t5_2iku5r|    okbuddychicanery|             null|           null|               null|       5087|          null|  20230614|\n",
      "|           gravityVT|    t5_2td2i|       nbacirclejerk|             null|           null|               null|      12438|          null|  20230614|\n",
      "|NefariousnessBusy402|    t5_2zmfe|           dankmemes|             null|           null|               null|      35456|          null|  20230614|\n",
      "|        lindsay_v192|    t5_2xmrc|           namenerds|             null|           null|               null|       1316|          null|  20230614|\n",
      "|   Guppy_fromtheWest|    t5_2qq6g|         confessions|             null|           null|               null|       2279|          null|  20230614|\n",
      "|                PLPQ|    t5_2s8x6|            castiron|             null|              1|               null|      11829|          null|  20230614|\n",
      "|       purple-circle|    t5_38tab| CatastrophicFailure|             null|           null|               null|       4665|          null|  20230614|\n",
      "|         titan19kill|    t5_2w6fe|            Animemes|             null|           null|               null|       6964|          null|  20230614|\n",
      "|reddit_acct_id_73915|    t5_2qhh7|                lgbt|             null|           null|               null|       8224|          null|  20230614|\n",
      "|      indig0sixalpha|    t5_2qh3s|              movies|             null|           null|               null|      28686|          null|  20230614|\n",
      "|          freecodeio|   t5_5vej89|  OneOrangeBraincell|             null|           null|               null|      11330|          null|  20230614|\n",
      "|      InVodkaVeritas|    t5_2qm9d|                 CFB|             null|           null|               null|        989|          null|  20230614|\n",
      "|             mart945|    t5_2qib0|         interesting|             null|           null|               null|      23366|          null|  20230614|\n",
      "|   CheckAcademic9098|    t5_2rfxx|     leagueoflegends|             null|           null|               null|       1117|          null|  20230614|\n",
      "|       funkymunky291|   t5_2z8fuj|FundieSnarkUncens...|             null|           null|               null|       1344|          null|  20230614|\n",
      "|        Hotpotato_95|    t5_2tjjm|           HomeDepot|             null|           null|               null|       3762|          null|  20230614|\n",
      "|         Setchell405|    t5_2qhds|                UFOs|             null|           null|               null|       1349|          null|  20230614|\n",
      "|          TallAd3975|    t5_2qh13|           worldnews|             null|           null|               null|      18002|          null|  20230614|\n",
      "+--------------------+------------+--------------------+-----------------+---------------+-------------------+-----------+--------------+----------+\n",
      "only showing top 20 rows\n",
      "\n"
     ]
    }
   ],
   "source": [
    "author_df.show()"
   ]
  },
  {
   "cell_type": "code",
   "execution_count": 20,
   "id": "bc7b26de-60fc-42d8-aa54-b551e180dfe0",
   "metadata": {},
   "outputs": [],
   "source": [
    "columns_to_fill = [\"total_gild_silver\", \"total_gild_gold\", \"total_gild_platinum\", \"total_score\", \"total_gildings\"]\n",
    "author_df = author_df.na.fill(0, subsett=columns_to_fill)"
   ]
  },
  {
   "cell_type": "code",
   "execution_count": 21,
   "id": "5df10ef3-bf3f-4415-8a65-14b3cdf05598",
   "metadata": {},
   "outputs": [
    {
     "name": "stdout",
     "output_type": "stream",
     "text": [
      "+--------------------+------------+--------------------+-----------------+---------------+-------------------+-----------+--------------+----------+\n",
      "|              author|subreddit_id|           subreddit|total_gild_silver|total_gild_gold|total_gild_platinum|total_score|total_gildings|updated_at|\n",
      "+--------------------+------------+--------------------+-----------------+---------------+-------------------+-----------+--------------+----------+\n",
      "|     SpicyThunder335|   t5_4yrnne|            ModCoord|                2|              5|                  5|      13730|            12|  20230614|\n",
      "|           timmeh519|    t5_2qh5i|               happy|                1|              5|                  2|     125457|             8|  20230614|\n",
      "|EminemsDaughterSucks|   t5_2iku5r|    okbuddychicanery|                0|              0|                  0|       5087|             0|  20230614|\n",
      "|           gravityVT|    t5_2td2i|       nbacirclejerk|                0|              0|                  0|      12438|             0|  20230614|\n",
      "|NefariousnessBusy402|    t5_2zmfe|           dankmemes|                0|              0|                  0|      35456|             0|  20230614|\n",
      "|        lindsay_v192|    t5_2xmrc|           namenerds|                0|              0|                  0|       1316|             0|  20230614|\n",
      "|   Guppy_fromtheWest|    t5_2qq6g|         confessions|                0|              0|                  0|       2279|             0|  20230614|\n",
      "|                PLPQ|    t5_2s8x6|            castiron|                0|              1|                  0|      11829|             0|  20230614|\n",
      "|       purple-circle|    t5_38tab| CatastrophicFailure|                0|              0|                  0|       4665|             0|  20230614|\n",
      "|         titan19kill|    t5_2w6fe|            Animemes|                0|              0|                  0|       6964|             0|  20230614|\n",
      "|reddit_acct_id_73915|    t5_2qhh7|                lgbt|                0|              0|                  0|       8224|             0|  20230614|\n",
      "|      indig0sixalpha|    t5_2qh3s|              movies|                0|              0|                  0|      28686|             0|  20230614|\n",
      "|          freecodeio|   t5_5vej89|  OneOrangeBraincell|                0|              0|                  0|      11330|             0|  20230614|\n",
      "|      InVodkaVeritas|    t5_2qm9d|                 CFB|                0|              0|                  0|        989|             0|  20230614|\n",
      "|             mart945|    t5_2qib0|         interesting|                0|              0|                  0|      23366|             0|  20230614|\n",
      "|   CheckAcademic9098|    t5_2rfxx|     leagueoflegends|                0|              0|                  0|       1117|             0|  20230614|\n",
      "|       funkymunky291|   t5_2z8fuj|FundieSnarkUncens...|                0|              0|                  0|       1344|             0|  20230614|\n",
      "|        Hotpotato_95|    t5_2tjjm|           HomeDepot|                0|              0|                  0|       3762|             0|  20230614|\n",
      "|         Setchell405|    t5_2qhds|                UFOs|                0|              0|                  0|       1349|             0|  20230614|\n",
      "|          TallAd3975|    t5_2qh13|           worldnews|                0|              0|                  0|      18002|             0|  20230614|\n",
      "+--------------------+------------+--------------------+-----------------+---------------+-------------------+-----------+--------------+----------+\n",
      "only showing top 20 rows\n",
      "\n"
     ]
    }
   ],
   "source": [
    "author_df.show()"
   ]
  },
  {
   "cell_type": "code",
   "execution_count": null,
   "id": "c4cda996-e985-4f0c-bdbc-c0db4ebc56a4",
   "metadata": {},
   "outputs": [],
   "source": []
  }
 ],
 "metadata": {
  "kernelspec": {
   "display_name": "Python 3 (ipykernel)",
   "language": "python",
   "name": "python3"
  },
  "language_info": {
   "codemirror_mode": {
    "name": "ipython",
    "version": 3
   },
   "file_extension": ".py",
   "mimetype": "text/x-python",
   "name": "python",
   "nbconvert_exporter": "python",
   "pygments_lexer": "ipython3",
   "version": "3.10.11"
  }
 },
 "nbformat": 4,
 "nbformat_minor": 5
}
