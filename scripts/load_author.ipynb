{
 "cells": [
  {
   "cell_type": "code",
   "execution_count": 1,
   "id": "c4a3ee37-22ae-419b-8b7d-55a14758955e",
   "metadata": {},
   "outputs": [],
   "source": [
    "from pyspark.sql import SparkSession\n",
    "from vars import *\n",
    "from datetime import date\n",
    "from functions import loadConfigs\n",
    "import os\n",
    "from pyspark.sql.functions import explode\n",
    "from pyspark.sql.functions import lit\n",
    "\n",
    "# minio credentials\n",
    "minio_endpoint = \"http://minio:9000\"\n",
    "minio_access_key = \"iQekrU3nA33aKktu2GMo\"\n",
    "minio_secret_key = \"1OGQ3m1lWEZVQ31xKfPCKmZVFVb2lXwCorjZr1d1\"\n",
    "minio_region = \"us-east-1\"\n",
    "minio_bucket = \"reddit-datalake\"\n",
    "\n",
    "spark_home = os.environ.get('SPARK_HOME')\n",
    "\n",
    "spark = SparkSession.builder \\\n",
    "    .config(\"spark.hadoop.fs.s3a.aws.credentials.provider\", \"org.apache.hadoop.fs.s3a.SimpleAWSCredentialsProvider\") \\\n",
    "    .getOrCreate()\n",
    "loadConfigs(spark.sparkContext)"
   ]
  },
  {
   "cell_type": "code",
   "execution_count": 9,
   "id": "377f0005-7ec9-4f25-944d-59479d896527",
   "metadata": {},
   "outputs": [
    {
     "data": {
      "text/html": [
       "<style>pre { white-space: pre !important; }</style>"
      ],
      "text/plain": [
       "<IPython.core.display.HTML object>"
      ]
     },
     "metadata": {},
     "output_type": "display_data"
    }
   ],
   "source": [
    "from IPython.core.display import HTML\n",
    "display(HTML(\"<style>pre { white-space: pre !important; }</style>\"))"
   ]
  },
  {
   "cell_type": "code",
   "execution_count": 14,
   "id": "656fe475-e533-4bde-8caa-1bbdb109eb4f",
   "metadata": {},
   "outputs": [],
   "source": [
    "today = date.today().strftime('%Y%m%d')\n",
    "# today = 20230602\n",
    "\n",
    "input_folder = \"gildings\"\n",
    "input_file = \"gildings\"\n",
    "mode = \"append\"\n",
    "\n",
    "df = spark.read.option(\"header\", \"true\") \\\n",
    "    .parquet(f\"s3a://{minio_bucket}/silver/{input_folder}/{input_file}_{today}\")"
   ]
  },
  {
   "cell_type": "code",
   "execution_count": 15,
   "id": "324f70d3-bbd3-41e1-9002-43f5059c4859",
   "metadata": {
    "scrolled": true
   },
   "outputs": [
    {
     "name": "stdout",
     "output_type": "stream",
     "text": [
      "+-------+--------------------+------+------------------+-----------+---------+-------------+--------+\n",
      "|post_id|              author|gilded|          gildings|gild_silver|gild_gold|gild_platinum|  dateid|\n",
      "+-------+--------------------+------+------------------+-----------+---------+-------------+--------+\n",
      "|145qm88|     Homar-The-Whale|     0|{null, null, null}|       null|     null|         null|20230610|\n",
      "|145qdyb|     FionaWalliceFan|     0|{null, null, null}|       null|     null|         null|20230610|\n",
      "|145na3a|       sunnymushroom|     0|{null, null, null}|       null|     null|         null|20230610|\n",
      "|145simo|        shodaimezack|     0|{null, null, null}|       null|     null|         null|20230610|\n",
      "|145l0wp|  povitryana_tryvoga|     0|{null, null, null}|       null|     null|         null|20230610|\n",
      "|145f0u1|             AFoxGuy|     0|{null, null, null}|       null|     null|         null|20230610|\n",
      "|145g3bh|            chris_ro|     0|{null, null, null}|       null|     null|         null|20230610|\n",
      "|145jkb7|Subject-Property-343|     0|{null, null, null}|       null|     null|         null|20230610|\n",
      "|145ma9e|     Sonny_McClain89|     1|   {null, 1, null}|       null|        1|         null|20230610|\n",
      "|145wt5l|            Alpal487|     0|{null, null, null}|       null|     null|         null|20230610|\n",
      "|145wxlk|SpiritedJuggernaut56|     0|{null, null, null}|       null|     null|         null|20230610|\n",
      "|145uw82|       TotalSpaceNut|     0|{null, null, null}|       null|     null|         null|20230610|\n",
      "|145o0k5|      SuperNothing90|     0|{null, null, null}|       null|     null|         null|20230610|\n",
      "|145vns0|          OBLIVIATER|     5|         {1, 5, 2}|       null|        5|            2|20230610|\n",
      "|145twjb|          MahdeenSky|     0|{null, null, null}|       null|     null|         null|20230610|\n",
      "|145mlwj|  ReallyJustTheFacts|     2|   {null, 2, null}|       null|        2|         null|20230610|\n",
      "|145ghvn|      StarKiller-117|     0|{null, null, null}|       null|     null|         null|20230610|\n",
      "|145mwtd|       EmmanuelMoyta|     0|{null, null, null}|       null|     null|         null|20230610|\n",
      "|145mylf|  superphuntimeyahok|     1|   {null, 1, null}|       null|        1|         null|20230610|\n",
      "|145mv8c|        ReliableFart|     0|{null, null, null}|       null|     null|         null|20230610|\n",
      "+-------+--------------------+------+------------------+-----------+---------+-------------+--------+\n",
      "only showing top 20 rows\n",
      "\n"
     ]
    }
   ],
   "source": [
    "df.show()"
   ]
  },
  {
   "cell_type": "code",
   "execution_count": 25,
   "id": "73e1e0c8-e677-4ca3-a92e-f536ee304022",
   "metadata": {},
   "outputs": [],
   "source": [
    "df_with_total_gildings = df.withColumn(\n",
    "    'total_gildings',\n",
    "    F.col('gildings.gid_1') + F.col('gildings.gid_2') + F.col('gildings.gid_3')\n",
    ")"
   ]
  },
  {
   "cell_type": "code",
   "execution_count": 26,
   "id": "6c9f2a5d-49d4-4e2b-912d-be2c27fb3768",
   "metadata": {},
   "outputs": [
    {
     "name": "stdout",
     "output_type": "stream",
     "text": [
      "+-------+--------------------+------+------------------+-----------+---------+-------------+--------+--------------+\n",
      "|post_id|              author|gilded|          gildings|gild_silver|gild_gold|gild_platinum|  dateid|total_gildings|\n",
      "+-------+--------------------+------+------------------+-----------+---------+-------------+--------+--------------+\n",
      "|145qm88|     Homar-The-Whale|     0|{null, null, null}|       null|     null|         null|20230610|          null|\n",
      "|145qdyb|     FionaWalliceFan|     0|{null, null, null}|       null|     null|         null|20230610|          null|\n",
      "|145na3a|       sunnymushroom|     0|{null, null, null}|       null|     null|         null|20230610|          null|\n",
      "|145simo|        shodaimezack|     0|{null, null, null}|       null|     null|         null|20230610|          null|\n",
      "|145l0wp|  povitryana_tryvoga|     0|{null, null, null}|       null|     null|         null|20230610|          null|\n",
      "|145f0u1|             AFoxGuy|     0|{null, null, null}|       null|     null|         null|20230610|          null|\n",
      "|145g3bh|            chris_ro|     0|{null, null, null}|       null|     null|         null|20230610|          null|\n",
      "|145jkb7|Subject-Property-343|     0|{null, null, null}|       null|     null|         null|20230610|          null|\n",
      "|145ma9e|     Sonny_McClain89|     1|   {null, 1, null}|       null|        1|         null|20230610|          null|\n",
      "|145wt5l|            Alpal487|     0|{null, null, null}|       null|     null|         null|20230610|          null|\n",
      "|145wxlk|SpiritedJuggernaut56|     0|{null, null, null}|       null|     null|         null|20230610|          null|\n",
      "|145uw82|       TotalSpaceNut|     0|{null, null, null}|       null|     null|         null|20230610|          null|\n",
      "|145o0k5|      SuperNothing90|     0|{null, null, null}|       null|     null|         null|20230610|          null|\n",
      "|145vns0|          OBLIVIATER|     5|         {1, 5, 2}|       null|        5|            2|20230610|             8|\n",
      "|145twjb|          MahdeenSky|     0|{null, null, null}|       null|     null|         null|20230610|          null|\n",
      "|145mlwj|  ReallyJustTheFacts|     2|   {null, 2, null}|       null|        2|         null|20230610|          null|\n",
      "|145ghvn|      StarKiller-117|     0|{null, null, null}|       null|     null|         null|20230610|          null|\n",
      "|145mwtd|       EmmanuelMoyta|     0|{null, null, null}|       null|     null|         null|20230610|          null|\n",
      "|145mylf|  superphuntimeyahok|     1|   {null, 1, null}|       null|        1|         null|20230610|          null|\n",
      "|145mv8c|        ReliableFart|     0|{null, null, null}|       null|     null|         null|20230610|          null|\n",
      "+-------+--------------------+------+------------------+-----------+---------+-------------+--------+--------------+\n",
      "only showing top 20 rows\n",
      "\n"
     ]
    }
   ],
   "source": [
    "df_with_total_gildings.show()"
   ]
  },
  {
   "cell_type": "code",
   "execution_count": 22,
   "id": "927112c7-15a1-4caf-a980-4153bdf466ad",
   "metadata": {},
   "outputs": [
    {
     "data": {
      "text/plain": [
       "['post_id',\n",
       " 'author',\n",
       " 'gilded',\n",
       " 'gildings',\n",
       " 'gild_silver',\n",
       " 'gild_gold',\n",
       " 'gild_platinum',\n",
       " 'dateid']"
      ]
     },
     "execution_count": 22,
     "metadata": {},
     "output_type": "execute_result"
    }
   ],
   "source": [
    "df.columns"
   ]
  },
  {
   "cell_type": "code",
   "execution_count": 24,
   "id": "7bca50ba-9368-4d89-91b2-8e4949259c60",
   "metadata": {},
   "outputs": [],
   "source": [
    "from pyspark.sql import functions as F\n",
    "\n",
    "df_gildings = df.groupBy('author').agg(\n",
    "    F.sum('gildings.gid_1').alias('sum_gild_silver'),\n",
    "    F.sum('gildings.gid_2').alias('sum_gild_gold'),\n",
    "    F.sum('gildings.gid_3').alias('sum_gild_platinum')\n",
    ").orderBy('author')"
   ]
  },
  {
   "cell_type": "code",
   "execution_count": null,
   "id": "bf9f69dc-26ca-4fbb-a501-7a3d708149f1",
   "metadata": {},
   "outputs": [],
   "source": []
  }
 ],
 "metadata": {
  "kernelspec": {
   "display_name": "Python 3 (ipykernel)",
   "language": "python",
   "name": "python3"
  },
  "language_info": {
   "codemirror_mode": {
    "name": "ipython",
    "version": 3
   },
   "file_extension": ".py",
   "mimetype": "text/x-python",
   "name": "python",
   "nbconvert_exporter": "python",
   "pygments_lexer": "ipython3",
   "version": "3.10.11"
  }
 },
 "nbformat": 4,
 "nbformat_minor": 5
}
