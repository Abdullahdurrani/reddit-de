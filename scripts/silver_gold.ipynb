{
 "cells": [
  {
   "cell_type": "code",
   "execution_count": 1,
   "id": "206449a3-26d5-4edb-babd-9509f6acedf6",
   "metadata": {},
   "outputs": [
    {
     "data": {
      "text/html": [
       "<style>pre { white-space: pre !important; }</style>"
      ],
      "text/plain": [
       "<IPython.core.display.HTML object>"
      ]
     },
     "metadata": {},
     "output_type": "display_data"
    }
   ],
   "source": [
    "from pyspark.sql import SparkSession\n",
    "from vars import *\n",
    "from datetime import date\n",
    "from functions import loadConfigs\n",
    "import os\n",
    "from pyspark.sql.functions import explode\n",
    "from pyspark.sql.functions import lit\n",
    "from pyspark.sql import functions as F\n",
    "from delta import *\n",
    "\n",
    "# minio credentials\n",
    "minio_endpoint = \"http://minio:9000\"\n",
    "minio_access_key = \"iQekrU3nA33aKktu2GMo\"\n",
    "minio_secret_key = \"1OGQ3m1lWEZVQ31xKfPCKmZVFVb2lXwCorjZr1d1\"\n",
    "minio_region = \"us-east-1\"\n",
    "minio_bucket = \"reddit-datalake\"\n",
    "\n",
    "builder = loadConfigs(SparkSession.builder)\n",
    "spark = configure_spark_with_delta_pip(builder).getOrCreate()\n",
    "\n",
    "from IPython.core.display import HTML\n",
    "display(HTML(\"<style>pre { white-space: pre !important; }</style>\"))"
   ]
  },
  {
   "cell_type": "code",
   "execution_count": 2,
   "id": "fdc2b935-de6f-4497-a15c-e5e37a26b1c7",
   "metadata": {},
   "outputs": [],
   "source": [
    "today = date.today().strftime('%Y%m%d')\n",
    "\n",
    "df = spark.read.format(\"delta\").load(f\"s3a://{minio_bucket}/silver/gildings/author_gildings\")"
   ]
  },
  {
   "cell_type": "code",
   "execution_count": 3,
   "id": "7d45e01e-ca4b-4e10-8ecc-24bc3bbe55b6",
   "metadata": {},
   "outputs": [
    {
     "name": "stdout",
     "output_type": "stream",
     "text": [
      "+--------------------+------------+--------------------+-----------------+---------------+-------------------+-----------+--------------+----------+\n",
      "|              author|subreddit_id|           subreddit|total_gild_silver|total_gild_gold|total_gild_platinum|total_score|total_gildings|updated_at|\n",
      "+--------------------+------------+--------------------+-----------------+---------------+-------------------+-----------+--------------+----------+\n",
      "|     SpicyThunder335|   t5_4yrnne|            ModCoord|                2|              5|                  5|      13730|            12|  20230614|\n",
      "|           timmeh519|    t5_2qh5i|               happy|                1|              5|                  2|     125457|             8|  20230614|\n",
      "|          Riftmarked|    t5_3g1qk|       goldenknights|                0|              1|                  2|       1746|             3|  20230614|\n",
      "|          ICumCoffee|    t5_2qh3l|                news|                0|              1|                  1|      46413|             2|  20230614|\n",
      "|                PLPQ|    t5_2s8x6|            castiron|                0|              1|                  0|      11829|             1|  20230614|\n",
      "|    Eastern-Truck433|    t5_2qh5i|               happy|                0|              1|                  0|      12734|             1|  20230614|\n",
      "|       happysheeple3|   t5_43zwn1|          Superstonk|                0|              1|                  0|       2995|             1|  20230614|\n",
      "|         Goldeneye07|    t5_34o9s|        starterpacks|                1|              0|                  0|      12823|             1|  20230614|\n",
      "|           evaldez14|    t5_2qh6p|        Conservative|                0|              1|                  0|       2406|             1|  20230614|\n",
      "|      PICKLENUTJUICE|    t5_2yuqy|      TrueOffMyChest|                0|              0|                  1|       2913|             1|  20230614|\n",
      "|      TrumpterOFyvie|    t5_35n7t|  WhitePeopleTwitter|                0|              1|                  0|      51292|             1|  20230614|\n",
      "|  FremtidigeMegleren|    t5_2tbk2|       shittytattoos|                0|              0|                  1|      64186|             1|  20230614|\n",
      "|theindependentonline|    t5_2cneq|            politics|                0|              1|                  0|      29110|             1|  20230614|\n",
      "|           Artane_33|    t5_3jj03|iamatotalpieceofshit|                0|              1|                  0|      26510|             1|  20230614|\n",
      "|             xdLoqqt|    t5_2qh1i|           AskReddit|                0|              1|                  0|       7363|             1|  20230614|\n",
      "|     Fit-Nobody-8138|    t5_3jp3p|   LeopardsAteMyFace|                0|              1|                  0|      27330|             1|  20230614|\n",
      "|EminemsDaughterSucks|   t5_2iku5r|    okbuddychicanery|                0|              0|                  0|       5087|             0|  20230614|\n",
      "|           gravityVT|    t5_2td2i|       nbacirclejerk|                0|              0|                  0|      12438|             0|  20230614|\n",
      "|NefariousnessBusy402|    t5_2zmfe|           dankmemes|                0|              0|                  0|      35456|             0|  20230614|\n",
      "|        lindsay_v192|    t5_2xmrc|           namenerds|                0|              0|                  0|       1316|             0|  20230614|\n",
      "+--------------------+------------+--------------------+-----------------+---------------+-------------------+-----------+--------------+----------+\n",
      "only showing top 20 rows\n",
      "\n"
     ]
    }
   ],
   "source": [
    "df.show()"
   ]
  },
  {
   "cell_type": "code",
   "execution_count": 11,
   "id": "c7df797d-8b04-4a4f-9029-33dffad06353",
   "metadata": {},
   "outputs": [],
   "source": [
    "from pyspark.sql.functions import col, sum\n",
    "\n",
    "df_gold = df.withColumn(\"total_gild_count\", col(\"total_gildings\")) \\\n",
    "                   .filter(col(\"total_gild_count\") > 0) \\\n",
    "                   .select(\"author\", \"subreddit_id\", \"subreddit\", \"total_gild_count\", \"total_score\", \"updated_at\")"
   ]
  },
  {
   "cell_type": "code",
   "execution_count": 12,
   "id": "d912f3f6-d339-4094-9f40-f803b050e442",
   "metadata": {},
   "outputs": [
    {
     "name": "stdout",
     "output_type": "stream",
     "text": [
      "+--------------------+------------+--------------------+----------------+-----------+----------+\n",
      "|              author|subreddit_id|           subreddit|total_gild_count|total_score|updated_at|\n",
      "+--------------------+------------+--------------------+----------------+-----------+----------+\n",
      "|     SpicyThunder335|   t5_4yrnne|            ModCoord|              12|      13730|  20230614|\n",
      "|           timmeh519|    t5_2qh5i|               happy|               8|     125457|  20230614|\n",
      "|          Riftmarked|    t5_3g1qk|       goldenknights|               3|       1746|  20230614|\n",
      "|          ICumCoffee|    t5_2qh3l|                news|               2|      46413|  20230614|\n",
      "|                PLPQ|    t5_2s8x6|            castiron|               1|      11829|  20230614|\n",
      "|    Eastern-Truck433|    t5_2qh5i|               happy|               1|      12734|  20230614|\n",
      "|       happysheeple3|   t5_43zwn1|          Superstonk|               1|       2995|  20230614|\n",
      "|         Goldeneye07|    t5_34o9s|        starterpacks|               1|      12823|  20230614|\n",
      "|           evaldez14|    t5_2qh6p|        Conservative|               1|       2406|  20230614|\n",
      "|      PICKLENUTJUICE|    t5_2yuqy|      TrueOffMyChest|               1|       2913|  20230614|\n",
      "|      TrumpterOFyvie|    t5_35n7t|  WhitePeopleTwitter|               1|      51292|  20230614|\n",
      "|  FremtidigeMegleren|    t5_2tbk2|       shittytattoos|               1|      64186|  20230614|\n",
      "|theindependentonline|    t5_2cneq|            politics|               1|      29110|  20230614|\n",
      "|           Artane_33|    t5_3jj03|iamatotalpieceofshit|               1|      26510|  20230614|\n",
      "|             xdLoqqt|    t5_2qh1i|           AskReddit|               1|       7363|  20230614|\n",
      "|     Fit-Nobody-8138|    t5_3jp3p|   LeopardsAteMyFace|               1|      27330|  20230614|\n",
      "+--------------------+------------+--------------------+----------------+-----------+----------+\n",
      "\n"
     ]
    }
   ],
   "source": [
    "df_gold.show()"
   ]
  },
  {
   "cell_type": "code",
   "execution_count": null,
   "id": "5699e25c-30ae-47e4-b2b7-c2f87e8c8fcb",
   "metadata": {},
   "outputs": [],
   "source": []
  }
 ],
 "metadata": {
  "kernelspec": {
   "display_name": "Python 3 (ipykernel)",
   "language": "python",
   "name": "python3"
  },
  "language_info": {
   "codemirror_mode": {
    "name": "ipython",
    "version": 3
   },
   "file_extension": ".py",
   "mimetype": "text/x-python",
   "name": "python",
   "nbconvert_exporter": "python",
   "pygments_lexer": "ipython3",
   "version": "3.10.11"
  }
 },
 "nbformat": 4,
 "nbformat_minor": 5
}
