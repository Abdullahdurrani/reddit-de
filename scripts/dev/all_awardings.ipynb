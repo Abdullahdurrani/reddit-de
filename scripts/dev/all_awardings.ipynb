{
 "cells": [
  {
   "cell_type": "code",
   "execution_count": 1,
   "id": "84d8145e-2310-46f2-a1b7-8ce1c6633afd",
   "metadata": {},
   "outputs": [
    {
     "data": {
      "text/html": [
       "<style>pre { white-space: pre !important; }</style>"
      ],
      "text/plain": [
       "<IPython.core.display.HTML object>"
      ]
     },
     "metadata": {},
     "output_type": "display_data"
    }
   ],
   "source": [
    "from pyspark.sql import SparkSession\n",
    "from vars import *\n",
    "from datetime import date\n",
    "from functions import flatten_json, loadConfigs\n",
    "from pyspark.sql.functions import lit\n",
    "from pyspark.sql.functions import col,explode\n",
    "\n",
    "spark = SparkSession.builder \\\n",
    "    .config(\"spark.hadoop.fs.s3a.aws.credentials.provider\", \"org.apache.hadoop.fs.s3a.SimpleAWSCredentialsProvider\") \\\n",
    "    .config(\"spark.jars\", \"/jars/postgresql-42.2.5.jar\") \\\n",
    "    .getOrCreate()\n",
    "loadConfigs(spark.sparkContext)\n",
    "\n",
    "from IPython.core.display import HTML\n",
    "display(HTML(\"<style>pre { white-space: pre !important; }</style>\"))"
   ]
  },
  {
   "cell_type": "code",
   "execution_count": 26,
   "id": "20dc9c51-54e9-496f-934d-63d6f2fbd6f8",
   "metadata": {},
   "outputs": [],
   "source": [
    "today = date.today().strftime('%Y%m%d')\n",
    "today = 20230326\n",
    "\n",
    "df_raw = spark.read.option(\"header\", \"true\") \\\n",
    "    .json(f\"s3a://{minio_bucket}/raw/popular_{today}.json\")"
   ]
  },
  {
   "cell_type": "code",
   "execution_count": 27,
   "id": "4a3a72d0-f6c5-473b-8b53-eec41fc70cc8",
   "metadata": {},
   "outputs": [],
   "source": [
    "df_raw = df_raw.select(explode(df_raw.data.children.data).alias(\"data\"))\n",
    "df_raw = df_raw.select(\"data.*\")"
   ]
  },
  {
   "cell_type": "code",
   "execution_count": 28,
   "id": "875a5bb0-4bef-4046-a350-cb0e49d0aac2",
   "metadata": {},
   "outputs": [],
   "source": [
    "df_awardings = df_raw.select(\"id\", \"author\", \"all_awardings\") \\\n",
    "                      .withColumnRenamed(\"id\", \"post_id\")"
   ]
  },
  {
   "cell_type": "code",
   "execution_count": 29,
   "id": "f0fd8cb3-5053-4fd3-8927-b71f6559e710",
   "metadata": {},
   "outputs": [],
   "source": [
    "df_awardings_exploded = df_awardings.select(\"post_id\", \"author\", explode(\"all_awardings\").alias(\"all_awardings\"))"
   ]
  },
  {
   "cell_type": "code",
   "execution_count": 30,
   "id": "2e7d4d98-8f56-437d-b28b-428ae742f296",
   "metadata": {},
   "outputs": [],
   "source": [
    "df_awardings_cleaned = df_awardings_exploded.select(\"*\", \"all_awardings.*\")\n",
    "df_awardings_cleaned = df_awardings_cleaned.drop(\"all_awardings\")"
   ]
  },
  {
   "cell_type": "code",
   "execution_count": 31,
   "id": "c2d10713-0975-4da8-9166-43d8c09e1369",
   "metadata": {},
   "outputs": [],
   "source": [
    "columns_to_drop = [\"resized_icons\",\"resized_static_icons\",\"icon_format\",\"icon_height\",\"icon_url\",\"icon_width\",\"static_icon_height\",\n",
    "                   \"static_icon_url\",\"static_icon_width\",\"sticky_duration_seconds\"]"
   ]
  },
  {
   "cell_type": "code",
   "execution_count": 33,
   "id": "963669fd-e572-4ecc-97af-e13286771d0f",
   "metadata": {},
   "outputs": [],
   "source": [
    "df_final = df_awardings_cleaned.drop(*[col for col in df_awardings_cleaned.columns if any(s in col for s in columns_to_drop)])"
   ]
  },
  {
   "cell_type": "code",
   "execution_count": 34,
   "id": "3386145f-a729-4157-b422-a08bf325b6d5",
   "metadata": {},
   "outputs": [],
   "source": [
    "df_final = df_final.dropDuplicates()"
   ]
  },
  {
   "cell_type": "code",
   "execution_count": 35,
   "id": "ac9b20e9-67e4-476d-a489-7e6dacddc25c",
   "metadata": {},
   "outputs": [],
   "source": [
    "df_final.write.mode(\"overwrite\").parquet(f\"s3a://{minio_bucket}/processed/all_awardings/all_awardings_{today}.parquet\")"
   ]
  },
  {
   "cell_type": "code",
   "execution_count": null,
   "id": "045abb44-bbe8-43c0-8143-296899fcbcd5",
   "metadata": {},
   "outputs": [],
   "source": []
  }
 ],
 "metadata": {
  "kernelspec": {
   "display_name": "Python 3 (ipykernel)",
   "language": "python",
   "name": "python3"
  },
  "language_info": {
   "codemirror_mode": {
    "name": "ipython",
    "version": 3
   },
   "file_extension": ".py",
   "mimetype": "text/x-python",
   "name": "python",
   "nbconvert_exporter": "python",
   "pygments_lexer": "ipython3",
   "version": "3.10.6"
  }
 },
 "nbformat": 4,
 "nbformat_minor": 5
}
