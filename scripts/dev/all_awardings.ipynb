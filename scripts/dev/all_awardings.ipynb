{
 "cells": [
  {
   "cell_type": "code",
   "execution_count": 1,
   "id": "84d8145e-2310-46f2-a1b7-8ce1c6633afd",
   "metadata": {},
   "outputs": [
    {
     "data": {
      "text/html": [
       "<style>pre { white-space: pre !important; }</style>"
      ],
      "text/plain": [
       "<IPython.core.display.HTML object>"
      ]
     },
     "metadata": {},
     "output_type": "display_data"
    }
   ],
   "source": [
    "from pyspark.sql import SparkSession\n",
    "from vars import *\n",
    "from datetime import date\n",
    "from functions import flatten_json, loadConfigs\n",
    "from pyspark.sql.functions import lit\n",
    "from pyspark.sql.functions import col,explode\n",
    "\n",
    "spark = SparkSession.builder \\\n",
    "    .config(\"spark.hadoop.fs.s3a.aws.credentials.provider\", \"org.apache.hadoop.fs.s3a.SimpleAWSCredentialsProvider\") \\\n",
    "    .config(\"spark.jars\", \"/jars/postgresql-42.2.5.jar\") \\\n",
    "    .getOrCreate()\n",
    "loadConfigs(spark.sparkContext)\n",
    "\n",
    "from IPython.core.display import HTML\n",
    "display(HTML(\"<style>pre { white-space: pre !important; }</style>\"))"
   ]
  },
  {
   "cell_type": "code",
   "execution_count": 2,
   "id": "692a0389-f074-48dc-912c-b96891c146a9",
   "metadata": {},
   "outputs": [],
   "source": [
    "today = date.today().strftime('%Y%m%d')\n",
    "today = 20230326\n",
    "output_file = \"all_awardings\""
   ]
  },
  {
   "cell_type": "code",
   "execution_count": 3,
   "id": "20dc9c51-54e9-496f-934d-63d6f2fbd6f8",
   "metadata": {},
   "outputs": [],
   "source": [
    "today = date.today().strftime('%Y%m%d')\n",
    "today = 20230326\n",
    "\n",
    "df_raw = spark.read.option(\"header\", \"true\") \\\n",
    "    .json(f\"s3a://{minio_bucket}/raw/popular_{today}.json\")"
   ]
  },
  {
   "cell_type": "code",
   "execution_count": 4,
   "id": "4a3a72d0-f6c5-473b-8b53-eec41fc70cc8",
   "metadata": {},
   "outputs": [],
   "source": [
    "df_raw = df_raw.select(explode(df_raw.data.children.data).alias(\"data\"))\n",
    "df_raw = df_raw.select(\"data.*\")"
   ]
  },
  {
   "cell_type": "code",
   "execution_count": 5,
   "id": "875a5bb0-4bef-4046-a350-cb0e49d0aac2",
   "metadata": {},
   "outputs": [],
   "source": [
    "df_awardings = df_raw.select(\"id\", \"author\", \"all_awardings\") \\\n",
    "                      .withColumnRenamed(\"id\", \"post_id\")"
   ]
  },
  {
   "cell_type": "code",
   "execution_count": 6,
   "id": "f0fd8cb3-5053-4fd3-8927-b71f6559e710",
   "metadata": {},
   "outputs": [],
   "source": [
    "df_awardings_exploded = df_awardings.select(\"post_id\", \"author\", explode(\"all_awardings\").alias(\"all_awardings\"))"
   ]
  },
  {
   "cell_type": "code",
   "execution_count": 7,
   "id": "2e7d4d98-8f56-437d-b28b-428ae742f296",
   "metadata": {},
   "outputs": [],
   "source": [
    "df_awardings_cleaned = df_awardings_exploded.select(\"*\", \"all_awardings.*\")\n",
    "df_awardings_cleaned = df_awardings_cleaned.drop(\"all_awardings\")"
   ]
  },
  {
   "cell_type": "code",
   "execution_count": 8,
   "id": "c2d10713-0975-4da8-9166-43d8c09e1369",
   "metadata": {},
   "outputs": [],
   "source": [
    "columns_to_drop = [\"resized_icons\",\"resized_static_icons\",\"icon_format\",\"icon_height\",\"icon_url\",\"icon_width\",\"static_icon_height\",\n",
    "                   \"static_icon_url\",\"static_icon_width\",\"sticky_duration_seconds\"]"
   ]
  },
  {
   "cell_type": "code",
   "execution_count": 9,
   "id": "963669fd-e572-4ecc-97af-e13286771d0f",
   "metadata": {},
   "outputs": [],
   "source": [
    "df_final = df_awardings_cleaned.drop(*[col for col in df_awardings_cleaned.columns if any(s in col for s in columns_to_drop)])"
   ]
  },
  {
   "cell_type": "code",
   "execution_count": 10,
   "id": "3386145f-a729-4157-b422-a08bf325b6d5",
   "metadata": {},
   "outputs": [],
   "source": [
    "df_final = df_final.dropDuplicates()"
   ]
  },
  {
   "cell_type": "code",
   "execution_count": 11,
   "id": "76ca8976-babb-4ff8-b3a4-9977a5673d8d",
   "metadata": {},
   "outputs": [],
   "source": [
    "df_final = df_final.withColumn(\"dateid\", lit(today))"
   ]
  },
  {
   "cell_type": "code",
   "execution_count": 12,
   "id": "dba362fc-0982-4f11-939e-b1d31dc7a51f",
   "metadata": {},
   "outputs": [
    {
     "name": "stdout",
     "output_type": "stream",
     "text": [
      "+-------+------------------+--------------+----------+------------------------------------+----------+-----------+-----+----------------------+---------------+--------------------+--------+-----------------+--------------------+----------+------+--------------------+------------+-----------+----------+---------------------+------------+---------------------------+--------+\n",
      "|post_id|            author|award_sub_type|award_type|awardings_required_to_grant_benefits|coin_price|coin_reward|count|days_of_drip_extension|days_of_premium|         description|end_date|giver_coin_reward|                  id|is_enabled|is_new|                name|penny_donate|penny_price|start_date|subreddit_coin_reward|subreddit_id|tiers_by_required_awardings|  dateid|\n",
      "+-------+------------------+--------------+----------+------------------------------------+----------+-----------+-----+----------------------+---------------+--------------------+--------+-----------------+--------------------+----------+------+--------------------+------------+-----------+----------+---------------------+------------+---------------------------+--------+\n",
      "|122475u|    ajamesmccarthy|        GLOBAL|    global|                                null|       500|        100|    1|                  null|           null|Thank you strange...|    null|             null|award_2ae56630-cf...|      true| false|       Helpful (Pro)|        null|       null|      null|                  100|        null|                       null|20230326|\n",
      "|1228spi|      DaFunkJunkie|        GLOBAL|    global|                                null|       500|        100|    1|                  null|              7|Gives 100 Reddit ...|    null|             null|               gid_2|      true| false|                Gold|        null|       null|      null|                    0|        null|                       null|20230326|\n",
      "|122475u|    ajamesmccarthy|     COMMUNITY| community|                                null|       500|          0|    4|                  null|           null|Shows the Great A...|    null|             null|award_ad3012ed-b5...|      true| false|Great Astrophotog...|        null|       null|      null|                  100|    t5_2qh87|                       null|20230326|\n",
      "|122dry7|          mindyour|        GLOBAL|    global|                                null|        50|          0|    2|                  null|           null|I'm in this with ...|    null|             null|award_02d9ab2c-16...|      true| false|      Take My Energy|        null|          0|      null|                    0|        null|                       null|20230326|\n",
      "|122475u|    ajamesmccarthy|        GLOBAL|    global|                                null|       125|          0|    1|                  null|           null|This goes a long ...|    null|             null|award_611ff347-19...|      true| false|Faith In Humanity...|        null|          0|      null|                    0|        null|                       null|20230326|\n",
      "|1225o1s|      gandalf45435|        GLOBAL|    global|                                null|       325|          0|    1|                  null|           null|Boldly go where w...|    null|             null|award_2bc47247-b1...|      true| false|        To The Stars|        null|          0|      null|                    0|        null|                       null|20230326|\n",
      "|122gu9d|           newnemo|        GLOBAL|    global|                                null|       350|          0|    1|                  null|           null|Hope to make it t...|    null|             null|award_2ff1fdd0-ff...|      true| false|Into the Magic Po...|        null|          0|      null|                    0|        null|                       null|20230326|\n",
      "|122it6q|       aiculxissor|        GLOBAL|    global|                                null|        50|          0|    1|                  null|           null|I'm in this with ...|    null|             null|award_02d9ab2c-16...|      true| false|      Take My Energy|        null|          0|      null|                    0|        null|                       null|20230326|\n",
      "|122475u|    ajamesmccarthy|        GLOBAL|    global|                                null|       150|          0|    1|                  null|           null|Thank you strange...|    null|             null|award_f44611f1-b8...|      true| false|             Helpful|        null|       null|      null|                    0|        null|                       null|20230326|\n",
      "|122475u|    ajamesmccarthy|        GLOBAL|    global|                                null|       250|          0|    1|                  null|           null|Cool to the infinity|    null|             null|award_aac76dbe-22...|      true| false|    Endless Coolness|        null|          0|      null|                    0|        null|                       null|20230326|\n",
      "|122475u|    ajamesmccarthy|        GLOBAL|    global|                                null|       400|          0|    4|                  null|           null| An amazing showing.|    null|             null|award_84276b1e-cc...|      true| false|              Bravo!|        null|          0|      null|                    0|        null|                       null|20230326|\n",
      "|1225ct4|waitingforthesun92|  APPRECIATION|    global|                                null|       250|        100|    2|                  null|           null|Beauty that's for...|    null|             null|award_31260000-2f...|      true| false|     Timeless Beauty|        null|       null|      null|                  100|        null|                       null|20230326|\n",
      "|122475u|    ajamesmccarthy|       PREMIUM|    global|                                null|        75|          0|    1|                  null|           null|For an especially...|    null|             null|award_9663243a-e7...|      true| false|       Bravo Grande!|        null|          0|      null|                    0|        null|                       null|20230326|\n",
      "|12251en|            cbbBot|        GLOBAL|    global|                                null|       325|          0|    1|                  null|           null|Boldly go where w...|    null|             null|award_2bc47247-b1...|      true| false|        To The Stars|        null|          0|      null|                    0|        null|                       null|20230326|\n",
      "|122475u|    ajamesmccarthy|        GLOBAL|    global|                                null|       100|          0|    2|                  null|           null|Shows the Silver ...|    null|             null|               gid_1|      true| false|              Silver|        null|       null|      null|                    0|        null|                       null|20230326|\n",
      "|122dry7|          mindyour|        GLOBAL|    global|                                null|       500|        100|    1|                  null|              7|Gives 100 Reddit ...|    null|             null|               gid_2|      true| false|                Gold|        null|       null|      null|                    0|        null|                       null|20230326|\n",
      "|122475u|    ajamesmccarthy|        GLOBAL|    global|                                null|        50|          0|    1|                  null|           null|Listen, get educa...|    null|             null|award_69c94eb4-d6...|      true| false|                Ally|        null|          0|      null|                    0|        null|                       null|20230326|\n",
      "|122dry7|          mindyour|       PREMIUM|    global|                                null|        30|          0|    1|                  null|           null|A glowing commend...|    null|             null|award_b4ff447e-05...|      true| false|   All-Seeing Upvote|        null|       null|      null|                    0|        null|                       null|20230326|\n",
      "|122475u|    ajamesmccarthy|        GLOBAL|    global|                                null|       100|          0|    1|                  null|           null|    C'est magnifique|    null|             null|award_b4072731-c0...|      true| false|         Masterpiece|        null|          0|      null|                    0|        null|                       null|20230326|\n",
      "|1225o1s|      gandalf45435|        GLOBAL|    global|                                null|        50|          0|    1|                  null|           null|I'm in this with ...|    null|             null|award_02d9ab2c-16...|      true| false|      Take My Energy|        null|          0|      null|                    0|        null|                       null|20230326|\n",
      "+-------+------------------+--------------+----------+------------------------------------+----------+-----------+-----+----------------------+---------------+--------------------+--------+-----------------+--------------------+----------+------+--------------------+------------+-----------+----------+---------------------+------------+---------------------------+--------+\n",
      "only showing top 20 rows\n",
      "\n"
     ]
    }
   ],
   "source": [
    "df_final.show()"
   ]
  },
  {
   "cell_type": "code",
   "execution_count": 13,
   "id": "ac9b20e9-67e4-476d-a489-7e6dacddc25c",
   "metadata": {},
   "outputs": [],
   "source": [
    "df_final.write.mode(\"overwrite\").parquet(f\"s3a://{minio_bucket}/processed/{output_file}/{output_file}_{today}\")"
   ]
  }
 ],
 "metadata": {
  "kernelspec": {
   "display_name": "Python 3 (ipykernel)",
   "language": "python",
   "name": "python3"
  },
  "language_info": {
   "codemirror_mode": {
    "name": "ipython",
    "version": 3
   },
   "file_extension": ".py",
   "mimetype": "text/x-python",
   "name": "python",
   "nbconvert_exporter": "python",
   "pygments_lexer": "ipython3",
   "version": "3.10.6"
  }
 },
 "nbformat": 4,
 "nbformat_minor": 5
}
