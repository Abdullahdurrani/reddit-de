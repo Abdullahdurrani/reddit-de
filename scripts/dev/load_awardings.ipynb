{
 "cells": [
  {
   "cell_type": "code",
   "execution_count": 1,
   "id": "43ac9683-c2d7-4db6-85de-85eb18f6b282",
   "metadata": {},
   "outputs": [
    {
     "data": {
      "text/html": [
       "<style>pre { white-space: pre !important; }</style>"
      ],
      "text/plain": [
       "<IPython.core.display.HTML object>"
      ]
     },
     "metadata": {},
     "output_type": "display_data"
    }
   ],
   "source": [
    "from pyspark.sql import SparkSession\n",
    "from vars import *\n",
    "from datetime import date\n",
    "from functions import flatten_json, loadConfigs\n",
    "from pyspark.sql.functions import lit\n",
    "from pyspark.sql.functions import col,explode\n",
    "\n",
    "spark = SparkSession.builder \\\n",
    "    .config(\"spark.hadoop.fs.s3a.aws.credentials.provider\", \"org.apache.hadoop.fs.s3a.SimpleAWSCredentialsProvider\") \\\n",
    "    .config(\"spark.jars\", \"/jars/postgresql-42.2.5.jar\") \\\n",
    "    .getOrCreate()\n",
    "loadConfigs(spark.sparkContext)\n",
    "\n",
    "from IPython.core.display import HTML\n",
    "display(HTML(\"<style>pre { white-space: pre !important; }</style>\"))"
   ]
  },
  {
   "cell_type": "code",
   "execution_count": 2,
   "id": "588e2830-0ead-4d57-ab7d-4f2a147e8506",
   "metadata": {},
   "outputs": [],
   "source": [
    "today = date.today().strftime('%Y%m%d')\n",
    "today = 20230326\n",
    "output_file = \"popular\""
   ]
  },
  {
   "cell_type": "code",
   "execution_count": 3,
   "id": "16408c75-6f19-4809-a1cf-101cc4ca8bce",
   "metadata": {},
   "outputs": [],
   "source": [
    "df = spark.read.option(\"header\", \"true\") \\\n",
    "    .parquet(f\"s3a://{minio_bucket}/processed/popular/popular_{today}\")"
   ]
  },
  {
   "cell_type": "code",
   "execution_count": 4,
   "id": "6f0759ff-b023-4623-8df9-9fa77a1c5d92",
   "metadata": {},
   "outputs": [],
   "source": [
    "table_name = \"staging.awardings\"\n",
    "mode = \"append\"\n",
    "properties = {\"user\": postgres_user, \"password\": postgres_pass}\n",
    "df.write.jdbc(url=postgres_url, table=table_name, mode=mode, properties=properties)"
   ]
  },
  {
   "cell_type": "code",
   "execution_count": null,
   "id": "f41dfbcc-381b-4de5-9d0f-38b6a52aaf22",
   "metadata": {},
   "outputs": [],
   "source": []
  }
 ],
 "metadata": {
  "kernelspec": {
   "display_name": "Python 3 (ipykernel)",
   "language": "python",
   "name": "python3"
  },
  "language_info": {
   "codemirror_mode": {
    "name": "ipython",
    "version": 3
   },
   "file_extension": ".py",
   "mimetype": "text/x-python",
   "name": "python",
   "nbconvert_exporter": "python",
   "pygments_lexer": "ipython3",
   "version": "3.10.6"
  }
 },
 "nbformat": 4,
 "nbformat_minor": 5
}
