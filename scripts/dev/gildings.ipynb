{
 "cells": [
  {
   "cell_type": "code",
   "execution_count": 1,
   "id": "4ba32fea-5b5f-4882-912b-376292356662",
   "metadata": {},
   "outputs": [
    {
     "data": {
      "text/html": [
       "<style>pre { white-space: pre !important; }</style>"
      ],
      "text/plain": [
       "<IPython.core.display.HTML object>"
      ]
     },
     "metadata": {},
     "output_type": "display_data"
    }
   ],
   "source": [
    "from pyspark.sql import SparkSession\n",
    "from vars import *\n",
    "from datetime import date\n",
    "from functions import flatten_json, loadConfigs\n",
    "from pyspark.sql.functions import lit\n",
    "from pyspark.sql.functions import col,explode\n",
    "\n",
    "spark = SparkSession.builder \\\n",
    "    .config(\"spark.hadoop.fs.s3a.aws.credentials.provider\", \"org.apache.hadoop.fs.s3a.SimpleAWSCredentialsProvider\") \\\n",
    "    .config(\"spark.jars\", \"/jars/postgresql-42.2.5.jar\") \\\n",
    "    .getOrCreate()\n",
    "loadConfigs(spark.sparkContext)\n",
    "\n",
    "from IPython.core.display import HTML\n",
    "display(HTML(\"<style>pre { white-space: pre !important; }</style>\"))"
   ]
  },
  {
   "cell_type": "code",
   "execution_count": 2,
   "id": "f7d357c4-1ea1-4de8-882d-c21016fcbaa3",
   "metadata": {},
   "outputs": [],
   "source": [
    "today = date.today().strftime('%Y%m%d')\n",
    "today = 20230326\n",
    "output_file = \"gildings\""
   ]
  },
  {
   "cell_type": "code",
   "execution_count": 3,
   "id": "6cbc6a26-8a93-4139-b94a-24ae46a1ab22",
   "metadata": {},
   "outputs": [],
   "source": [
    "df_raw = spark.read.option(\"header\", \"true\") \\\n",
    "    .json(f\"s3a://{minio_bucket}/raw/popular_{today}.json\")"
   ]
  },
  {
   "cell_type": "code",
   "execution_count": 4,
   "id": "d7126f6e-e074-4e9b-9321-7610b779d360",
   "metadata": {},
   "outputs": [],
   "source": [
    "df_raw = df_raw.select(explode(df_raw.data.children.data).alias(\"data\"))\n",
    "df_raw = df_raw.select(\"data.*\")"
   ]
  },
  {
   "cell_type": "code",
   "execution_count": 5,
   "id": "60e69508-99cb-47ed-9b55-95f0f774fd5b",
   "metadata": {},
   "outputs": [],
   "source": [
    "df_gildings = df_raw.select(\"id\", \"author\", \"gilded\", \"gildings\") \\\n",
    "                      .withColumnRenamed(\"id\", \"post_id\")"
   ]
  },
  {
   "cell_type": "code",
   "execution_count": 6,
   "id": "2ab381ea-3660-4e2c-a5b6-9f22b7028c3e",
   "metadata": {},
   "outputs": [
    {
     "name": "stdout",
     "output_type": "stream",
     "text": [
      "root\n",
      " |-- post_id: string (nullable = true)\n",
      " |-- author: string (nullable = true)\n",
      " |-- gilded: long (nullable = true)\n",
      " |-- gildings: struct (nullable = true)\n",
      " |    |-- gid_1: long (nullable = true)\n",
      " |    |-- gid_2: long (nullable = true)\n",
      " |    |-- gid_3: long (nullable = true)\n",
      "\n"
     ]
    }
   ],
   "source": [
    "df_gildings.printSchema()"
   ]
  },
  {
   "cell_type": "code",
   "execution_count": 7,
   "id": "3a7a6d38-29b4-418b-9669-1b79cd1f3baf",
   "metadata": {},
   "outputs": [],
   "source": [
    "df_gildings = df_gildings.select(\"*\", \"gildings.*\")"
   ]
  },
  {
   "cell_type": "code",
   "execution_count": 8,
   "id": "06e88bd5-0d7f-473a-a38a-28657860eded",
   "metadata": {},
   "outputs": [],
   "source": [
    "df_renamed = df_gildings.withColumnRenamed(\"gid_1\", \"gild_silver\") \\\n",
    "                        .withColumnRenamed(\"gid_2\", \"gild_gold\") \\\n",
    "                        .withColumnRenamed(\"gid_3\", \"gild_platinum\")"
   ]
  },
  {
   "cell_type": "code",
   "execution_count": 9,
   "id": "e84fedac-8dfa-47df-9911-7522043d0424",
   "metadata": {},
   "outputs": [],
   "source": [
    "df_final = df_renamed.dropDuplicates()"
   ]
  },
  {
   "cell_type": "code",
   "execution_count": 10,
   "id": "6bdb7eb6-20a7-41f7-a5cc-e35c58f71fa5",
   "metadata": {},
   "outputs": [],
   "source": [
    "df_final = df_final.withColumn(\"dateid\", lit(today))"
   ]
  },
  {
   "cell_type": "code",
   "execution_count": 11,
   "id": "aba152d0-79ac-4921-af6f-17ed7a97deee",
   "metadata": {},
   "outputs": [
    {
     "name": "stdout",
     "output_type": "stream",
     "text": [
      "+-------+------------------+------+------------------+-----------+---------+-------------+--------+\n",
      "|post_id|            author|gilded|          gildings|gild_silver|gild_gold|gild_platinum|  dateid|\n",
      "+-------+------------------+------+------------------+-----------+---------+-------------+--------+\n",
      "|1228spi|      DaFunkJunkie|     1|   {null, 1, null}|       null|        1|         null|20230326|\n",
      "|122kctz|    Armpit_Penguin|     0|{null, null, null}|       null|     null|         null|20230326|\n",
      "|11isfra|            elch3w|     0|{null, null, null}|       null|     null|         null|20230326|\n",
      "|122gu9d|           newnemo|     0|{null, null, null}|       null|     null|         null|20230326|\n",
      "|1225ct4|waitingforthesun92|     0|{null, null, null}|       null|     null|         null|20230326|\n",
      "|122a253|      EatMoarPussy|     0|{null, null, null}|       null|     null|         null|20230326|\n",
      "|122keu9|      King_DeandDe|     0|{null, null, null}|       null|     null|         null|20230326|\n",
      "|1223omu|         Yoshi2010|     0|{null, null, null}|       null|     null|         null|20230326|\n",
      "|122475u|    ajamesmccarthy|    19|        {2, 18, 9}|          2|       18|            9|20230326|\n",
      "|12291c1|      Jacindardern|     3|   {null, 3, null}|       null|        3|         null|20230326|\n",
      "|122hf9z|        Sky-lander|     0|{null, null, null}|       null|     null|         null|20230326|\n",
      "|122it6q|       aiculxissor|     0|{null, null, null}|       null|     null|         null|20230326|\n",
      "|1223h92|MarvelsGrantMan136|     0|{null, null, null}|       null|     null|         null|20230326|\n",
      "|121x73f|   diamondsodacoma|     0|{null, null, null}|       null|     null|         null|20230326|\n",
      "|121uwwz|  MSaviationmuseum|     0|{null, null, null}|       null|     null|         null|20230326|\n",
      "|1225o1s|      gandalf45435|     0|   {1, null, null}|          1|     null|         null|20230326|\n",
      "|1224q5l|         1whoknows|     0|{null, null, null}|       null|     null|         null|20230326|\n",
      "|12251en|            cbbBot|     1|   {null, 1, null}|       null|        1|         null|20230326|\n",
      "|122dry7|          mindyour|     1|   {null, 1, null}|       null|        1|         null|20230326|\n",
      "|122it6v|       quocthang98|     0|{null, null, null}|       null|     null|         null|20230326|\n",
      "+-------+------------------+------+------------------+-----------+---------+-------------+--------+\n",
      "only showing top 20 rows\n",
      "\n"
     ]
    }
   ],
   "source": [
    "df_final.show()"
   ]
  },
  {
   "cell_type": "code",
   "execution_count": 12,
   "id": "e13a1b53-387f-41ba-b1d8-d61f88d04f9e",
   "metadata": {},
   "outputs": [],
   "source": [
    "df_final.write.mode(\"overwrite\").parquet(f\"s3a://{minio_bucket}/processed/{output_file}/{output_file}_{today}\")"
   ]
  }
 ],
 "metadata": {
  "kernelspec": {
   "display_name": "Python 3 (ipykernel)",
   "language": "python",
   "name": "python3"
  },
  "language_info": {
   "codemirror_mode": {
    "name": "ipython",
    "version": 3
   },
   "file_extension": ".py",
   "mimetype": "text/x-python",
   "name": "python",
   "nbconvert_exporter": "python",
   "pygments_lexer": "ipython3",
   "version": "3.10.6"
  }
 },
 "nbformat": 4,
 "nbformat_minor": 5
}
