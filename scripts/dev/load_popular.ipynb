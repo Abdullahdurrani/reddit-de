{
 "cells": [
  {
   "cell_type": "code",
   "execution_count": null,
   "id": "854f81ae-6e16-4528-aae1-68948916ec36",
   "metadata": {},
   "outputs": [],
   "source": [
    "from pyspark.sql import SparkSession\n",
    "from vars import *\n",
    "from datetime import date\n",
    "from functions import loadConfigs\n",
    "from pyspark.sql.functions import lit\n",
    "from pyspark.sql.functions import explode\n",
    "\n",
    "spark = SparkSession.builder \\\n",
    "    .config(\"spark.hadoop.fs.s3a.aws.credentials.provider\", \"org.apache.hadoop.fs.s3a.SimpleAWSCredentialsProvider\") \\\n",
    "    .config(\"spark.jars\", \"/jars/postgresql-42.2.5.jar\") \\\n",
    "    .getOrCreate()\n",
    "loadConfigs(spark.sparkContext)\n",
    "\n",
    "today = date.today().strftime('%Y%m%d')\n",
    "# today = 20230326\n",
    "\n",
    "output_folder = \"popular\"\n",
    "output_file = \"popular\"\n",
    "\n",
    "df_raw = spark.read.option(\"header\", \"true\") \\\n",
    "    .json(f\"s3a://{minio_bucket}/raw/popular_{today}.json\")\n",
    "\n",
    "df_raw = df_raw.select(explode(df_raw.data.children.data).alias(\"data\"))\n",
    "df_raw = df_raw.select(\"data.*\")\n",
    "\n",
    "columns_list = df_raw.columns\n",
    "\n",
    "flair_list = [s for s in columns_list if \"_flair\" in s or \"mod_\" in s or \"url\" in s or \"remov\" in s]\n",
    "\n",
    "columns_to_drop = flair_list + [\"all_awardings\",\"author_flair_richtext\",\"author_is_blocked\",\"gildings\",\"link_flair_richtext\",\"media\",\"preview\",\n",
    "                                \"tournament_data\",\"allow_live_comments\",\"approved_by\",\"banned_at_utc\",\"banned_by\",\"contest_mode\",\n",
    "                                \"thumbnail_height\",\"thumbnail_width\",\"user_reports\",\"treatment_tags\",\"content_categories\",\"awarders\"]\n",
    "\n",
    "df_cleaned = df_raw.drop(*[col for col in df_raw.columns if any(s in col for s in columns_to_drop)])\n",
    "\n",
    "df_final = df_cleaned.dropDuplicates()\n",
    "df_final = df_final.withColumn(\"dateid\", lit(today))\n",
    "\n",
    "df_final.write.mode(\"overwrite\").parquet(f\"s3a://{minio_bucket}/processed/{output_folder}/{output_file}_{today}\")"
   ]
  }
 ],
 "metadata": {
  "kernelspec": {
   "display_name": "Python 3 (ipykernel)",
   "language": "python",
   "name": "python3"
  },
  "language_info": {
   "codemirror_mode": {
    "name": "ipython",
    "version": 3
   },
   "file_extension": ".py",
   "mimetype": "text/x-python",
   "name": "python",
   "nbconvert_exporter": "python",
   "pygments_lexer": "ipython3",
   "version": "3.10.11"
  }
 },
 "nbformat": 4,
 "nbformat_minor": 5
}
