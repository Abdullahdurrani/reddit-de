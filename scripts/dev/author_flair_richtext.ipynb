{
 "cells": [
  {
   "cell_type": "code",
   "execution_count": 19,
   "id": "a12052cc-9e7a-4d26-a302-dc3547f0ece8",
   "metadata": {},
   "outputs": [
    {
     "data": {
      "text/html": [
       "<style>pre { white-space: pre !important; }</style>"
      ],
      "text/plain": [
       "<IPython.core.display.HTML object>"
      ]
     },
     "metadata": {},
     "output_type": "display_data"
    }
   ],
   "source": [
    "from pyspark.sql import SparkSession\n",
    "from vars import *\n",
    "from datetime import date\n",
    "from functions import flatten_json, loadConfigs\n",
    "from pyspark.sql.functions import lit\n",
    "from pyspark.sql.functions import col,explode\n",
    "\n",
    "spark = SparkSession.builder \\\n",
    "    .config(\"spark.hadoop.fs.s3a.aws.credentials.provider\", \"org.apache.hadoop.fs.s3a.SimpleAWSCredentialsProvider\") \\\n",
    "    .config(\"spark.jars\", \"/jars/postgresql-42.2.5.jar\") \\\n",
    "    .getOrCreate()\n",
    "loadConfigs(spark.sparkContext)\n",
    "\n",
    "from IPython.core.display import HTML\n",
    "display(HTML(\"<style>pre { white-space: pre !important; }</style>\"))"
   ]
  },
  {
   "cell_type": "code",
   "execution_count": 20,
   "id": "874dc0ba-96ad-4ec0-ba83-0276b8bf6d4a",
   "metadata": {},
   "outputs": [],
   "source": [
    "today = date.today().strftime('%Y%m%d')\n",
    "today = 20230326\n",
    "output_file = \"author_flair_richtext\""
   ]
  },
  {
   "cell_type": "code",
   "execution_count": 40,
   "id": "c17c4e89-a3be-41d9-a8af-59e23c01a758",
   "metadata": {},
   "outputs": [],
   "source": [
    "df_raw = spark.read.option(\"header\", \"true\") \\\n",
    "    .json(f\"s3a://{minio_bucket}/raw/popular_{today}.json\")"
   ]
  },
  {
   "cell_type": "code",
   "execution_count": 41,
   "id": "e0b378e7-8ca5-40b4-9961-b82f7ecbc559",
   "metadata": {},
   "outputs": [],
   "source": [
    "df_raw = df_raw.select(explode(df_raw.data.children.data).alias(\"data\"))\n",
    "df_raw = df_raw.select(\"data.*\")"
   ]
  },
  {
   "cell_type": "code",
   "execution_count": 42,
   "id": "94c3b49d-3422-47f9-a19f-f8bbe3bd64c5",
   "metadata": {},
   "outputs": [],
   "source": [
    "df_author_flair_richtext = df_raw.select(\"id\",\"author\",\"author_flair_richtext\",\n",
    "                                         \"author_flair_template_id\",\"author_flair_template_id\",\n",
    "                                         \"author_flair_text\",\"author_flair_type\") \\\n",
    "                                  .withColumnRenamed(\"id\", \"post_id\")"
   ]
  },
  {
   "cell_type": "code",
   "execution_count": 43,
   "id": "d8585a9c-4a27-4c39-ab29-95717390ea06",
   "metadata": {},
   "outputs": [],
   "source": [
    "df_author_flair_exploded = df_author_flair_richtext.select(\"post_id\",\"author\",\n",
    "                                                           \"author_flair_template_id\",\n",
    "                                                           \"author_flair_text\",\"author_flair_type\",\n",
    "                                                           explode(\"author_flair_richtext\").alias(\"author_flair_richtext\"))"
   ]
  },
  {
   "cell_type": "code",
   "execution_count": 44,
   "id": "f9f2daef-d82c-4df3-ab78-ed779d67590a",
   "metadata": {},
   "outputs": [],
   "source": [
    "df_author_flair_cleaned = df_author_flair_exploded.select(\"*\", \"author_flair_richtext.*\")\n",
    "df_author_flair_cleaned = df_author_flair_cleaned.drop(\"author_flair_richtext\", \"u\")"
   ]
  },
  {
   "cell_type": "code",
   "execution_count": 45,
   "id": "ce68b0e6-f9d6-45e1-82b7-6b1d8c9a9b7f",
   "metadata": {},
   "outputs": [],
   "source": [
    "df_author_flair_renamed = df_author_flair_cleaned.withColumnRenamed(\"a\", \"additional_attributes\") \\\n",
    "                                                                   .withColumnRenamed(\"e\", \"type\") \\\n",
    "                                                                   .withColumnRenamed(\"t\", \"text\")"
   ]
  },
  {
   "cell_type": "code",
   "execution_count": 46,
   "id": "6980d7e3-e879-4e91-beb0-ce30602e1c00",
   "metadata": {},
   "outputs": [],
   "source": [
    "df_final = df_author_flair_renamed.dropDuplicates()"
   ]
  },
  {
   "cell_type": "code",
   "execution_count": 47,
   "id": "4d8be529-96ce-4645-8ea2-a6120e281729",
   "metadata": {},
   "outputs": [],
   "source": [
    "df_final = df_final.withColumn(\"dateid\", lit(today))"
   ]
  },
  {
   "cell_type": "code",
   "execution_count": 48,
   "id": "959a3e68-6ea5-4afc-bedb-1fffcbf9ea92",
   "metadata": {},
   "outputs": [
    {
     "name": "stdout",
     "output_type": "stream",
     "text": [
      "+-------+------------------+------------------------+--------------------+-----------------+---------------------+-----+--------------------+--------+\n",
      "|post_id|            author|author_flair_template_id|   author_flair_text|author_flair_type|additional_attributes| type|                text|  dateid|\n",
      "+-------+------------------+------------------------+--------------------+-----------------+---------------------+-----+--------------------+--------+\n",
      "|1223h92|MarvelsGrantMan136|                    null|r/Movies contributor|         richtext|                 null| text|r/Movies contributor|20230326|\n",
      "|1225o1s|      gandalf45435|    32fb913a-fd7d-11e...|:natsm: Dyrus Mic...|         richtext|              :natsm:|emoji|                null|20230326|\n",
      "|11isfra|            elch3w|    c1aefe16-027b-11e...|:MayMayMaker: MAY...|         richtext|        :MayMayMaker:|emoji|                null|20230326|\n",
      "|12251en|            cbbBot|                    null|:rcbb: :ncaa: /r/...|         richtext|               :ncaa:|emoji|                null|20230326|\n",
      "|12251en|            cbbBot|                    null|:rcbb: :ncaa: /r/...|         richtext|                 null| text| /r/CollegeBasket...|20230326|\n",
      "|12251en|            cbbBot|                    null|:rcbb: :ncaa: /r/...|         richtext|               :rcbb:|emoji|                null|20230326|\n",
      "|12251en|            cbbBot|                    null|:rcbb: :ncaa: /r/...|         richtext|                 null| text|                    |20230326|\n",
      "|1228spi|      DaFunkJunkie|    df8aaa40-0653-11e...|          :verified:|         richtext|           :verified:|emoji|                null|20230326|\n",
      "|1225o1s|      gandalf45435|    32fb913a-fd7d-11e...|:natsm: Dyrus Mic...|         richtext|                 null| text| Dyrus Microwave ...|20230326|\n",
      "|11isfra|            elch3w|    c1aefe16-027b-11e...|:MayMayMaker: MAY...|         richtext|                 null| text|       MAYMAYMAKERS |20230326|\n",
      "+-------+------------------+------------------------+--------------------+-----------------+---------------------+-----+--------------------+--------+\n",
      "\n"
     ]
    }
   ],
   "source": [
    "df_final.show()"
   ]
  },
  {
   "cell_type": "code",
   "execution_count": 49,
   "id": "25187aba-e4b7-40b5-b373-bf64a7fac169",
   "metadata": {},
   "outputs": [],
   "source": [
    "df_final.write.mode(\"overwrite\").parquet(f\"s3a://{minio_bucket}/processed/{output_file}/{output_file}_{today}\")"
   ]
  },
  {
   "cell_type": "code",
   "execution_count": null,
   "id": "d6bc711a-43cc-4bf1-8628-e321cf0b8d77",
   "metadata": {},
   "outputs": [],
   "source": []
  }
 ],
 "metadata": {
  "kernelspec": {
   "display_name": "Python 3 (ipykernel)",
   "language": "python",
   "name": "python3"
  },
  "language_info": {
   "codemirror_mode": {
    "name": "ipython",
    "version": 3
   },
   "file_extension": ".py",
   "mimetype": "text/x-python",
   "name": "python",
   "nbconvert_exporter": "python",
   "pygments_lexer": "ipython3",
   "version": "3.10.6"
  }
 },
 "nbformat": 4,
 "nbformat_minor": 5
}
