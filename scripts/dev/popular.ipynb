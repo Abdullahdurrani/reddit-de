{
 "cells": [
  {
   "cell_type": "code",
   "execution_count": 1,
   "id": "4558da3d-0a7e-434d-9470-d3c92d429f22",
   "metadata": {},
   "outputs": [
    {
     "data": {
      "text/html": [
       "<style>pre { white-space: pre !important; }</style>"
      ],
      "text/plain": [
       "<IPython.core.display.HTML object>"
      ]
     },
     "metadata": {},
     "output_type": "display_data"
    }
   ],
   "source": [
    "from pyspark.sql import SparkSession\n",
    "from vars import *\n",
    "from datetime import date\n",
    "from functions import flatten_json, loadConfigs\n",
    "from pyspark.sql.functions import lit\n",
    "from pyspark.sql.functions import col,explode\n",
    "\n",
    "spark = SparkSession.builder \\\n",
    "    .config(\"spark.hadoop.fs.s3a.aws.credentials.provider\", \"org.apache.hadoop.fs.s3a.SimpleAWSCredentialsProvider\") \\\n",
    "    .config(\"spark.jars\", \"/jars/postgresql-42.2.5.jar\") \\\n",
    "    .getOrCreate()\n",
    "loadConfigs(spark.sparkContext)\n",
    "\n",
    "from IPython.core.display import HTML\n",
    "display(HTML(\"<style>pre { white-space: pre !important; }</style>\"))"
   ]
  },
  {
   "cell_type": "code",
   "execution_count": 2,
   "id": "485da54a-3f43-4a80-a30a-04b26311fb42",
   "metadata": {},
   "outputs": [],
   "source": [
    "today = date.today().strftime('%Y%m%d')\n",
    "today = 20230326\n",
    "output_file = \"popular\""
   ]
  },
  {
   "cell_type": "code",
   "execution_count": 3,
   "id": "3abf22e3-5532-4b10-9ab2-c1d6719bfb05",
   "metadata": {},
   "outputs": [],
   "source": [
    "df_raw = spark.read.option(\"header\", \"true\") \\\n",
    "    .json(f\"s3a://{minio_bucket}/raw/popular_{today}.json\")"
   ]
  },
  {
   "cell_type": "code",
   "execution_count": 4,
   "id": "ff49f584-d569-49a8-a704-de2509199feb",
   "metadata": {},
   "outputs": [],
   "source": [
    "df_raw = df_raw.select(explode(df_raw.data.children.data).alias(\"data\"))\n",
    "df_raw = df_raw.select(\"data.*\")"
   ]
  },
  {
   "cell_type": "code",
   "execution_count": 5,
   "id": "e74925a3-3716-43b8-8c0a-276dd10edbee",
   "metadata": {},
   "outputs": [],
   "source": [
    "columns_list = df_raw.columns"
   ]
  },
  {
   "cell_type": "code",
   "execution_count": 6,
   "id": "fb48ad05-7548-413c-9643-148c1960a1a3",
   "metadata": {},
   "outputs": [],
   "source": [
    "flair_list = [s for s in columns_list if \"_flair\" in s or \"mod_\" in s or \"url\" in s or \"remov\" in s]"
   ]
  },
  {
   "cell_type": "code",
   "execution_count": 7,
   "id": "c7aae856-b1d4-4ebe-9d70-3c3c90c73c5a",
   "metadata": {},
   "outputs": [],
   "source": [
    "columns_to_drop = flair_list + [\"all_awardings\",\"author_flair_richtext\",\"author_is_blocked\",\"gildings\",\"link_flair_richtext\",\"media\",\"preview\",\n",
    "                                \"tournament_data\",\"allow_live_comments\",\"approved_by\",\"banned_at_utc\",\"banned_by\",\"contest_mode\",\n",
    "                                \"thumbnail_height\",\"thumbnail_width\",\"user_reports\",\"treatment_tags\",\"content_categories\",\"awarders\"]"
   ]
  },
  {
   "cell_type": "code",
   "execution_count": 8,
   "id": "aae23231-86e8-4379-aa75-22c3a8862859",
   "metadata": {},
   "outputs": [],
   "source": [
    "df_cleaned = df_raw.drop(*[col for col in df_raw.columns if any(s in col for s in columns_to_drop)])"
   ]
  },
  {
   "cell_type": "code",
   "execution_count": 9,
   "id": "f6d8c197-e170-4360-80d3-440719f8785e",
   "metadata": {},
   "outputs": [],
   "source": [
    "df_final = df_cleaned.dropDuplicates()\n",
    "df_final = df_final.withColumn(\"dateid\", lit(today))"
   ]
  },
  {
   "cell_type": "code",
   "execution_count": 10,
   "id": "a7294a5a-b226-4736-80a7-671837822317",
   "metadata": {},
   "outputs": [
    {
     "name": "stdout",
     "output_type": "stream",
     "text": [
      "+---------------+--------+------------------+--------------+---------------+--------------+--------+--------+-------+-------------+-------------+---------------+-------------+--------------------+-----+-------------+------+------+----------+-------+----------------------+----------------+-------+-------------------+------------------+-------+--------+-----+------+----------+---------+------------+--------------+-----------+-------+-----------------------+--------------------+------+------------+----+----------+--------------+-----+------+--------------------+--------------------+------------+-------+--------+--------------------+------------+-----------------------+---------------------+--------------+--------------+--------------------+--------------------+----------------+---------------------+------+------------+----------+-------+----------------+----+--------+\n",
      "|approved_at_utc|archived|            author|author_cakeday|author_fullname|author_premium|can_gild|category|clicked|      created|  created_utc|discussion_type|distinguished|              domain|downs|       edited|gilded|hidden|hide_score|     id|is_created_from_ads_ui|is_crosspostable|is_meta|is_original_content|is_robot_indexable|is_self|is_video|likes|locked|      name|no_follow|num_comments|num_crossposts|num_reports|over_18|parent_whitelist_status|           permalink|pinned|   post_hint|pwls|quarantine|report_reasons|saved| score|            selftext|       selftext_html|send_replies|spoiler|stickied|           subreddit|subreddit_id|subreddit_name_prefixed|subreddit_subscribers|subreddit_type|suggested_sort|           thumbnail|               title|top_awarded_type|total_awards_received|   ups|upvote_ratio|view_count|visited|whitelist_status| wls|  dateid|\n",
      "+---------------+--------+------------------+--------------+---------------+--------------+--------+--------+-------+-------------+-------------+---------------+-------------+--------------------+-----+-------------+------+------+----------+-------+----------------------+----------------+-------+-------------------+------------------+-------+--------+-----+------+----------+---------+------------+--------------+-----------+-------+-----------------------+--------------------+------+------------+----+----------+--------------+-----+------+--------------------+--------------------+------------+-------+--------+--------------------+------------+-----------------------+---------------------+--------------+--------------+--------------------+--------------------+----------------+---------------------+------+------------+----------+-------+----------------+----+--------+\n",
      "|           null|   false|       quocthang98|          null|   t2_5xsmcoenl|         false|    true|    null|  false|1.679828729E9|1.679828729E9|           null|         null|           i.redd.it|    0|        false|     0| false|     false|122it6v|                 false|            true|  false|              false|              true|  false|   false| null| false|t3_122it6v|    false|         340|             2|       null|  false|                all_ads|/r/Damnthatsinter...| false|       image|   6|     false|          null|false|  9618|                    |                null|        true|  false|   false|Damnthatsinteresting|    t5_2xxyj|   r/Damnthatsintere...|              9318112|        public|          null|https://b.thumbs....|A 'Knocker-up' wa...|            null|                    0|  9618|        0.97|      null|  false|         all_ads|   6|20230326|\n",
      "|           null|   false|   Superbuddhapunk|          null|       t2_k3ppt|         false|    true|    null|  false|1.679826673E9|1.679826673E9|           null|         null|         cbsnews.com|    0|        false|     0| false|     false|122i5jm|                 false|            true|  false|              false|              true|  false|   false| null| false|t3_122i5jm|    false|         607|             5|       null|  false|                all_ads|/r/news/comments/...| false|        link|   6|     false|          null|false| 11996|                    |                null|       false|  false|   false|                news|    t5_2qh3l|                 r/news|             25973309|        public|          null|             default|Newly opened Muse...|            null|                    0| 11996|        0.97|      null|  false|         all_ads|   6|20230326|\n",
      "|           null|   false|       johnzanussi|          null|       t2_3g1lt|          true|    true|    null|  false|1.679774578E9|1.679774578E9|           null|         null|           i.redd.it|    0|        false|     1| false|     false|121xdoq|                 false|            true|  false|              false|              true|  false|   false| null| false|t3_121xdoq|    false|        1722|             5|       null|  false|               some_ads|/r/Wellthatsucks/...| false|       image|   7|     false|          null|false| 30476|                    |                null|        true|  false|   false|       Wellthatsucks|    t5_2xcv7|        r/Wellthatsucks|              3195037|        public|          null|https://b.thumbs....|Went for a regula...|            null|                    1| 30476|        0.95|      null|  false|        some_ads|   7|20230326|\n",
      "|           null|   false|         Yoshi2010|          null|       t2_n8ziq|         false|    true|    null|  false| 1.67978786E9| 1.67978786E9|           null|         null|         variety.com|    0|        false|     0| false|     false|1223omu|                 false|            true|  false|              false|              true|  false|   false| null| false|t3_1223omu|    false|        1347|             5|       null|  false|                all_ads|/r/todayilearned/...| false|        link|   6|     false|          null|false| 53558|                    |                null|        true|  false|   false|       todayilearned|    t5_2qqjc|        r/todayilearned|             31106084|        public|          null|https://b.thumbs....|TIL that Channel ...|            null|                    0| 53558|        0.91|      null|  false|         all_ads|   6|20230326|\n",
      "|           null|   false|       aiculxissor|          true|    t2_3hj9ptwn|         false|    true|    null|  false|1.679828729E9|1.679828729E9|           null|         null|           i.redd.it|    0|        false|     0| false|     false|122it6q|                 false|            true|  false|              false|              true|  false|   false| null| false|t3_122it6q|    false|         160|             2|       null|  false|                all_ads|/r/me_irl/comment...| false|       image|   6|     false|          null|false|  8339|                    |                null|        true|  false|   false|              me_irl|    t5_2vegg|               r/me_irl|              7249180|        public|          null|https://b.thumbs....|              me_irl|            null|                    1|  8339|        0.97|      null|  false|         all_ads|   6|20230326|\n",
      "|           null|   false|  MSaviationmuseum|          null|    t2_vmvk9yrn|         false|    true|    null|  false|1.679769475E9|1.679769475E9|           null|         null|           i.redd.it|    0|        false|     0| false|     false|121uwwz|                 false|            true|  false|              false|              true|  false|   false| null| false|t3_121uwwz|    false|        1449|             0|       null|  false|                all_ads|/r/aviation/comme...| false|       image|   6|     false|          null|false|  4770|We're rather bias...|&lt;!-- SC_OFF --...|        true|  false|   false|            aviation|    t5_2qhu8|             r/aviation|              1143745|        public|          null|https://b.thumbs....|If you could brin...|            null|                    0|  4770|        0.93|      null|  false|         all_ads|   6|20230326|\n",
      "|           null|   false|waitingforthesun92|          null|    t2_by3ixbpd|          true|    true|    null|  false|1.679791497E9|1.679791497E9|           null|         null|           i.redd.it|    0|        false|     0| false|     false|1225ct4|                 false|            true|  false|              false|              true|  false|   false| null| false|t3_1225ct4|    false|        2042|            11|       null|  false|                all_ads|/r/pics/comments/...| false|       image|   6|     false|          null|false| 27151|                    |                null|        true|  false|   false|                pics|    t5_2qh0u|                 r/pics|             29893910|        public|          null|https://b.thumbs....|This poem that Le...|            null|                    3| 27151|        0.83|      null|  false|         all_ads|   6|20230326|\n",
      "|           null|   false|      gandalf45435|          null|       t2_7mqi5|          true|    true|    null|  false|  1.6797922E9|  1.6797922E9|           null|         null|self.leagueoflegends|    0|1.679802848E9|     0| false|     false|1225o1s|                 false|            true|  false|              false|              true|   true|   false| null| false|t3_1225o1s|    false|        1182|             1|       null|  false|                all_ads|/r/leagueoflegend...| false|        self|   6|     false|          null|false|  2653|###LCS 2023 SPRIN...|&lt;!-- SC_OFF --...|       false|   true|   false|     leagueoflegends|    t5_2rfxx|      r/leagueoflegends|              6249541|        public|          null|             spoiler|100 Thieves vs. G...|            null|                    4|  2653|         0.9|      null|  false|         all_ads|   6|20230326|\n",
      "|           null|   false|    Armpit_Penguin|          null|       t2_qjnkz|          true|    true|    null|  false|1.679833101E9|1.679833101E9|           null|         null|           i.redd.it|    0|        false|     0| false|     false|122kctz|                 false|            true|  false|              false|              true|  false|   false| null| false|t3_122kctz|    false|          80|             0|       null|  false|                all_ads|/r/comics/comment...| false|       image|   6|     false|          null|false|  9281|                    |                null|        true|  false|   false|              comics|    t5_2qh0s|               r/comics|              2132995|        public|          null|https://b.thumbs....| The introvert curse|            null|                    1|  9281|        0.97|      null|  false|         all_ads|   6|20230326|\n",
      "|           null|   false|      DaFunkJunkie|          null|    t2_4bxi11t9|          true|    true|    null|  false|1.679798998E9|1.679798998E9|           null|         null|           i.redd.it|    0|        false|     1| false|     false|1228spi|                 false|            true|  false|              false|              true|  false|   false| null| false|t3_1228spi|    false|        2148|             5|       null|  false|               some_ads|/r/WhitePeopleTwi...| false|       image|   7|     false|          null|false| 45328|                    |                null|        true|  false|   false|  WhitePeopleTwitter|    t5_35n7t|   r/WhitePeopleTwitter|              2849690|        public|          null|https://b.thumbs....|Something is seri...|            null|                    2| 45328|        0.88|      null|  false|        some_ads|   7|20230326|\n",
      "|           null|   false|         1whoknows|          null|       t2_6zqqg|         false|    true|    null|  false|1.679790098E9|1.679790098E9|           null|         null|           v.redd.it|    0|        false|     0| false|     false|1224q5l|                 false|            true|  false|              false|              true|  false|    true| null| false|t3_1224q5l|    false|        1587|            26|       null|  false|                all_ads|/r/funny/comments...| false|hosted:video|   6|     false|          null|false| 35903|                    |                null|        true|  false|   false|               funny|    t5_2qh33|                r/funny|             48228918|        public|          null|https://b.thumbs....|This mad ninja ma...|            null|                    0| 35903|        0.94|      null|  false|         all_ads|   6|20230326|\n",
      "|           null|   false|      King_DeandDe|          null|     t2_vkpkyan|         false|    true|    null|  false|1.679833242E9|1.679833242E9|           null|         null|           i.redd.it|    0|        false|     0| false|     false|122keu9|                 false|            true|  false|              false|              true|  false|   false| null| false|t3_122keu9|    false|          65|             1|       null|  false|               some_ads|/r/rareinsults/co...| false|       image|   7|     false|          null|false|  6739|                    |                null|        true|  false|   false|         rareinsults|    t5_48t85|          r/rareinsults|              2335804|        public|          null|https://b.thumbs....|This is some Rock...|            null|                    0|  6739|        0.98|      null|  false|        some_ads|   7|20230326|\n",
      "|           null|   false|          SinjiOnO|          null|       t2_8fc0w|          true|    true|    null|  false|1.679827678E9|1.679827678E9|           null|         null|           v.redd.it|    0|        false|     0| false|     false|122igsg|                 false|            true|  false|              false|              true|  false|    true| null| false|t3_122igsg|    false|         630|            12|       null|  false|                all_ads|/r/nextfuckinglev...| false|hosted:video|   6|     false|          null|false| 30615|                    |                null|        true|  false|   false|    nextfuckinglevel|    t5_m0bnr|     r/nextfuckinglevel|              7811511|        public|           top|https://b.thumbs....|British steam loc...|            null|                    0| 30615|        0.98|      null|  false|         all_ads|   6|20230326|\n",
      "|           null|   false|        DrAnjaDick|          null|    t2_10ozdfyg|         false|    true|    null|  false| 1.67983359E9| 1.67983359E9|           null|         null|           v.redd.it|    0|        false|     0| false|     false|122kjne|                 false|            true|  false|              false|              true|  false|    true| null| false|t3_122kjne|    false|         681|             3|       null|  false|                all_ads|/r/interestingasf...| false|hosted:video|   6|     false|          null|false| 14575|                    |                null|        true|  false|   false|   interestingasfuck|    t5_2qhsa|    r/interestingasfuck|             11309439|        public|          null|https://b.thumbs....|Saw a post in her...|            null|                    1| 14575|        0.94|      null|  false|         all_ads|   6|20230326|\n",
      "|           null|   false|            elch3w|          null|    t2_558iw72z|          true|    true|    null|  false|1.679791124E9|1.679791124E9|           null|         null|          reddit.com|    0|        false|     0| false|     false|11isfra|                 false|            true|  false|              false|              true|  false|   false| null| false|t3_11isfra|    false|         401|             2|       null|  false|                all_ads|/r/memes/comments...| false|        null|   6|     false|          null|false|122730|                    |                null|        true|  false|   false|               memes|    t5_2qjpg|                r/memes|             24868829|        public|          null|             default|R/MEMES MEME QUIZ #3|            null|                    0|122730|        0.92|      null|  false|         all_ads|   6|20230326|\n",
      "|           null|   false|   diamondsodacoma|          null|    t2_3quflxc8|         false|    true|    null|  false|1.679774203E9|1.679774203E9|           null|         null|           v.redd.it|    0|        false|     0| false|     false|121x73f|                 false|            true|  false|              false|              true|  false|    true| null| false|t3_121x73f|    false|        2234|             5|       null|  false|                   null|/r/PublicFreakout...| false|hosted:video|null|     false|          null|false| 32486|                    |                null|        true|  false|   false|      PublicFreakout|    t5_2yrq6|       r/PublicFreakout|              4481849|        public|          null|https://a.thumbs....|Innocent gamer ge...|            null|                    0| 32486|        0.93|      null|  false|            null|null|20230326|\n",
      "|           null|   false|        Sky-lander|          null|    t2_5bqfmbbx|         false|    true|    null|  false|  1.6798243E9|  1.6798243E9|           null|         null|           i.redd.it|    0|        false|     0| false|     false|122hf9z|                 false|            true|  false|              false|              true|  false|   false| null| false|t3_122hf9z|    false|         770|             2|       null|  false|                all_ads|/r/meirl/comments...| false|       image|   6|     false|          null|false| 26062|                    |                null|        true|  false|   false|               meirl|    t5_2s5ti|                r/meirl|              2377287|        public|          null|https://b.thumbs....|               meirl|            null|                    0| 26062|        0.92|      null|  false|         all_ads|   6|20230326|\n",
      "|           null|   false|          mindyour|          null|    t2_4dxpzq1h|          true|    true|    null|  false| 1.67981346E9| 1.67981346E9|           null|         null|           v.redd.it|    0|        false|     1| false|     false|122dry7|                 false|            true|  false|              false|              true|  false|    true| null| false|t3_122dry7|    false|         802|            10|       null|  false|                all_ads|/r/MadeMeSmile/co...| false|hosted:video|   6|     false|          null|false| 69390|                    |                null|        true|  false|   false|         MadeMeSmile|    t5_2uqcm|          r/MadeMeSmile|              7429844|        public|          null|https://b.thumbs....|Being a dad mean ...|            null|                    9| 69390|        0.94|      null|  false|         all_ads|   6|20230326|\n",
      "|           null|   false|           newnemo|          null|       t2_jn0nv|          true|    true|    null|  false|1.679822391E9|1.679822391E9|           null|         null|       firstpost.com|    0|        false|     0| false|     false|122gu9d|                 false|            true|  false|              false|              true|  false|   false| null| false|t3_122gu9d|    false|        1415|            12|       null|  false|                all_ads|/r/worldnews/comm...| false|        link|   6|     false|          null|false| 22533|                    |                null|        true|  false|   false|           worldnews|    t5_2qh13|            r/worldnews|             31306878|        public|          null|             default|Dalai Lama names ...|            null|                    3| 22533|        0.95|      null|  false|         all_ads|   6|20230326|\n",
      "|           null|   false|     Iam_Unknown17|          null|    t2_vjp11krd|         false|    true|    null|  false|1.679828349E9|1.679828349E9|           null|         null|           i.redd.it|    0|        false|     0| false|     false|122iodl|                 false|            true|  false|              false|              true|  false|   false| null| false|t3_122iodl|    false|          63|             0|       null|  false|                all_ads|/r/oddlyspecific/...| false|       image|   6|     false|          null|false|  7249|                    |                null|        true|  false|   false|       oddlyspecific|    t5_2wjlc|        r/oddlyspecific|              1340171|        public|          null|https://b.thumbs....|Straight towards ...|            null|                    0|  7249|        0.97|      null|  false|         all_ads|   6|20230326|\n",
      "+---------------+--------+------------------+--------------+---------------+--------------+--------+--------+-------+-------------+-------------+---------------+-------------+--------------------+-----+-------------+------+------+----------+-------+----------------------+----------------+-------+-------------------+------------------+-------+--------+-----+------+----------+---------+------------+--------------+-----------+-------+-----------------------+--------------------+------+------------+----+----------+--------------+-----+------+--------------------+--------------------+------------+-------+--------+--------------------+------------+-----------------------+---------------------+--------------+--------------+--------------------+--------------------+----------------+---------------------+------+------------+----------+-------+----------------+----+--------+\n",
      "only showing top 20 rows\n",
      "\n"
     ]
    }
   ],
   "source": [
    "df_final.show()"
   ]
  },
  {
   "cell_type": "code",
   "execution_count": 11,
   "id": "78e12885-fc36-4670-b2ac-9ca123e24583",
   "metadata": {},
   "outputs": [],
   "source": [
    "df_final.write.mode(\"overwrite\").parquet(f\"s3a://{minio_bucket}/processed/{output_file}/{output_file}_{today}\")"
   ]
  }
 ],
 "metadata": {
  "kernelspec": {
   "display_name": "Python 3 (ipykernel)",
   "language": "python",
   "name": "python3"
  },
  "language_info": {
   "codemirror_mode": {
    "name": "ipython",
    "version": 3
   },
   "file_extension": ".py",
   "mimetype": "text/x-python",
   "name": "python",
   "nbconvert_exporter": "python",
   "pygments_lexer": "ipython3",
   "version": "3.10.6"
  }
 },
 "nbformat": 4,
 "nbformat_minor": 5
}
