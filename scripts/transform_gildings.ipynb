{
 "cells": [
  {
   "cell_type": "code",
   "execution_count": 1,
   "id": "c677f0ff-25b2-4603-858b-f4ec28d161b4",
   "metadata": {},
   "outputs": [
    {
     "data": {
      "text/html": [
       "<style>pre { white-space: pre !important; }</style>"
      ],
      "text/plain": [
       "<IPython.core.display.HTML object>"
      ]
     },
     "metadata": {},
     "output_type": "display_data"
    }
   ],
   "source": [
    "from pyspark.sql import SparkSession\n",
    "from vars import *\n",
    "from datetime import date\n",
    "from functions import loadConfigs\n",
    "import os\n",
    "from pyspark.sql.functions import explode\n",
    "from pyspark.sql.functions import lit\n",
    "from pyspark.sql import functions as F\n",
    "from delta import *\n",
    "\n",
    "# minio credentials\n",
    "minio_endpoint = \"http://minio:9000\"\n",
    "minio_access_key = \"iQekrU3nA33aKktu2GMo\"\n",
    "minio_secret_key = \"1OGQ3m1lWEZVQ31xKfPCKmZVFVb2lXwCorjZr1d1\"\n",
    "minio_region = \"us-east-1\"\n",
    "minio_bucket = \"reddit-datalake\"\n",
    "\n",
    "builder = loadConfigs(SparkSession.builder)\n",
    "spark = configure_spark_with_delta_pip(builder).getOrCreate()\n",
    "\n",
    "from IPython.core.display import HTML\n",
    "display(HTML(\"<style>pre { white-space: pre !important; }</style>\"))"
   ]
  },
  {
   "cell_type": "code",
   "execution_count": 2,
   "id": "8886cc94-63d1-45c9-b734-cc0af002e070",
   "metadata": {},
   "outputs": [],
   "source": [
    "from columns import gildings"
   ]
  },
  {
   "cell_type": "code",
   "execution_count": 3,
   "id": "69fd9a4f-7b67-40cf-9e88-23057661b14d",
   "metadata": {},
   "outputs": [],
   "source": [
    "# today = date.today().strftime('%Y%m%d')\n",
    "today = 20230610\n",
    "\n",
    "output_folder = \"gildings\"\n",
    "output_file = \"gildings\"\n",
    "\n",
    "df_raw = spark.read.option(\"header\", \"true\") \\\n",
    "    .json(f\"s3a://{minio_bucket}/bronze/popular_{today}.json\")\n",
    "\n",
    "df_raw = df_raw.select(explode(df_raw.data.children.data).alias(\"data\"))\n",
    "df_raw = df_raw.select(\"data.*\")\n",
    "\n",
    "df_gildings = df_raw.select(\"id\", \"author\", \"gilded\", \"gildings\", \"is_video\", \"score\", \"subreddit_id\", \"subreddit\") \\\n",
    "                      .withColumnRenamed(\"id\", \"post_id\")\n",
    "\n",
    "df_gildings = df_gildings.select(\"*\", \"gildings.*\")\n",
    "\n",
    "if \"gid_1\" not in df_gildings.columns:\n",
    "    df_gildings = df_gildings.withColumn(\"gid_1\", lit(None).cast(IntegerType()))\n",
    "\n",
    "df_renamed = df_gildings.withColumnRenamed(\"gid_1\", \"gild_silver\") \\\n",
    "                        .withColumnRenamed(\"gid_2\", \"gild_gold\") \\\n",
    "                        .withColumnRenamed(\"gid_3\", \"gild_platinum\")\n",
    "\n",
    "df_final = df_renamed.dropDuplicates()\n",
    "\n",
    "df_final = df_final.withColumn(\"dateid\", lit(today))\n",
    "\n",
    "df_final = df_final.select(gildings)\n",
    "\n",
    "# df_final.write.mode(\"overwrite\").parquet(f\"s3a://{minio_bucket}/silver/{output_folder}/{output_file}_{today}\")"
   ]
  },
  {
   "cell_type": "code",
   "execution_count": 4,
   "id": "e33e05d8-7021-44b9-9a3b-a84ab7d8767f",
   "metadata": {},
   "outputs": [
    {
     "name": "stdout",
     "output_type": "stream",
     "text": [
      "+-------+-------------------+------+------------------+-----------+---------+-------------+--------+-----+------------+--------------------+--------+\n",
      "|post_id|             author|gilded|          gildings|gild_silver|gild_gold|gild_platinum|is_video|score|subreddit_id|           subreddit|  dateid|\n",
      "+-------+-------------------+------+------------------+-----------+---------+-------------+--------+-----+------------+--------------------+--------+\n",
      "|145hgit|TheUndeadGunslinger|     1|      {1, 1, null}|          1|        1|         null|   false|20451|    t5_2qh03|              gaming|20230610|\n",
      "|145hijg|     yycsoftwaredev|     0|{null, null, null}|       null|     null|         null|   false| 3123|    t5_2qh68|              canada|20230610|\n",
      "|145uv3p|            esberat|     0|{null, null, null}|       null|     null|         null|    true| 5147|    t5_qir9n|               HolUp|20230610|\n",
      "|145owhy|        BigHoneyBot|     0|{null, null, null}|       null|     null|         null|   false|  830|    t5_2segs|       denvernuggets|20230610|\n",
      "|14571he|      zazzlekdazzle|     0|{null, null, null}|       null|     null|         null|   false|19176|    t5_2s5oq|         LifeProTips|20230610|\n",
      "|145g6gz|             they63|     0|{null, null, null}|       null|     null|         null|   false|13608|    t5_3jp3p|   LeopardsAteMyFace|20230610|\n",
      "|145up4j|      MarthaFarcuss|     0|{null, null, null}|       null|     null|         null|    true| 5227|    t5_3cs2l|            fuckcars|20230610|\n",
      "|145twjb|         MahdeenSky|     0|{null, null, null}|       null|     null|         null|    true| 3925|   t5_2cxozx|       discordVideos|20230610|\n",
      "|145p0w0|        lonelymills|     0|{null, null, null}|       null|     null|         null|   false|10238|    t5_48t85|         rareinsults|20230610|\n",
      "|145opim|         Shark-Tail|     0|{null, null, null}|       null|     null|         null|   false| 2320|    t5_38jf0|      LivestreamFail|20230610|\n",
      "|145ghvn|     StarKiller-117|     0|{null, null, null}|       null|     null|         null|   false| 4348|    t5_2qqt8|              batman|20230610|\n",
      "|145oa5r|       Seraphenigma|     0|{null, null, null}|       null|     null|         null|    true|10892|    t5_2tycb|       OldSchoolCool|20230610|\n",
      "|145vdyv|            benp242|     0|{null, null, null}|       null|     null|         null|   false| 3846|    t5_3gcwj|      wholesomememes|20230610|\n",
      "|145rbsd|        Kammler1944|     0|{null, null, null}|       null|     null|         null|    true|13095|   t5_45hae8|  CrazyFuckingVideos|20230610|\n",
      "|1455jwd|          demonya99|     0|{null, null, null}|       null|     null|         null|    true|20671|    t5_3jj03|iamatotalpieceofshit|20230610|\n",
      "|145f0u1|            AFoxGuy|     0|{null, null, null}|       null|     null|         null|   false|14820|    t5_2qh1f|               apple|20230610|\n",
      "|1459rr0|          Joseki100|     0|{null, null, null}|       null|     null|         null|   false| 4752|    t5_3h47q|      NintendoSwitch|20230610|\n",
      "|145uckp|            brylex1|     0|{null, null, null}|       null|     null|         null|   false| 3999|    t5_2usxq|         shitposting|20230610|\n",
      "|145prpm|      xXthe_beansXx|     1|   {null, 1, null}|       null|        1|         null|   false|18833|    t5_35n7t|  WhitePeopleTwitter|20230610|\n",
      "|145lm8q|         WredditMod|     0|{null, null, null}|       null|     null|         null|   false| 2790|    t5_2sljg|       SquaredCircle|20230610|\n",
      "+-------+-------------------+------+------------------+-----------+---------+-------------+--------+-----+------------+--------------------+--------+\n",
      "only showing top 20 rows\n",
      "\n"
     ]
    }
   ],
   "source": [
    "df_final.show()"
   ]
  },
  {
   "cell_type": "code",
   "execution_count": 5,
   "id": "9f5139af-7a16-4ab0-a550-cbb3acd07d60",
   "metadata": {},
   "outputs": [],
   "source": [
    "df_final.write.format(\"delta\").mode(\"overwrite\").save(f\"s3a://{minio_bucket}/silver/{output_folder}/{output_file}_{today}\")"
   ]
  },
  {
   "cell_type": "code",
   "execution_count": null,
   "id": "6d186859-2a56-429a-80ad-6295340fafeb",
   "metadata": {},
   "outputs": [],
   "source": []
  }
 ],
 "metadata": {
  "kernelspec": {
   "display_name": "Python 3 (ipykernel)",
   "language": "python",
   "name": "python3"
  },
  "language_info": {
   "codemirror_mode": {
    "name": "ipython",
    "version": 3
   },
   "file_extension": ".py",
   "mimetype": "text/x-python",
   "name": "python",
   "nbconvert_exporter": "python",
   "pygments_lexer": "ipython3",
   "version": "3.10.11"
  }
 },
 "nbformat": 4,
 "nbformat_minor": 5
}
